{
 "cells": [
  {
   "cell_type": "markdown",
   "metadata": {},
   "source": [
    "## Business Objective: \n",
    "##The objective for this project is to analyze the funding data of Indian start-ups from the years 2018 to 2021 to gain a deep understanding of the financial landscape within the Indian start-up ecosystem. The primary focus is to identify the sectors or industries that have consistently demonstrated significant growth potential and attractiveness for investments. This analysis will serve as the foundation for making strategic decisions regarding entry or expansion into the Indian start-up ecosystem, ensuring that resources are directed towards the most promising areas that offer the best prospects for success and return on investment"
   ]
  },
  {
   "cell_type": "code",
   "execution_count": 1,
   "metadata": {},
   "outputs": [],
   "source": [
    "import pyodbc \n",
    "from dotenv import dotenv_values \n",
    "import pandas as pd\n",
    "import seaborn as sns\n",
    "import matplotlib.pyplot as plt\n",
    "import numpy as np\n",
    "import warnings \n",
    "\n",
    "warnings.filterwarnings('ignore')"
   ]
  },
  {
   "cell_type": "code",
   "execution_count": 2,
   "metadata": {},
   "outputs": [],
   "source": [
    "environment_variables = dotenv_values('.env')"
   ]
  },
  {
   "cell_type": "code",
   "execution_count": 3,
   "metadata": {},
   "outputs": [],
   "source": [
    "server = environment_variables.get(\"SERVER\")\n",
    "database = environment_variables.get(\"DATABASE\")\n",
    "username = environment_variables.get(\"UID\")\n",
    "password = environment_variables.get(\"PWD\")\n",
    "\n",
    "\n"
   ]
  },
  {
   "cell_type": "code",
   "execution_count": 4,
   "metadata": {},
   "outputs": [],
   "source": [
    "connection_string = \"DRIVER={SQL Server};SERVER=dap-projects-database.database.windows.net;DATABASE=dapDB;UID=LP1_learner;PWD=Hyp0th3s!$T3$t!ng\"\n"
   ]
  },
  {
   "cell_type": "code",
   "execution_count": 5,
   "metadata": {},
   "outputs": [],
   "source": [
    "connection = pyodbc.connect(connection_string)\n",
    "query = \"Select * from dbo.LP1_startup_funding2020\"\n",
    "\n",
    "data_2020 = pd.read_sql(query,connection)\n",
    "\n"
   ]
  },
  {
   "cell_type": "code",
   "execution_count": null,
   "metadata": {},
   "outputs": [],
   "source": [
    "\n"
   ]
  },
  {
   "cell_type": "code",
   "execution_count": 7,
   "metadata": {},
   "outputs": [],
   "source": [
    "connection = pyodbc.connect(connection_string)\n",
    "query = \"Select * from dbo.LP1_startup_funding2021\"\n",
    "\n",
    "data_2021 = pd.read_sql(query,connection)"
   ]
  },
  {
   "cell_type": "code",
   "execution_count": 10,
   "metadata": {},
   "outputs": [
    {
     "data": {
      "text/plain": [
       "((1209, 9), (1055, 10))"
      ]
     },
     "execution_count": 10,
     "metadata": {},
     "output_type": "execute_result"
    }
   ],
   "source": [
    "data_2021.shape,data_2020.shape"
   ]
  },
  {
   "cell_type": "code",
   "execution_count": 11,
   "metadata": {},
   "outputs": [
    {
     "data": {
      "text/plain": [
       "(89, 9)"
      ]
     },
     "execution_count": 11,
     "metadata": {},
     "output_type": "execute_result"
    }
   ],
   "source": [
    "data_2019 = pd.read_csv(\"startup_funding2019.csv\")\n",
    "data_2019.shape"
   ]
  },
  {
   "cell_type": "code",
   "execution_count": 12,
   "metadata": {},
   "outputs": [
    {
     "data": {
      "text/plain": [
       "(526, 6)"
      ]
     },
     "execution_count": 12,
     "metadata": {},
     "output_type": "execute_result"
    }
   ],
   "source": [
    "data_2018 = pd.read_csv(\"startup_funding2018.csv\")\n",
    "data_2018.shape"
   ]
  },
  {
   "cell_type": "code",
   "execution_count": 13,
   "metadata": {},
   "outputs": [
    {
     "name": "stdout",
     "output_type": "stream",
     "text": [
      "<class 'pandas.core.frame.DataFrame'>\n",
      "RangeIndex: 526 entries, 0 to 525\n",
      "Data columns (total 6 columns):\n",
      " #   Column         Non-Null Count  Dtype \n",
      "---  ------         --------------  ----- \n",
      " 0   Company Name   526 non-null    object\n",
      " 1   Industry       526 non-null    object\n",
      " 2   Round/Series   526 non-null    object\n",
      " 3   Amount         526 non-null    object\n",
      " 4   Location       526 non-null    object\n",
      " 5   About Company  526 non-null    object\n",
      "dtypes: object(6)\n",
      "memory usage: 24.8+ KB\n"
     ]
    }
   ],
   "source": [
    "#listing all the columns for 2018 dataset\n",
    "data_2018.info()"
   ]
  },
  {
   "cell_type": "code",
   "execution_count": 14,
   "metadata": {},
   "outputs": [
    {
     "name": "stdout",
     "output_type": "stream",
     "text": [
      "<class 'pandas.core.frame.DataFrame'>\n",
      "RangeIndex: 89 entries, 0 to 88\n",
      "Data columns (total 9 columns):\n",
      " #   Column         Non-Null Count  Dtype  \n",
      "---  ------         --------------  -----  \n",
      " 0   Company/Brand  89 non-null     object \n",
      " 1   Founded        60 non-null     float64\n",
      " 2   HeadQuarter    70 non-null     object \n",
      " 3   Sector         84 non-null     object \n",
      " 4   What it does   89 non-null     object \n",
      " 5   Founders       86 non-null     object \n",
      " 6   Investor       89 non-null     object \n",
      " 7   Amount($)      89 non-null     object \n",
      " 8   Stage          43 non-null     object \n",
      "dtypes: float64(1), object(8)\n",
      "memory usage: 6.4+ KB\n"
     ]
    }
   ],
   "source": [
    "#listing all the columns for 2019 dataset\n",
    "data_2019.info()"
   ]
  },
  {
   "cell_type": "code",
   "execution_count": 15,
   "metadata": {},
   "outputs": [
    {
     "name": "stdout",
     "output_type": "stream",
     "text": [
      "<class 'pandas.core.frame.DataFrame'>\n",
      "RangeIndex: 1055 entries, 0 to 1054\n",
      "Data columns (total 10 columns):\n",
      " #   Column         Non-Null Count  Dtype  \n",
      "---  ------         --------------  -----  \n",
      " 0   Company_Brand  1055 non-null   object \n",
      " 1   Founded        842 non-null    float64\n",
      " 2   HeadQuarter    961 non-null    object \n",
      " 3   Sector         1042 non-null   object \n",
      " 4   What_it_does   1055 non-null   object \n",
      " 5   Founders       1043 non-null   object \n",
      " 6   Investor       1017 non-null   object \n",
      " 7   Amount         801 non-null    float64\n",
      " 8   Stage          591 non-null    object \n",
      " 9   column10       2 non-null      object \n",
      "dtypes: float64(2), object(8)\n",
      "memory usage: 82.5+ KB\n"
     ]
    }
   ],
   "source": [
    "#listing all the columns for 2020 dataset\n",
    "data_2020.info()"
   ]
  },
  {
   "cell_type": "code",
   "execution_count": 16,
   "metadata": {},
   "outputs": [
    {
     "name": "stdout",
     "output_type": "stream",
     "text": [
      "<class 'pandas.core.frame.DataFrame'>\n",
      "RangeIndex: 1209 entries, 0 to 1208\n",
      "Data columns (total 9 columns):\n",
      " #   Column         Non-Null Count  Dtype  \n",
      "---  ------         --------------  -----  \n",
      " 0   Company_Brand  1209 non-null   object \n",
      " 1   Founded        1208 non-null   float64\n",
      " 2   HeadQuarter    1208 non-null   object \n",
      " 3   Sector         1209 non-null   object \n",
      " 4   What_it_does   1209 non-null   object \n",
      " 5   Founders       1205 non-null   object \n",
      " 6   Investor       1147 non-null   object \n",
      " 7   Amount         1206 non-null   object \n",
      " 8   Stage          781 non-null    object \n",
      "dtypes: float64(1), object(8)\n",
      "memory usage: 85.1+ KB\n"
     ]
    }
   ],
   "source": [
    "#listing all the columns for 2021 dataset\n",
    "data_2021.info()"
   ]
  },
  {
   "cell_type": "markdown",
   "metadata": {},
   "source": [
    "2018 Dataset cleanup"
   ]
  },
  {
   "cell_type": "code",
   "execution_count": 17,
   "metadata": {},
   "outputs": [
    {
     "name": "stdout",
     "output_type": "stream",
     "text": [
      "<class 'pandas.core.frame.DataFrame'>\n",
      "RangeIndex: 526 entries, 0 to 525\n",
      "Data columns (total 6 columns):\n",
      " #   Column         Non-Null Count  Dtype \n",
      "---  ------         --------------  ----- \n",
      " 0   Company Name   526 non-null    object\n",
      " 1   Industry       526 non-null    object\n",
      " 2   Round/Series   526 non-null    object\n",
      " 3   Amount         526 non-null    object\n",
      " 4   Location       526 non-null    object\n",
      " 5   About Company  526 non-null    object\n",
      "dtypes: object(6)\n",
      "memory usage: 24.8+ KB\n"
     ]
    }
   ],
   "source": [
    "data_2018.info()"
   ]
  },
  {
   "cell_type": "code",
   "execution_count": 18,
   "metadata": {},
   "outputs": [
    {
     "data": {
      "text/plain": [
       "Company Name     0\n",
       "Industry         0\n",
       "Round/Series     0\n",
       "Amount           0\n",
       "Location         0\n",
       "About Company    0\n",
       "dtype: int64"
      ]
     },
     "execution_count": 18,
     "metadata": {},
     "output_type": "execute_result"
    }
   ],
   "source": [
    "#checking for null values\n",
    "data_2018.isna().sum()"
   ]
  },
  {
   "cell_type": "code",
   "execution_count": 19,
   "metadata": {},
   "outputs": [
    {
     "name": "stdout",
     "output_type": "stream",
     "text": [
      "<class 'pandas.core.frame.DataFrame'>\n",
      "RangeIndex: 526 entries, 0 to 525\n",
      "Data columns (total 6 columns):\n",
      " #   Column         Non-Null Count  Dtype \n",
      "---  ------         --------------  ----- \n",
      " 0   Company Name   526 non-null    object\n",
      " 1   Industry       526 non-null    object\n",
      " 2   Round/Series   526 non-null    object\n",
      " 3   Amount         526 non-null    object\n",
      " 4   Location       526 non-null    object\n",
      " 5   About Company  526 non-null    object\n",
      "dtypes: object(6)\n",
      "memory usage: 24.8+ KB\n"
     ]
    }
   ],
   "source": [
    "data_2018.info()"
   ]
  },
  {
   "cell_type": "code",
   "execution_count": 20,
   "metadata": {},
   "outputs": [
    {
     "data": {
      "text/html": [
       "<div>\n",
       "<style scoped>\n",
       "    .dataframe tbody tr th:only-of-type {\n",
       "        vertical-align: middle;\n",
       "    }\n",
       "\n",
       "    .dataframe tbody tr th {\n",
       "        vertical-align: top;\n",
       "    }\n",
       "\n",
       "    .dataframe thead th {\n",
       "        text-align: right;\n",
       "    }\n",
       "</style>\n",
       "<table border=\"1\" class=\"dataframe\">\n",
       "  <thead>\n",
       "    <tr style=\"text-align: right;\">\n",
       "      <th></th>\n",
       "      <th>Company Name</th>\n",
       "      <th>Industry</th>\n",
       "      <th>Round/Series</th>\n",
       "      <th>Amount</th>\n",
       "      <th>Location</th>\n",
       "      <th>About Company</th>\n",
       "    </tr>\n",
       "  </thead>\n",
       "  <tbody>\n",
       "    <tr>\n",
       "      <th>0</th>\n",
       "      <td>TheCollegeFever</td>\n",
       "      <td>Brand Marketing, Event Promotion, Marketing, S...</td>\n",
       "      <td>Seed</td>\n",
       "      <td>250000</td>\n",
       "      <td>Bangalore, Karnataka, India</td>\n",
       "      <td>TheCollegeFever is a hub for fun, fiesta and f...</td>\n",
       "    </tr>\n",
       "    <tr>\n",
       "      <th>1</th>\n",
       "      <td>Happy Cow Dairy</td>\n",
       "      <td>Agriculture, Farming</td>\n",
       "      <td>Seed</td>\n",
       "      <td>₹40,000,000</td>\n",
       "      <td>Mumbai, Maharashtra, India</td>\n",
       "      <td>A startup which aggregates milk from dairy far...</td>\n",
       "    </tr>\n",
       "    <tr>\n",
       "      <th>2</th>\n",
       "      <td>MyLoanCare</td>\n",
       "      <td>Credit, Financial Services, Lending, Marketplace</td>\n",
       "      <td>Series A</td>\n",
       "      <td>₹65,000,000</td>\n",
       "      <td>Gurgaon, Haryana, India</td>\n",
       "      <td>Leading Online Loans Marketplace in India</td>\n",
       "    </tr>\n",
       "    <tr>\n",
       "      <th>3</th>\n",
       "      <td>PayMe India</td>\n",
       "      <td>Financial Services, FinTech</td>\n",
       "      <td>Angel</td>\n",
       "      <td>2000000</td>\n",
       "      <td>Noida, Uttar Pradesh, India</td>\n",
       "      <td>PayMe India is an innovative FinTech organizat...</td>\n",
       "    </tr>\n",
       "    <tr>\n",
       "      <th>4</th>\n",
       "      <td>Eunimart</td>\n",
       "      <td>E-Commerce Platforms, Retail, SaaS</td>\n",
       "      <td>Seed</td>\n",
       "      <td>—</td>\n",
       "      <td>Hyderabad, Andhra Pradesh, India</td>\n",
       "      <td>Eunimart is a one stop solution for merchants ...</td>\n",
       "    </tr>\n",
       "  </tbody>\n",
       "</table>\n",
       "</div>"
      ],
      "text/plain": [
       "      Company Name                                           Industry  \\\n",
       "0  TheCollegeFever  Brand Marketing, Event Promotion, Marketing, S...   \n",
       "1  Happy Cow Dairy                               Agriculture, Farming   \n",
       "2       MyLoanCare   Credit, Financial Services, Lending, Marketplace   \n",
       "3      PayMe India                        Financial Services, FinTech   \n",
       "4         Eunimart                 E-Commerce Platforms, Retail, SaaS   \n",
       "\n",
       "  Round/Series       Amount                          Location  \\\n",
       "0         Seed       250000       Bangalore, Karnataka, India   \n",
       "1         Seed  ₹40,000,000        Mumbai, Maharashtra, India   \n",
       "2     Series A  ₹65,000,000           Gurgaon, Haryana, India   \n",
       "3        Angel      2000000       Noida, Uttar Pradesh, India   \n",
       "4         Seed            —  Hyderabad, Andhra Pradesh, India   \n",
       "\n",
       "                                       About Company  \n",
       "0  TheCollegeFever is a hub for fun, fiesta and f...  \n",
       "1  A startup which aggregates milk from dairy far...  \n",
       "2          Leading Online Loans Marketplace in India  \n",
       "3  PayMe India is an innovative FinTech organizat...  \n",
       "4  Eunimart is a one stop solution for merchants ...  "
      ]
     },
     "execution_count": 20,
     "metadata": {},
     "output_type": "execute_result"
    }
   ],
   "source": [
    "data_2018.head()"
   ]
  },
  {
   "cell_type": "code",
   "execution_count": 21,
   "metadata": {},
   "outputs": [
    {
     "data": {
      "text/plain": [
       "<bound method NDFrame.head of           Company Name                                           Industry  \\\n",
       "0      TheCollegeFever  Brand Marketing, Event Promotion, Marketing, S...   \n",
       "1      Happy Cow Dairy                               Agriculture, Farming   \n",
       "2           MyLoanCare   Credit, Financial Services, Lending, Marketplace   \n",
       "3          PayMe India                        Financial Services, FinTech   \n",
       "4             Eunimart                 E-Commerce Platforms, Retail, SaaS   \n",
       "..                 ...                                                ...   \n",
       "521              Udaan   B2B, Business Development, Internet, Marketplace   \n",
       "522  Happyeasygo Group                                    Tourism, Travel   \n",
       "523             Mombay         Food and Beverage, Food Delivery, Internet   \n",
       "524         Droni Tech                             Information Technology   \n",
       "525            Netmeds         Biotechnology, Health Care, Pharmaceutical   \n",
       "\n",
       "    Round/Series       Amount                          Location  \\\n",
       "0           Seed       250000       Bangalore, Karnataka, India   \n",
       "1           Seed  ₹40,000,000        Mumbai, Maharashtra, India   \n",
       "2       Series A  ₹65,000,000           Gurgaon, Haryana, India   \n",
       "3          Angel      2000000       Noida, Uttar Pradesh, India   \n",
       "4           Seed            —  Hyderabad, Andhra Pradesh, India   \n",
       "..           ...          ...                               ...   \n",
       "521     Series C    225000000       Bangalore, Karnataka, India   \n",
       "522     Series A            —           Haryana, Haryana, India   \n",
       "523         Seed         7500        Mumbai, Maharashtra, India   \n",
       "524         Seed  ₹35,000,000        Mumbai, Maharashtra, India   \n",
       "525     Series C     35000000        Chennai, Tamil Nadu, India   \n",
       "\n",
       "                                         About Company  \n",
       "0    TheCollegeFever is a hub for fun, fiesta and f...  \n",
       "1    A startup which aggregates milk from dairy far...  \n",
       "2            Leading Online Loans Marketplace in India  \n",
       "3    PayMe India is an innovative FinTech organizat...  \n",
       "4    Eunimart is a one stop solution for merchants ...  \n",
       "..                                                 ...  \n",
       "521  Udaan is a B2B trade platform, designed specif...  \n",
       "522            HappyEasyGo is an online travel domain.  \n",
       "523  Mombay is a unique opportunity for housewives ...  \n",
       "524  Droni Tech manufacture UAVs and develop softwa...  \n",
       "525       Welcome to India's most convenient pharmacy!  \n",
       "\n",
       "[526 rows x 6 columns]>"
      ]
     },
     "execution_count": 21,
     "metadata": {},
     "output_type": "execute_result"
    }
   ],
   "source": [
    "data_2018.head"
   ]
  },
  {
   "cell_type": "code",
   "execution_count": 22,
   "metadata": {},
   "outputs": [
    {
     "name": "stdout",
     "output_type": "stream",
     "text": [
      "<class 'pandas.core.frame.DataFrame'>\n",
      "RangeIndex: 526 entries, 0 to 525\n",
      "Data columns (total 6 columns):\n",
      " #   Column         Non-Null Count  Dtype \n",
      "---  ------         --------------  ----- \n",
      " 0   Company Name   526 non-null    object\n",
      " 1   Industry       526 non-null    object\n",
      " 2   Round/Series   526 non-null    object\n",
      " 3   Amount         526 non-null    object\n",
      " 4   Location       526 non-null    object\n",
      " 5   About Company  526 non-null    object\n",
      "dtypes: object(6)\n",
      "memory usage: 24.8+ KB\n"
     ]
    }
   ],
   "source": [
    "data_2018.info()\n",
    "\n"
   ]
  },
  {
   "cell_type": "code",
   "execution_count": 23,
   "metadata": {},
   "outputs": [
    {
     "name": "stdout",
     "output_type": "stream",
     "text": [
      "<class 'pandas.core.series.Series'>\n",
      "RangeIndex: 526 entries, 0 to 525\n",
      "Series name: Amount\n",
      "Non-Null Count  Dtype \n",
      "--------------  ----- \n",
      "526 non-null    object\n",
      "dtypes: object(1)\n",
      "memory usage: 4.2+ KB\n"
     ]
    }
   ],
   "source": [
    "data_2018['Amount'].info()"
   ]
  },
  {
   "cell_type": "code",
   "execution_count": 24,
   "metadata": {},
   "outputs": [
    {
     "data": {
      "text/plain": [
       "0           250000\n",
       "1      ₹40,000,000\n",
       "2      ₹65,000,000\n",
       "3          2000000\n",
       "4                —\n",
       "          ...     \n",
       "521      225000000\n",
       "522              —\n",
       "523           7500\n",
       "524    ₹35,000,000\n",
       "525       35000000\n",
       "Name: Amount, Length: 526, dtype: object"
      ]
     },
     "execution_count": 24,
     "metadata": {},
     "output_type": "execute_result"
    }
   ],
   "source": [
    "data_2018['Amount']"
   ]
  },
  {
   "cell_type": "code",
   "execution_count": 25,
   "metadata": {},
   "outputs": [],
   "source": [
    "# Cleaning the Amounts column\n",
    "## Removing the commas and dashes from the Amounts\n",
    "data_2018['Amount'] = data_2018['Amount'].apply(str)\n",
    "data_2018['Amount'].replace(\",\", \"\", inplace = True, regex=True)\n",
    "data_2018['Amount'].replace(\"—\", 0, inplace = True, regex=True)\n",
    "data_2018['Amount'].replace(\"$\", \"\", inplace = True, regex=True)"
   ]
  },
  {
   "cell_type": "code",
   "execution_count": 26,
   "metadata": {},
   "outputs": [],
   "source": [
    "## Creating temporary columns to help with the conversion of INR to USD\n",
    "data_2018['INR Amount'] = data_2018['Amount'].str.rsplit('₹', n = 2).str[1]\n",
    "data_2018['INR Amount'] = data_2018['INR Amount'].apply(float).fillna(0)\n",
    "data_2018['USD Amount'] = data_2018['INR Amount'] * 0.0146\n",
    "data_2018['USD Amount'] = data_2018['USD Amount'].replace(0, np.nan)\n",
    "data_2018['USD Amount'] = data_2018['USD Amount'].fillna(data_2018['Amount'])\n",
    "data_2018['USD Amount'] = data_2018['USD Amount'].replace(\"$\", \"\", regex=True)\n",
    "data_2018[\"Amount\"] = data_2018[\"USD Amount\"]\n",
    "data_2018[\"Amount\"] = data_2018[\"Amount\"].apply(lambda x: float(str(x).replace(\"$\",\"\")))\n",
    "data_2018[\"Amount\"] = data_2018[\"Amount\"].replace(0, np.nan)"
   ]
  },
  {
   "cell_type": "code",
   "execution_count": 27,
   "metadata": {},
   "outputs": [],
   "source": [
    "# Dropping the temporary columns\n",
    "data_2018.drop(columns = [\"INR Amount\", \"USD Amount\"], inplace = True)"
   ]
  },
  {
   "cell_type": "code",
   "execution_count": 28,
   "metadata": {},
   "outputs": [
    {
     "name": "stdout",
     "output_type": "stream",
     "text": [
      "<class 'pandas.core.frame.DataFrame'>\n",
      "RangeIndex: 526 entries, 0 to 525\n",
      "Data columns (total 6 columns):\n",
      " #   Column         Non-Null Count  Dtype  \n",
      "---  ------         --------------  -----  \n",
      " 0   Company Name   526 non-null    object \n",
      " 1   Industry       526 non-null    object \n",
      " 2   Round/Series   526 non-null    object \n",
      " 3   Amount         378 non-null    float64\n",
      " 4   Location       526 non-null    object \n",
      " 5   About Company  526 non-null    object \n",
      "dtypes: float64(1), object(5)\n",
      "memory usage: 24.8+ KB\n"
     ]
    }
   ],
   "source": [
    "data_2018.info()"
   ]
  },
  {
   "cell_type": "code",
   "execution_count": 29,
   "metadata": {},
   "outputs": [
    {
     "data": {
      "text/plain": [
       "array(['Bangalore, Karnataka, India', 'Mumbai, Maharashtra, India',\n",
       "       'Gurgaon, Haryana, India', 'Noida, Uttar Pradesh, India',\n",
       "       'Hyderabad, Andhra Pradesh, India', 'Bengaluru, Karnataka, India',\n",
       "       'Kalkaji, Delhi, India', 'Delhi, Delhi, India', 'India, Asia',\n",
       "       'Hubli, Karnataka, India', 'New Delhi, Delhi, India',\n",
       "       'Chennai, Tamil Nadu, India', 'Mohali, Punjab, India',\n",
       "       'Kolkata, West Bengal, India', 'Pune, Maharashtra, India',\n",
       "       'Jodhpur, Rajasthan, India', 'Kanpur, Uttar Pradesh, India',\n",
       "       'Ahmedabad, Gujarat, India', 'Azadpur, Delhi, India',\n",
       "       'Haryana, Haryana, India', 'Cochin, Kerala, India',\n",
       "       'Faridabad, Haryana, India', 'Jaipur, Rajasthan, India',\n",
       "       'Kota, Rajasthan, India', 'Anand, Gujarat, India',\n",
       "       'Bangalore City, Karnataka, India', 'Belgaum, Karnataka, India',\n",
       "       'Thane, Maharashtra, India', 'Margão, Goa, India',\n",
       "       'Indore, Madhya Pradesh, India', 'Alwar, Rajasthan, India',\n",
       "       'Kannur, Kerala, India', 'Trivandrum, Kerala, India',\n",
       "       'Ernakulam, Kerala, India', 'Kormangala, Karnataka, India',\n",
       "       'Uttar Pradesh, India, Asia', 'Andheri, Maharashtra, India',\n",
       "       'Mylapore, Tamil Nadu, India', 'Ghaziabad, Uttar Pradesh, India',\n",
       "       'Kochi, Kerala, India', 'Powai, Assam, India',\n",
       "       'Guntur, Andhra Pradesh, India', 'Kalpakkam, Tamil Nadu, India',\n",
       "       'Bhopal, Madhya Pradesh, India', 'Coimbatore, Tamil Nadu, India',\n",
       "       'Worli, Maharashtra, India', 'Alleppey, Kerala, India',\n",
       "       'Chandigarh, Chandigarh, India', 'Guindy, Tamil Nadu, India',\n",
       "       'Lucknow, Uttar Pradesh, India'], dtype=object)"
      ]
     },
     "execution_count": 29,
     "metadata": {},
     "output_type": "execute_result"
    }
   ],
   "source": [
    "#inspecting stage column\n",
    "data_2018['Location'].unique()"
   ]
  },
  {
   "cell_type": "code",
   "execution_count": 32,
   "metadata": {},
   "outputs": [
    {
     "data": {
      "text/plain": [
       "array(['Brand Marketing, Event Promotion, Marketing, Sponsorship, Ticketing',\n",
       "       'Agriculture, Farming',\n",
       "       'Credit, Financial Services, Lending, Marketplace',\n",
       "       'Financial Services, FinTech',\n",
       "       'E-Commerce Platforms, Retail, SaaS',\n",
       "       'Cloud Infrastructure, PaaS, SaaS',\n",
       "       'Internet, Leisure, Marketplace', 'Market Research',\n",
       "       'Information Services, Information Technology', 'Mobile Payments',\n",
       "       'B2B, Shoes', 'Internet',\n",
       "       'Apps, Collaboration, Developer Platform, Enterprise Software, Messaging, Productivity Tools, Video Chat',\n",
       "       'Food Delivery', 'Industrial Automation',\n",
       "       'Automotive, Search Engine, Service Industry',\n",
       "       'Finance, Internet, Travel',\n",
       "       'Accounting, Business Information Systems, Business Travel, Finance, SaaS',\n",
       "       'Artificial Intelligence, Product Search, SaaS, Service Industry, Software',\n",
       "       'Internet of Things, Waste Management',\n",
       "       'Air Transportation, Freight Service, Logistics, Marine Transportation',\n",
       "       'Financial Services', 'Food and Beverage', 'Autonomous Vehicles',\n",
       "       'Enterprise Software, Health Care, Hospital, Parenting, Personal Health, SaaS',\n",
       "       'Agriculture, Analytics, Big Data, Farming',\n",
       "       'Logistics, Supply Chain Management',\n",
       "       'Financial Services, Lending',\n",
       "       'Automotive, Marketplace, Online Portals',\n",
       "       'Artificial Intelligence',\n",
       "       'Internet of Things, Telecommunications', 'Insurance',\n",
       "       'Information Technology, Logistics, Supply Chain Management',\n",
       "       'Blockchain, Developer Tools, Enterprise Software',\n",
       "       'Industrial Automation, Logistics, Supply Chain Management',\n",
       "       'Food and Beverage, Food Delivery, Snack Food', 'Education',\n",
       "       'E-Commerce, Fashion, Jewelry, Retail', 'Renewable Energy',\n",
       "       'E-Learning, Education',\n",
       "       'Clean Energy, CleanTech, Laundry and Dry-cleaning',\n",
       "       'E-Commerce, Fashion, Mobile',\n",
       "       'Apps, Messaging, Navigation, Public Safety', 'Transportation',\n",
       "       'Fitness, Health Care, Wellness',\n",
       "       'Artificial Intelligence, Machine Learning, SaaS, Virtual Assistant',\n",
       "       'Hospitality', 'Food and Beverage, Tea',\n",
       "       'Media and Entertainment, News, Outdoors',\n",
       "       'Broadcasting, Media and Entertainment, Music, Music Streaming, Video, Video Streaming',\n",
       "       'B2B, Information Services, Information Technology',\n",
       "       'EdTech, Education, Enterprise Software, Peer to Peer',\n",
       "       'Health Care, Medical', 'E-Commerce',\n",
       "       'Health Care, Hospital, Wellness', '—', 'Sports',\n",
       "       'Big Data, Consumer Lending, FinTech',\n",
       "       'Cloud Computing, Computer, Semiconductor',\n",
       "       'Health Care, Medical, Pharmaceutical', 'Food Processing, Retail',\n",
       "       'Trading Platform', \"Consumer Goods, Lifestyle, Men's\", 'Wellness',\n",
       "       'Food and Beverage, Food Processing, Nutrition', 'Fashion',\n",
       "       'Automotive, Electric Vehicle, Energy Storage',\n",
       "       'Consulting, Retail, Social',\n",
       "       'Biotechnology, Life Science, Pharmaceutical, Product Research',\n",
       "       'Health Care',\n",
       "       'Credit, Financial Services, FinTech, Personal Finance',\n",
       "       'Communities, Coworking, Incubators',\n",
       "       'Consumer, Financial Services, FinTech',\n",
       "       'Consumer Applications, Information Services, Location Based Services, Virtual Assistant',\n",
       "       'Mobile, Mobile Apps, Personalization, Test and Measurement, Web Apps',\n",
       "       'Education, Financial Services, FinTech',\n",
       "       'Advertising, Consulting, Digital Marketing',\n",
       "       'Marketplace, Real Estate, Rental Property',\n",
       "       'E-Learning, Internet, Video Games',\n",
       "       'Artificial Intelligence, Cloud Computing, Video',\n",
       "       'Health Care, Information Technology', 'Aerospace',\n",
       "       'E-Commerce, Fashion, Lifestyle',\n",
       "       'Artificial Intelligence, Business Intelligence, Industrial Automation, Machine Learning',\n",
       "       'Home Decor, Home Improvement, Home Renovation, Home Services, Interior Design, Smart Home',\n",
       "       'EdTech, Education, Information Services, SaaS', 'Energy, Solar',\n",
       "       'B2B, Biometrics, Cyber Security, Fraud Detection, SaaS, Security',\n",
       "       'Artificial Intelligence, Social',\n",
       "       'Logistics, Transportation, Travel',\n",
       "       'Digital Marketing, SEM, SEO, Web Development',\n",
       "       'Health Care, Hospital, Medical', 'Finance, Financial Services',\n",
       "       'Food Delivery, Food Processing, Internet',\n",
       "       'E-Commerce, Food and Beverage, Internet',\n",
       "       'Fitness, Food and Beverage, Health Care, Nutrition',\n",
       "       'EdTech, Education, Knowledge Management',\n",
       "       'Apps, Beauty, Consumer, Retail',\n",
       "       'Creative Agency, Crowdfunding, EdTech, Health Care, Internet, Medical, Non Profit, Personal Health',\n",
       "       'Consumer Lending, Financial Services, FinTech, Insurance, Lending, Mobile Payments, Payments, Wealth Management',\n",
       "       'E-Learning, Education, Higher Education', 'Health Diagnostics',\n",
       "       'EdTech, Education', 'Financial Services, SaaS, Security',\n",
       "       'Banking, Finance, Financial Services, Non Profit',\n",
       "       'B2B, E-Commerce, Mobile',\n",
       "       'Automotive, Electric Vehicle, Renewable Energy', 'E-Learning',\n",
       "       'Embedded Systems, Health Care, Medical, Product Research',\n",
       "       'Apps, E-Commerce, Internet',\n",
       "       'Advertising, Human Resources, Marketing',\n",
       "       'Beauty, Fitness, Home Services, Internet',\n",
       "       'Health Care, Medical Device, Public Safety',\n",
       "       'Food Delivery, Online Portals, Restaurants',\n",
       "       'AgTech, B2B, Supply Chain Management',\n",
       "       'Credit Cards, Finance, Mobile Apps, Mobile Payments, Payments',\n",
       "       'Software',\n",
       "       'EdTech, Education, Higher Education, Secondary Education',\n",
       "       'Manufacturing, Retail', 'Manufacturing',\n",
       "       'Information Services, Information Technology, InsurTech',\n",
       "       'Consumer Lending, FinTech', 'Internet, Social Network, TV',\n",
       "       'Beauty, Health Care', 'Hospital', 'Events',\n",
       "       '3D Printing, Manufacturing, Product Design', 'Automotive',\n",
       "       'Automotive, Retail', 'Apps, Audio', 'Automotive, E-Commerce',\n",
       "       'Digital Entertainment, Fantasy Sports, Sports',\n",
       "       'E-Learning, EdTech, Education',\n",
       "       'Funding Platform, Incubators, Non Profit',\n",
       "       'Hospitality, Hotel, Leisure, Travel',\n",
       "       'Classifieds, Internet, Marketplace, Rental Property',\n",
       "       'Banking, E-Learning, Trading Platform',\n",
       "       'E-Commerce, Mobile, Retail',\n",
       "       'Artificial Intelligence, Information Technology',\n",
       "       'Enterprise Resource Planning (ERP), Information Services, Information Technology, Real Estate',\n",
       "       'Banking, Finance, Financial Services',\n",
       "       'Audio, Mobile, Tourism, Travel',\n",
       "       'Energy, Energy Storage, Infrastructure',\n",
       "       'Government, Information Technology, Software',\n",
       "       'Information Technology',\n",
       "       'Education, Information Technology, Internet, Mobile, Software',\n",
       "       'Consumer Lending, Financial Services, Lending, Personal Finance',\n",
       "       'Digital Media, Internet, Media and Entertainment, Online Portals, Social Media',\n",
       "       'Business Intelligence, Customer Service, Market Research, SaaS',\n",
       "       'Credit, Financial Services, FinTech, Lending',\n",
       "       'Children, Education, Parenting',\n",
       "       'Automotive, Battery, Energy, Energy Storage',\n",
       "       'E-Commerce, Mobile, Sharing Economy',\n",
       "       'Food Delivery, Organic, Organic Food', 'Mobile', 'Rental',\n",
       "       'Travel', 'Consumer', 'B2B, Farming, Marketplace',\n",
       "       'Wealth Management', 'Biotechnology',\n",
       "       'Education, Gaming, Training', 'Veterinary',\n",
       "       'Internet, Mobile, Social Entrepreneurship, Telecommunications, Wireless',\n",
       "       'Health Care, Hospital, Supply Chain Management',\n",
       "       'Tourism, Travel', 'Hospitality, Real Estate', 'Finance',\n",
       "       'Digital Media, EBooks, Publishing, Reading Apps',\n",
       "       'Consumer Electronics, Embedded Systems, Hardware, Smart Building, Software',\n",
       "       'Food and Beverage, Food Processing',\n",
       "       'Internet, Marketplace, Shopping',\n",
       "       'Analytics, Computer Vision, Enterprise Software, Machine Learning, Natural Language Processing, Speech Recognition',\n",
       "       'Facilities Support Services',\n",
       "       'Automotive, Electric Vehicle, Energy',\n",
       "       'Health Care, Health Diagnostics, Predictive Analytics',\n",
       "       'Cloud Computing, Computer, SaaS, Software',\n",
       "       'Fashion, Lifestyle, Retail', 'Medical', 'Music Streaming',\n",
       "       'Finance, Impact Investing, Internet',\n",
       "       'Internet, Social Entrepreneurship', 'Retail',\n",
       "       'Finance, Impact Investing, Mobile Apps',\n",
       "       'Cloud Computing, Computer, Software',\n",
       "       'Business Development, Market Research, Outsourcing',\n",
       "       'Health Care, Hospitality', 'Internet, Social News, Sports',\n",
       "       'Human Resources', 'Finance, Financial Services, FinTech',\n",
       "       'Customer Service, Software, Video, Video Streaming',\n",
       "       'E-Commerce, Food Processing', 'Training',\n",
       "       'Dietary Supplements, Food and Beverage, Health Care, Organic Food, Snack Food',\n",
       "       'Manufacturing, Oil and Gas, Robotics',\n",
       "       'Artificial Intelligence, Computer, Machine Learning',\n",
       "       'Collaboration, Communities, Coworking, Sharing Economy',\n",
       "       'Big Data, EdTech, Machine Learning', 'Nanotechnology',\n",
       "       'Analytics, Audio, Digital Media, Innovation Management, Internet Radio, Media and Entertainment',\n",
       "       'Financial Services, Lending, Peer to Peer',\n",
       "       'E-Commerce, Furniture, Home Decor, Interior Design, Internet',\n",
       "       'Digital Media', 'File Sharing, Personalization, Social Media',\n",
       "       'Home Decor, Interior Design',\n",
       "       'Health Care, Medical Device, Mobile Apps',\n",
       "       'E-Commerce, Facilities Support Services, Procurement, Supply Chain Management',\n",
       "       'Crowdfunding, Finance, Financial Services',\n",
       "       'Finance, Financial Services, Insurance',\n",
       "       'Children, Education, Online Portals', 'Software, Virtual Reality',\n",
       "       'B2B, Food and Beverage, Food Delivery',\n",
       "       'Catering, Food and Beverage, Food Delivery, Food Processing',\n",
       "       'Food and Beverage, Snack Food', 'Automotive, E-Commerce, Mobile',\n",
       "       'Computer, Digital Marketing, Facilities Support Services, Graphic Design, Internet, Mobile Apps, Social Media Marketing, Web Development',\n",
       "       'Android, Big Data, Blockchain, Cloud Computing, EdTech, Education, Information Technology, iOS, Training, Web Development',\n",
       "       'Analytics, CRM, Loyalty Programs, Machine Learning, Marketing Automation, Retail Technology, SaaS, Small and Medium Businesses',\n",
       "       'Delivery, Information Technology, Mobile Apps',\n",
       "       'Environmental Consulting, Renewable Energy',\n",
       "       'Big Data, Business Intelligence, Financial Services, FinTech, Personal Finance',\n",
       "       'Commercial Real Estate, Coworking, Office Administration, Real Estate',\n",
       "       'Food and Beverage, Food Processing, Organic Food, Snack Food',\n",
       "       'Apps, Health Care, Internet, Mobile Apps, Personal Health',\n",
       "       'Digital Media, Incubators, Social Entrepreneurship',\n",
       "       'Finance, Financial Services, Marketing',\n",
       "       'Biotechnology, Health Care, Life Science, Medical Device',\n",
       "       'Education, Human Resources', 'Consumer Electronics',\n",
       "       'Apps, Health Care, Hospital, Mobile Apps',\n",
       "       'Delivery Service, Logistics, Service Industry',\n",
       "       'Big Data, Data Visualization, Logistics, Software',\n",
       "       'Basketball, Cricket, Cycling, eSports, Fitness, Golf, Health Care, Hockey, Sports, Swimming, Table Tennis, Volley Ball',\n",
       "       'Media and Entertainment, News, Publishing', 'Consulting',\n",
       "       'Big Data, Financial Services, Machine Learning, Predictive Analytics',\n",
       "       'Agriculture, AgTech, Manufacturing',\n",
       "       'Digital Media, News, Publishing', 'Health Care, Hospital',\n",
       "       'B2B, E-Commerce, Enterprise',\n",
       "       'Fraud Detection, Information Services, Security',\n",
       "       'Agriculture, AgTech, Artificial Intelligence, Internet of Things, Machine Learning',\n",
       "       'Cryptocurrency, Trading Platform',\n",
       "       'Finance, FinTech, Mobile Payments', 'Wedding',\n",
       "       'E-Learning, EdTech, Education, Image Recognition, Machine Learning, STEM Education',\n",
       "       'Consumer Goods', 'Digital Entertainment',\n",
       "       'Crowdsourcing, Financial Services, Funding Platform, Venture Capital',\n",
       "       'Delivery, Drones, Geospatial, Robotics',\n",
       "       'Health Care, Information Technology, Management Information Systems',\n",
       "       'Farming',\n",
       "       'Business Travel, Hospitality, Hotel, Marketplace, Tourism, Travel Accommodations',\n",
       "       'Career Planning, Education, Higher Education, Service Industry',\n",
       "       'Medical Device', 'Alternative Medicine, Health Care',\n",
       "       'Internet, Software',\n",
       "       'Dental, Elder Care, Health Care, Home Health Care, Personal Health',\n",
       "       'Financial Services, Insurance, Private Social Networking',\n",
       "       'Consumer Electronics, E-Commerce, E-Commerce Platforms, Electronics, Shipping, Shopping',\n",
       "       'CleanTech', 'Advertising, Internet, Marketing',\n",
       "       'Human Resources, Security, Training',\n",
       "       'Consumer Lending, Finance, FinTech',\n",
       "       'Marketing, Social Media, Video', 'Banking', 'Food Processing',\n",
       "       'Apps', 'Marketing',\n",
       "       'Apps, B2B, Freight Service, Logistics, SaaS, Shipping, Supply Chain Management, Transportation',\n",
       "       'Digital Entertainment, Fantasy Sports, Gaming, Sports',\n",
       "       'Automotive, Last Mile Transportation, Peer to Peer, Ride Sharing',\n",
       "       'Commercial, E-Learning, Education',\n",
       "       'Continuing Education, EdTech, Education, Skill Assessment',\n",
       "       'Smart Cities, Telecommunications', 'Internet of Things, Robotics',\n",
       "       'Apps, Home Services, Information Services, Information Technology',\n",
       "       'Medical, Tourism', 'Career Planning, Education, Internet',\n",
       "       'Fashion, Graphic Design, Wearables',\n",
       "       'Communities, Leisure, Mobile Apps, Software',\n",
       "       'Automotive, Rental, Sharing Economy',\n",
       "       'Energy, Environmental Consulting, Renewable Energy, Solar',\n",
       "       'Information Technology, SaaS, Security',\n",
       "       'Crowdfunding, Financial Services, Internet',\n",
       "       'Customer Service, Information Technology, Internet, Sales Automation',\n",
       "       'Advertising, Artificial Intelligence, Digital Media, iOS, Location Based Services, News, Video, Video on Demand, Video Streaming',\n",
       "       'Credit Cards, Payments, Property Insurance, Property Management, Rental Property',\n",
       "       'Beauty, Cosmetics, Health Care, Service Industry',\n",
       "       'EdTech, Education, Mobile, Tutoring', 'Social Media, Sports',\n",
       "       'Biopharma', 'E-Commerce, E-Commerce Platforms, Retail',\n",
       "       'E-Commerce, Fashion, Shopping',\n",
       "       'Digital Entertainment, Mobile, PC Games',\n",
       "       'Finance, Financial Services, Small and Medium Businesses',\n",
       "       'Artificial Intelligence, Energy, Oil and Gas',\n",
       "       'Computer, FinTech, Risk Management, Software',\n",
       "       'Apps, Financial Services, FinTech',\n",
       "       \"Child Care, Health Care, Hospital, Medical, Women's\",\n",
       "       'Agriculture, Mobile',\n",
       "       'Finance, FinTech, Payments, Property Development, Rental',\n",
       "       'Information Services, Information Technology, Mobile, Software',\n",
       "       'Apps, Fitness, Health Care, mHealth',\n",
       "       'Food and Beverage, Food Delivery', 'Apps, Payments, Retail',\n",
       "       'Health Insurance, Insurance, Life Insurance',\n",
       "       'Rental, Taxi Service, Travel',\n",
       "       'E-Commerce, E-Commerce Platforms, Internet, Retail',\n",
       "       'Financial Services, Professional Services',\n",
       "       'Customer Service, Messaging, Mobile Apps, Personalization',\n",
       "       'Gaming, iOS, Sports',\n",
       "       'E-Commerce, E-Commerce Platforms, Internet, Mobile Apps, Social Media',\n",
       "       'Search Engine',\n",
       "       'Battery, Electric Vehicle, Energy, Renewable Energy, Transportation',\n",
       "       'Agriculture, Farmers Market, Farming',\n",
       "       'Artificial Intelligence, Drones, Navigation, Packaging Services, Robotics',\n",
       "       'Fitness, GreenTech, Internet of Things, Mobile Apps, Ride Sharing, Transportation',\n",
       "       'Mobile, Software, Travel', 'Cosmetics',\n",
       "       'Consulting, Cyber Security, Network Security',\n",
       "       'eSports, Gaming, Video Games', 'Fashion, Jewelry',\n",
       "       'B2B, Medical Device', 'Consumer Goods, Manufacturing',\n",
       "       'Biotechnology, Health Care, Wellness',\n",
       "       'Health Care, Hospital, Medical, Robotics',\n",
       "       'E-Commerce, Fitness, Health Care',\n",
       "       'Financial Services, Venture Capital', 'Accounting, Apps, FinTech',\n",
       "       'Apps, Mobile, Transportation', 'Reading Apps',\n",
       "       'Energy, Renewable Energy, Solar',\n",
       "       'Banking, Financial Services, FinTech', 'Apps, Education, Retail',\n",
       "       'Electric Vehicle',\n",
       "       'Automotive, Battery, Electric Vehicle, Manufacturing, Mechanical Design',\n",
       "       'Automotive, E-Commerce, Marketplace', 'Agriculture',\n",
       "       'Apps, Information Services, Information Technology',\n",
       "       'B2B, Marketplace', 'Packaging Services',\n",
       "       'Computer, Furniture, Software',\n",
       "       'Food Delivery, Hospitality, Reservations, Restaurants, Search Engine',\n",
       "       'Collaboration, Communities, Coworking, Real Estate',\n",
       "       'Accounting, Banking, Finance',\n",
       "       'Cloud Computing, Enterprise Software, Network Hardware, Network Security, SaaS',\n",
       "       'Information Services, Internet, Logistics, Supply Chain Management, Transportation',\n",
       "       'Automotive, E-Commerce, Information Services',\n",
       "       'Delivery, Logistics, Transportation',\n",
       "       'Automotive, E-Commerce Platforms, Marketplace',\n",
       "       'Last Mile Transportation, Railroad, Transportation, Travel',\n",
       "       'Cooking, E-Commerce, Food and Beverage, Food Delivery, Online Portals',\n",
       "       'FinTech, Mobile, Mobile Payments, Payments, Retail Technology',\n",
       "       'Online Games, Software',\n",
       "       'Online Portals, Property Management, Rental',\n",
       "       'E-Commerce, Food and Beverage, Tea',\n",
       "       'Music, Social Network, Video',\n",
       "       'Health Care, Pharmaceutical, Wellness',\n",
       "       'Delivery Service, Food and Beverage, Food Delivery',\n",
       "       'Hospitality, Information Technology, Travel Accommodations',\n",
       "       'Biotechnology, Diabetes, Health Care',\n",
       "       'Autonomous Vehicles, Last Mile Transportation, Recreational Vehicles, Rental',\n",
       "       'Finance, Financial Exchanges, Financial Services, Micro Lending',\n",
       "       'Analytics, Apps, Market Research',\n",
       "       'E-Commerce, E-Commerce Platforms, Furniture, Home Decor, Internet',\n",
       "       'Apps, Mobile, Mobile Apps, Software',\n",
       "       'News, Publishing, Social Media',\n",
       "       'Industrial, Industrial Automation',\n",
       "       'Internet, Mobile Apps, Social Network',\n",
       "       'Health Care, Health Diagnostics, Internet of Things, Life Science, Machine Learning, Medical, Medical Device',\n",
       "       'E-Commerce, Furniture, Interior Design', 'Apps, Events, News',\n",
       "       'Artificial Intelligence, Human Resources, Information Services, Information Technology',\n",
       "       'Logistics, Railroad, Transportation',\n",
       "       'Dating, Private Social Networking',\n",
       "       'Artificial Intelligence, Machine Learning, PaaS',\n",
       "       'Consumer, Furniture, Home Decor, Home Improvement',\n",
       "       'Apps, E-Commerce, Internet, Mobile, Ride Sharing, Transportation',\n",
       "       'Health Care, Health Insurance', 'Energy, Natural Resources',\n",
       "       'E-Commerce, Education, Health Care',\n",
       "       'Apps, Health Care, Pharmaceutical',\n",
       "       'Internet, Knowledge Management',\n",
       "       'Credit, Finance, FinTech, Lending, Sales Automation',\n",
       "       'Banking, Financial Services, Internet',\n",
       "       'E-Commerce, Health Care, Retail',\n",
       "       'Child Care, Information Technology',\n",
       "       'Financial Services, Micro Lending',\n",
       "       'E-Commerce, Retail, Shopping',\n",
       "       'Food and Beverage, Snack Food, Tea',\n",
       "       'Delivery Service, E-Commerce, Logistics',\n",
       "       'Fashion, Lifestyle, Rental', 'Fantasy Sports, Mobile, Sports',\n",
       "       'Beauty, Fashion, Wellness', 'Food and Beverage, Restaurants, Tea',\n",
       "       'Fitness, Sporting Goods, Sports',\n",
       "       'Food and Beverage, Food Processing, Manufacturing',\n",
       "       'E-Learning, Internet', 'Eyewear, Internet',\n",
       "       'Information Technology, Mobile, News, Operating Systems, Social Media, Social News',\n",
       "       'FinTech, Internet, Payments, Service Industry',\n",
       "       'B2B, Business Development, Internet, Marketplace',\n",
       "       'Food and Beverage, Food Delivery, Internet',\n",
       "       'Biotechnology, Health Care, Pharmaceutical'], dtype=object)"
      ]
     },
     "execution_count": 32,
     "metadata": {},
     "output_type": "execute_result"
    }
   ],
   "source": [
    "#inspecting Sector  column\n",
    "data_2018['Sector'].unique()"
   ]
  },
  {
   "cell_type": "code",
   "execution_count": 31,
   "metadata": {},
   "outputs": [],
   "source": [
    "data_2018 = data_2018.rename(columns =  {'Company Name':'Company/Brand', 'Industry':'Sector', 'Location':'HeadQuarter','Round/Series':'Stage', 'About Company':'What it does','Amount':'Amount($)'} )"
   ]
  },
  {
   "cell_type": "code",
   "execution_count": 33,
   "metadata": {},
   "outputs": [
    {
     "name": "stdout",
     "output_type": "stream",
     "text": [
      "<class 'pandas.core.frame.DataFrame'>\n",
      "RangeIndex: 526 entries, 0 to 525\n",
      "Data columns (total 6 columns):\n",
      " #   Column         Non-Null Count  Dtype  \n",
      "---  ------         --------------  -----  \n",
      " 0   Company/Brand  526 non-null    object \n",
      " 1   Sector         526 non-null    object \n",
      " 2   Stage          526 non-null    object \n",
      " 3   Amount($)      378 non-null    float64\n",
      " 4   HeadQuarter    526 non-null    object \n",
      " 5   What it does   526 non-null    object \n",
      "dtypes: float64(1), object(5)\n",
      "memory usage: 24.8+ KB\n"
     ]
    }
   ],
   "source": [
    "data_2018.info()"
   ]
  },
  {
   "cell_type": "code",
   "execution_count": 34,
   "metadata": {},
   "outputs": [
    {
     "name": "stdout",
     "output_type": "stream",
     "text": [
      "0         250000.0\n",
      "1         584000.0\n",
      "2         949000.0\n",
      "3        2000000.0\n",
      "4              0.0\n",
      "          ...     \n",
      "521    225000000.0\n",
      "522            0.0\n",
      "523         7500.0\n",
      "524       511000.0\n",
      "525     35000000.0\n",
      "Name: Amount($), Length: 526, dtype: float64\n"
     ]
    }
   ],
   "source": [
    "def convert_to_usd(amount_str):\n",
    "    #conversion of Rupees and unsigned currency into dollars\n",
    "    conversion_rate = 0.0074  # 1 ruppes = to 0.0074 dollars\n",
    "    return amount_str * conversion_rate\n",
    "\n",
    "# Read your data into a DataFrame (replace 'your_data.csv' with your actual data file)\n",
    "\n",
    "\n",
    "# Convert unsigned currency to dollars and fill NaN values with 0\n",
    "data_2018['Amount($)'] = data_2018['Amount($)'].apply(lambda x: convert_to_usd(float(x[1:].replace(',', ''))) if isinstance(x, str) and '₹' in x else x)\n",
    "data_2018['Amount($)'].fillna(0, inplace=True)\n",
    "\n",
    "# Display the updated DataFrame\n",
    "print(data_2018['Amount($)'])"
   ]
  },
  {
   "cell_type": "code",
   "execution_count": 35,
   "metadata": {},
   "outputs": [
    {
     "data": {
      "text/plain": [
       "0         250000.0\n",
       "1         584000.0\n",
       "2         949000.0\n",
       "3        2000000.0\n",
       "4              0.0\n",
       "          ...     \n",
       "521    225000000.0\n",
       "522            0.0\n",
       "523         7500.0\n",
       "524       511000.0\n",
       "525     35000000.0\n",
       "Name: Amount($), Length: 526, dtype: float64"
      ]
     },
     "execution_count": 35,
     "metadata": {},
     "output_type": "execute_result"
    }
   ],
   "source": [
    "data_2018['Amount($)']"
   ]
  },
  {
   "cell_type": "code",
   "execution_count": 36,
   "metadata": {},
   "outputs": [
    {
     "name": "stdout",
     "output_type": "stream",
     "text": [
      "<class 'pandas.core.frame.DataFrame'>\n",
      "RangeIndex: 89 entries, 0 to 88\n",
      "Data columns (total 9 columns):\n",
      " #   Column         Non-Null Count  Dtype  \n",
      "---  ------         --------------  -----  \n",
      " 0   Company/Brand  89 non-null     object \n",
      " 1   Founded        60 non-null     float64\n",
      " 2   HeadQuarter    70 non-null     object \n",
      " 3   Sector         84 non-null     object \n",
      " 4   What it does   89 non-null     object \n",
      " 5   Founders       86 non-null     object \n",
      " 6   Investor       89 non-null     object \n",
      " 7   Amount($)      89 non-null     object \n",
      " 8   Stage          43 non-null     object \n",
      "dtypes: float64(1), object(8)\n",
      "memory usage: 6.4+ KB\n"
     ]
    }
   ],
   "source": [
    "### Cleaning 2019 data\n",
    "data_2019.info()"
   ]
  },
  {
   "cell_type": "code",
   "execution_count": 37,
   "metadata": {},
   "outputs": [
    {
     "data": {
      "text/plain": [
       "Company/Brand     0\n",
       "Founded          29\n",
       "HeadQuarter      19\n",
       "Sector            5\n",
       "What it does      0\n",
       "Founders          3\n",
       "Investor          0\n",
       "Amount($)         0\n",
       "Stage            46\n",
       "dtype: int64"
      ]
     },
     "execution_count": 37,
     "metadata": {},
     "output_type": "execute_result"
    }
   ],
   "source": [
    "##Checking for null values\n",
    "data_2019.isna().sum()"
   ]
  },
  {
   "cell_type": "code",
   "execution_count": null,
   "metadata": {},
   "outputs": [],
   "source": [
    "#filling the null values with 0\n",
    "data_2019.fillna(0, inplace=True)"
   ]
  },
  {
   "cell_type": "code",
   "execution_count": 38,
   "metadata": {},
   "outputs": [
    {
     "name": "stdout",
     "output_type": "stream",
     "text": [
      "<class 'pandas.core.frame.DataFrame'>\n",
      "RangeIndex: 89 entries, 0 to 88\n",
      "Data columns (total 9 columns):\n",
      " #   Column         Non-Null Count  Dtype  \n",
      "---  ------         --------------  -----  \n",
      " 0   Company/Brand  89 non-null     object \n",
      " 1   Founded        60 non-null     float64\n",
      " 2   HeadQuarter    70 non-null     object \n",
      " 3   Sector         84 non-null     object \n",
      " 4   What it does   89 non-null     object \n",
      " 5   Founders       86 non-null     object \n",
      " 6   Investor       89 non-null     object \n",
      " 7   Amount($)      89 non-null     object \n",
      " 8   Stage          43 non-null     object \n",
      "dtypes: float64(1), object(8)\n",
      "memory usage: 6.4+ KB\n"
     ]
    }
   ],
   "source": [
    "#checking the 2019 dataset\n",
    "data_2019.info()"
   ]
  },
  {
   "cell_type": "code",
   "execution_count": null,
   "metadata": {},
   "outputs": [
    {
     "name": "stdout",
     "output_type": "stream",
     "text": [
      "Empty DataFrame\n",
      "Columns: [Company/Brand, Founded, HeadQuarter, Sector, What it does, Founders, Investor, Amount($), Stage]\n",
      "Index: []\n"
     ]
    }
   ],
   "source": [
    "#Check for duplicate values\n",
    "duplicate = data_2019[data_2019.duplicated()]\n",
    "print(duplicate)"
   ]
  },
  {
   "cell_type": "code",
   "execution_count": 39,
   "metadata": {},
   "outputs": [],
   "source": [
    "#Dropping the columns Founded and Founders\n",
    "data_2019.drop(['Founded','Founders', 'What it does'], axis=1, inplace=True)"
   ]
  },
  {
   "cell_type": "code",
   "execution_count": 40,
   "metadata": {},
   "outputs": [
    {
     "data": {
      "text/plain": [
       "array(['Bombay Shaving', 'Ruangguru', 'Eduisfun', 'HomeLane', 'Nu Genes',\n",
       "       'FlytBase', 'Finly', 'Kratikal', 'Quantiphi', 'Lenskart',\n",
       "       'Cub McPaws', 'Appnomic', 'Kaleidofin', 'JobSquare', 'Open Secret',\n",
       "       'LivFin', \"Byju's\", 'Zest Money', 'Witblox',\n",
       "       'Azah Personal Care Pvt. Ltd.', 'SalaryFits', 'Pristyn Care',\n",
       "       'Springboard', 'DROR Labs Pvt. Ltd', 'Medlife', 'Seekify',\n",
       "       'Toffee Insurance', 'Fireflies .ai', 'HungerBox', 'Bijak',\n",
       "       'Licious', 'truMe', 'Pumpkart', 'Asteria Aerospace', 'Rivigo',\n",
       "       'HappyEasyGo', 'Zetwerk', 'Observe.AI', 'Freshokartz',\n",
       "       'Lil’ Goodness and sCool meal', 'Trell', 'VMate',\n",
       "       'Bombay Shirt Company', 'Slintel', 'MyGameMate', 'Afinoz',\n",
       "       'Rein Games', 'Ecozen', 'Box8', 'Awign Enterprises', 'Purplle',\n",
       "       'Freightwalla', 'TapChief', 'eJOHRI', 'Ninjacart', 'Binca Games',\n",
       "       'KredX', 'm.Paani', 'Origo', 'WishADish', 'Ecom Express',\n",
       "       'Stanza Living', 'PiBeam', 'Euler Motors', 'Moms Co',\n",
       "       'Cubical Labs', 'Lawyered', 'Cuemath', 'Nivesh.com', 'Zebu',\n",
       "       'Smart Institute', 'CarDekho', 'Shadowfax', 'Credr', 'Sportido',\n",
       "       'Phable', 'Sarva', 'IndyFint', 'Zolostays', 'Ola', 'Zoomcar',\n",
       "       'Froogal', 'Infra.Market', 'Oyo', 'GoMechanic', 'Spinny',\n",
       "       'Ess Kay Fincorp'], dtype=object)"
      ]
     },
     "execution_count": 40,
     "metadata": {},
     "output_type": "execute_result"
    }
   ],
   "source": [
    "###inspecting Company/Brand column\n",
    "data_2019['Company/Brand'].unique()"
   ]
  },
  {
   "cell_type": "code",
   "execution_count": 149,
   "metadata": {},
   "outputs": [
    {
     "data": {
      "text/plain": [
       "array([6.300e+06, 1.500e+08, 2.800e+07, 3.000e+07, 6.000e+06,       nan,\n",
       "       1.000e+06, 2.000e+07, 2.750e+08, 2.200e+07, 5.000e+06, 1.405e+05,\n",
       "       5.400e+08, 1.500e+07, 1.827e+05, 1.200e+07, 1.100e+07, 1.550e+07,\n",
       "       1.500e+06, 5.500e+06, 2.500e+06, 1.400e+05, 2.300e+08, 4.940e+07,\n",
       "       3.200e+07, 2.600e+07, 1.500e+05, 4.000e+05, 2.000e+06, 1.000e+08,\n",
       "       8.000e+06, 1.000e+05, 5.000e+07, 1.200e+08, 4.000e+06, 6.800e+06,\n",
       "       3.600e+07, 5.700e+06, 2.500e+07, 6.000e+05, 7.000e+07, 6.000e+07,\n",
       "       2.200e+05, 2.800e+06, 2.100e+06, 7.000e+06, 3.110e+08, 4.800e+06,\n",
       "       6.930e+08, 3.300e+07])"
      ]
     },
     "execution_count": 149,
     "metadata": {},
     "output_type": "execute_result"
    }
   ],
   "source": [
    "###inspecting Amount($) column\n",
    "data_2019['Amount($)'].unique()"
   ]
  },
  {
   "cell_type": "code",
   "execution_count": 151,
   "metadata": {},
   "outputs": [
    {
     "data": {
      "text/html": [
       "<div>\n",
       "<style scoped>\n",
       "    .dataframe tbody tr th:only-of-type {\n",
       "        vertical-align: middle;\n",
       "    }\n",
       "\n",
       "    .dataframe tbody tr th {\n",
       "        vertical-align: top;\n",
       "    }\n",
       "\n",
       "    .dataframe thead th {\n",
       "        text-align: right;\n",
       "    }\n",
       "</style>\n",
       "<table border=\"1\" class=\"dataframe\">\n",
       "  <thead>\n",
       "    <tr style=\"text-align: right;\">\n",
       "      <th></th>\n",
       "      <th>Company/Brand</th>\n",
       "      <th>HeadQuarter</th>\n",
       "      <th>Sector</th>\n",
       "      <th>Investor</th>\n",
       "      <th>Amount($)</th>\n",
       "      <th>Stage</th>\n",
       "    </tr>\n",
       "  </thead>\n",
       "  <tbody>\n",
       "    <tr>\n",
       "      <th>0</th>\n",
       "      <td>Bombay Shaving</td>\n",
       "      <td>NaN</td>\n",
       "      <td>Ecommerce</td>\n",
       "      <td>Sixth Sense Ventures</td>\n",
       "      <td>6300000.0</td>\n",
       "      <td>NaN</td>\n",
       "    </tr>\n",
       "    <tr>\n",
       "      <th>1</th>\n",
       "      <td>Ruangguru</td>\n",
       "      <td>Mumbai</td>\n",
       "      <td>Edtech</td>\n",
       "      <td>General Atlantic</td>\n",
       "      <td>150000000.0</td>\n",
       "      <td>Series C</td>\n",
       "    </tr>\n",
       "    <tr>\n",
       "      <th>2</th>\n",
       "      <td>Eduisfun</td>\n",
       "      <td>Mumbai</td>\n",
       "      <td>Edtech</td>\n",
       "      <td>Deepak Parekh, Amitabh Bachchan, Piyush Pandey</td>\n",
       "      <td>28000000.0</td>\n",
       "      <td>Fresh funding</td>\n",
       "    </tr>\n",
       "    <tr>\n",
       "      <th>3</th>\n",
       "      <td>HomeLane</td>\n",
       "      <td>Chennai</td>\n",
       "      <td>Interior design</td>\n",
       "      <td>Evolvence India Fund (EIF), Pidilite Group, FJ...</td>\n",
       "      <td>30000000.0</td>\n",
       "      <td>Series D</td>\n",
       "    </tr>\n",
       "    <tr>\n",
       "      <th>4</th>\n",
       "      <td>Nu Genes</td>\n",
       "      <td>Telangana</td>\n",
       "      <td>AgriTech</td>\n",
       "      <td>Innovation in Food and Agriculture (IFA)</td>\n",
       "      <td>6000000.0</td>\n",
       "      <td>NaN</td>\n",
       "    </tr>\n",
       "  </tbody>\n",
       "</table>\n",
       "</div>"
      ],
      "text/plain": [
       "    Company/Brand HeadQuarter           Sector  \\\n",
       "0  Bombay Shaving         NaN        Ecommerce   \n",
       "1       Ruangguru      Mumbai           Edtech   \n",
       "2        Eduisfun      Mumbai           Edtech   \n",
       "3        HomeLane     Chennai  Interior design   \n",
       "4        Nu Genes   Telangana         AgriTech   \n",
       "\n",
       "                                            Investor    Amount($)  \\\n",
       "0                               Sixth Sense Ventures    6300000.0   \n",
       "1                                   General Atlantic  150000000.0   \n",
       "2     Deepak Parekh, Amitabh Bachchan, Piyush Pandey   28000000.0   \n",
       "3  Evolvence India Fund (EIF), Pidilite Group, FJ...   30000000.0   \n",
       "4           Innovation in Food and Agriculture (IFA)    6000000.0   \n",
       "\n",
       "           Stage  \n",
       "0            NaN  \n",
       "1       Series C  \n",
       "2  Fresh funding  \n",
       "3       Series D  \n",
       "4            NaN  "
      ]
     },
     "execution_count": 151,
     "metadata": {},
     "output_type": "execute_result"
    }
   ],
   "source": [
    "#remove comas, dashes from the amounts in the data frame\n",
    "data_2019[\"Amount($)\"] = data_2019[\"Amount($)\"].apply(str)\n",
    "data_2019[\"Amount($)\"].replace(\",\",\"\", inplace = True, regex=True)\n",
    "data_2019[\"Amount($)\"].replace(\"Undisclosed\", 0, inplace = True, regex=True)\n",
    "data_2019[\"Amount($)\"] = data_2019[\"Amount($)\"].apply(lambda x: float(str(x).replace(\"$\",\"\")))\n",
    "\n",
    "data_2019.head()"
   ]
  },
  {
   "cell_type": "code",
   "execution_count": 141,
   "metadata": {},
   "outputs": [
    {
     "data": {
      "text/plain": [
       "0       6300000.0\n",
       "1     150000000.0\n",
       "2      28000000.0\n",
       "3      30000000.0\n",
       "4       6000000.0\n",
       "         ...     \n",
       "84     20000000.0\n",
       "85    693000000.0\n",
       "86      5000000.0\n",
       "87     50000000.0\n",
       "88     33000000.0\n",
       "Name: Amount($), Length: 89, dtype: float64"
      ]
     },
     "execution_count": 141,
     "metadata": {},
     "output_type": "execute_result"
    }
   ],
   "source": [
    "data_2019['Amount($)']"
   ]
  },
  {
   "cell_type": "code",
   "execution_count": 43,
   "metadata": {},
   "outputs": [
    {
     "data": {
      "text/plain": [
       "array([nan, 'Mumbai', 'Chennai', 'Telangana', 'Pune', 'Bangalore',\n",
       "       'Noida', 'Delhi', 'Ahmedabad', 'Gurugram', 'Haryana', 'Chandigarh',\n",
       "       'Jaipur', 'New Delhi', 'Surat', 'Uttar pradesh', 'Hyderabad',\n",
       "       'Rajasthan'], dtype=object)"
      ]
     },
     "execution_count": 43,
     "metadata": {},
     "output_type": "execute_result"
    }
   ],
   "source": [
    "###inspecting HeadQuarter column\n",
    "data_2019['HeadQuarter'].unique()"
   ]
  },
  {
   "cell_type": "code",
   "execution_count": 44,
   "metadata": {},
   "outputs": [
    {
     "data": {
      "text/html": [
       "<div>\n",
       "<style scoped>\n",
       "    .dataframe tbody tr th:only-of-type {\n",
       "        vertical-align: middle;\n",
       "    }\n",
       "\n",
       "    .dataframe tbody tr th {\n",
       "        vertical-align: top;\n",
       "    }\n",
       "\n",
       "    .dataframe thead th {\n",
       "        text-align: right;\n",
       "    }\n",
       "</style>\n",
       "<table border=\"1\" class=\"dataframe\">\n",
       "  <thead>\n",
       "    <tr style=\"text-align: right;\">\n",
       "      <th></th>\n",
       "      <th>Company/Brand</th>\n",
       "      <th>HeadQuarter</th>\n",
       "      <th>Sector</th>\n",
       "      <th>Investor</th>\n",
       "      <th>Amount($)</th>\n",
       "      <th>Stage</th>\n",
       "    </tr>\n",
       "  </thead>\n",
       "  <tbody>\n",
       "    <tr>\n",
       "      <th>3</th>\n",
       "      <td>HomeLane</td>\n",
       "      <td>Chennai</td>\n",
       "      <td>Interior design</td>\n",
       "      <td>Evolvence India Fund (EIF), Pidilite Group, FJ...</td>\n",
       "      <td>30,000,000</td>\n",
       "      <td>Series D</td>\n",
       "    </tr>\n",
       "  </tbody>\n",
       "</table>\n",
       "</div>"
      ],
      "text/plain": [
       "  Company/Brand HeadQuarter           Sector  \\\n",
       "3      HomeLane     Chennai  Interior design   \n",
       "\n",
       "                                            Investor   Amount($)     Stage  \n",
       "3  Evolvence India Fund (EIF), Pidilite Group, FJ...  30,000,000  Series D  "
      ]
     },
     "execution_count": 44,
     "metadata": {},
     "output_type": "execute_result"
    }
   ],
   "source": [
    "data_2019.sample()"
   ]
  },
  {
   "cell_type": "markdown",
   "metadata": {},
   "source": [
    "2020 DATASET"
   ]
  },
  {
   "cell_type": "code",
   "execution_count": 45,
   "metadata": {},
   "outputs": [
    {
     "data": {
      "text/plain": [
       "(1055, 10)"
      ]
     },
     "execution_count": 45,
     "metadata": {},
     "output_type": "execute_result"
    }
   ],
   "source": [
    "#Check for the shape of the dataset(2020)\n",
    "data_2020.shape\n",
    "\n"
   ]
  },
  {
   "cell_type": "code",
   "execution_count": 46,
   "metadata": {},
   "outputs": [
    {
     "name": "stdout",
     "output_type": "stream",
     "text": [
      "<class 'pandas.core.frame.DataFrame'>\n",
      "RangeIndex: 1055 entries, 0 to 1054\n",
      "Data columns (total 10 columns):\n",
      " #   Column         Non-Null Count  Dtype  \n",
      "---  ------         --------------  -----  \n",
      " 0   Company_Brand  1055 non-null   object \n",
      " 1   Founded        842 non-null    float64\n",
      " 2   HeadQuarter    961 non-null    object \n",
      " 3   Sector         1042 non-null   object \n",
      " 4   What_it_does   1055 non-null   object \n",
      " 5   Founders       1043 non-null   object \n",
      " 6   Investor       1017 non-null   object \n",
      " 7   Amount         801 non-null    float64\n",
      " 8   Stage          591 non-null    object \n",
      " 9   column10       2 non-null      object \n",
      "dtypes: float64(2), object(8)\n",
      "memory usage: 82.5+ KB\n"
     ]
    }
   ],
   "source": [
    "#EDA on 2020 data\n",
    "data_2020.info()"
   ]
  },
  {
   "cell_type": "code",
   "execution_count": 47,
   "metadata": {},
   "outputs": [],
   "source": [
    "data_2020 = data_2020.rename(columns =  {'Company_Brand':'Company/Brand', 'Industry':'Sector', 'Location':'HeadQuarter','Round/Series':'Stage', 'About Company':'What it does','Amount':'Amount($)'} )"
   ]
  },
  {
   "cell_type": "code",
   "execution_count": 48,
   "metadata": {},
   "outputs": [],
   "source": [
    "#Dropping the columns Founded and Founders\n",
    "data_2020.drop(['Founded','Founders'], axis=1, inplace=True)"
   ]
  },
  {
   "cell_type": "code",
   "execution_count": 52,
   "metadata": {},
   "outputs": [],
   "source": [
    "#Dropping the columns What_it_does\n",
    "data_2020.drop(['What_it_does'], axis=1, inplace=True)"
   ]
  },
  {
   "cell_type": "code",
   "execution_count": 49,
   "metadata": {},
   "outputs": [],
   "source": [
    "#Dropping the column column10 \n",
    "data_2020.drop(['column10'], axis=1, inplace=True)"
   ]
  },
  {
   "cell_type": "code",
   "execution_count": null,
   "metadata": {},
   "outputs": [],
   "source": [
    "data_2020.fillna(0, inplace=True)"
   ]
  },
  {
   "cell_type": "code",
   "execution_count": 53,
   "metadata": {},
   "outputs": [
    {
     "name": "stdout",
     "output_type": "stream",
     "text": [
      "<class 'pandas.core.frame.DataFrame'>\n",
      "RangeIndex: 1055 entries, 0 to 1054\n",
      "Data columns (total 6 columns):\n",
      " #   Column         Non-Null Count  Dtype  \n",
      "---  ------         --------------  -----  \n",
      " 0   Company/Brand  1055 non-null   object \n",
      " 1   HeadQuarter    961 non-null    object \n",
      " 2   Sector         1042 non-null   object \n",
      " 3   Investor       1017 non-null   object \n",
      " 4   Amount($)      801 non-null    float64\n",
      " 5   Stage          591 non-null    object \n",
      "dtypes: float64(1), object(5)\n",
      "memory usage: 49.6+ KB\n"
     ]
    }
   ],
   "source": [
    "data_2020.info()"
   ]
  },
  {
   "cell_type": "code",
   "execution_count": 54,
   "metadata": {},
   "outputs": [
    {
     "name": "stdout",
     "output_type": "stream",
     "text": [
      "0         200000.0\n",
      "1         100000.0\n",
      "2              0.0\n",
      "3         400000.0\n",
      "4         340000.0\n",
      "           ...    \n",
      "1050     1500000.0\n",
      "1051    13200000.0\n",
      "1052     8000000.0\n",
      "1053     8043000.0\n",
      "1054     9000000.0\n",
      "Name: Amount($), Length: 1055, dtype: float64\n"
     ]
    }
   ],
   "source": [
    "\n",
    "# Assuming you have a DataFrame named 'df' with a column named 'Amount' containing unsigned currency values\n",
    "# Replace 'Amount' with the actual name of your column\n",
    "\n",
    "def convert_to_usd(amount_str):\n",
    "    # Add your currency conversion logic here\n",
    "    # For example, you might want to convert from GBP to USD\n",
    "    conversion_rate = 0.0074  # Replace with the actual conversion rate\n",
    "    return amount_str * conversion_rate\n",
    "\n",
    "# Read your data into a DataFrame (replace 'your_data.csv' with your actual data file)\n",
    "# df = pd.read_csv('your_data.csv')\n",
    "\n",
    "# Convert unsigned currency to dollars and fill NaN values with 0\n",
    "data_2020['Amount($)'] = data_2020['Amount($)'].apply(lambda x: convert_to_usd(float(x[1:].replace(',', ''))) if isinstance(x, str) and '₹' in x else x)\n",
    "data_2020['Amount($)'].fillna(0, inplace=True)\n",
    "\n",
    "# Display the updated DataFrame\n",
    "print(data_2020['Amount($)'])\n"
   ]
  },
  {
   "cell_type": "code",
   "execution_count": 55,
   "metadata": {},
   "outputs": [
    {
     "data": {
      "text/plain": [
       "array([2.0000000e+05, 1.0000000e+05, 0.0000000e+00, 4.0000000e+05,\n",
       "       3.4000000e+05, 6.0000000e+05, 4.5000000e+07, 1.0000000e+06,\n",
       "       2.0000000e+06, 1.2000000e+06, 6.6000000e+08, 1.2000000e+05,\n",
       "       7.5000000e+06, 5.0000000e+06, 5.0000000e+05, 3.0000000e+06,\n",
       "       1.0000000e+07, 1.4500000e+08, 1.0000000e+08, 2.1000000e+07,\n",
       "       4.0000000e+06, 2.0000000e+07, 5.6000000e+05, 2.7500000e+05,\n",
       "       4.5000000e+06, 1.5000000e+07, 3.9000000e+08, 7.0000000e+06,\n",
       "       5.1000000e+06, 7.0000000e+08, 2.3000000e+06, 7.0000000e+05,\n",
       "       1.9000000e+07, 9.0000000e+06, 4.0000000e+07, 7.5000000e+05,\n",
       "       1.5000000e+06, 7.8000000e+06, 5.0000000e+07, 8.0000000e+07,\n",
       "       3.0000000e+07, 1.7000000e+06, 2.5000000e+06, 4.0000000e+04,\n",
       "       3.3000000e+07, 3.5000000e+07, 3.0000000e+05, 2.5000000e+07,\n",
       "       3.5000000e+06, 2.0000000e+08, 6.0000000e+06, 1.3000000e+06,\n",
       "       4.1000000e+06, 5.7500000e+05, 8.0000000e+05, 2.8000000e+07,\n",
       "       1.8000000e+07, 3.2000000e+06, 9.0000000e+05, 2.5000000e+05,\n",
       "       4.7000000e+06, 7.5000000e+07, 8.0000000e+06, 1.2100000e+08,\n",
       "       5.5000000e+07, 3.3000000e+06, 1.1000000e+07, 1.6000000e+07,\n",
       "       5.4000000e+06, 1.5000000e+08, 4.2000000e+06, 2.2000000e+07,\n",
       "       5.2000000e+07, 1.1000000e+06, 1.1800000e+08, 1.6000000e+06,\n",
       "       1.8500000e+07, 7.0000000e+10, 8.0000000e+08, 4.0000000e+08,\n",
       "       1.5000000e+05, 1.7600000e+08, 6.0000000e+07, 4.7000000e+05,\n",
       "       2.4000000e+05, 3.0000000e+09, 7.4000000e+07, 6.2000000e+07,\n",
       "       2.1000000e+06, 5.0000000e+08, 1.2500000e+07, 2.2000000e+09,\n",
       "       5.0600000e+06, 2.2500000e+08, 2.4700000e+07, 7.7000000e+06,\n",
       "       1.9067328e+07, 5.1000000e+07, 1.1500000e+05, 5.4000000e+04,\n",
       "       2.0000000e+04, 8.0314600e+05, 2.3800000e+05, 1.0220000e+07,\n",
       "       1.0200000e+06, 1.2000000e+07, 1.3400000e+07, 1.7000000e+08,\n",
       "       2.9000000e+06, 5.4300000e+05, 9.0000000e+07, 3.4000000e+06,\n",
       "       2.3000000e+07, 8.0900000e+06, 1.0300000e+06, 5.0400000e+06,\n",
       "       3.6000000e+05, 1.4000000e+06, 6.5000000e+05, 5.4000000e+07,\n",
       "       4.2500000e+07, 1.1370000e+07, 3.2500000e+05, 4.1000000e+05,\n",
       "       4.5000000e+05, 6.8200000e+05, 4.0500000e+06, 1.0500000e+06,\n",
       "       1.0800000e+06, 4.3000000e+06, 6.8000000e+06, 2.1100000e+06,\n",
       "       7.6400000e+05, 6.0300000e+05, 4.0900000e+05, 2.9200000e+05,\n",
       "       2.8600000e+05, 1.3600000e+05, 5.4600000e+05, 8.8700000e+05,\n",
       "       4.3000000e+04, 4.0900000e+04, 2.2000000e+06, 5.6600000e+06,\n",
       "       3.5000000e+05, 1.1000000e+05, 1.2200000e+08, 1.1635000e+07,\n",
       "       2.8000000e+06, 1.0650000e+06, 6.6900000e+05, 1.6076000e+07,\n",
       "       6.4960000e+05, 6.7000000e+06, 2.2000000e+05, 2.6650000e+05,\n",
       "       2.8790000e+06, 2.6500000e+07, 3.5100000e+05, 4.6761000e+07,\n",
       "       1.7500000e+05, 1.1241000e+07, 8.0400000e+05, 1.3400000e+06,\n",
       "       4.6700000e+05, 1.3300000e+05, 3.8230000e+06, 9.3400000e+05,\n",
       "       2.9300000e+05, 1.9800000e+05, 9.2700000e+05, 9.7100000e+05,\n",
       "       3.0600000e+06, 1.8620000e+06, 2.3200000e+05, 2.8880000e+06,\n",
       "       1.3280000e+06, 1.5500000e+07, 5.6000000e+07, 2.2500000e+06,\n",
       "       1.6753000e+07, 3.7000000e+06, 1.4700000e+06, 5.3000000e+05,\n",
       "       2.6700000e+05, 3.3440000e+06, 7.2000000e+06, 2.7430000e+06,\n",
       "       6.0820000e+06, 6.6090000e+06, 2.7700000e+07, 5.9400000e+06,\n",
       "       3.9640000e+06, 5.5000000e+06, 1.9700000e+05, 4.3270000e+06,\n",
       "       4.5900000e+05, 3.9370000e+06, 1.3135000e+06, 2.2980000e+05,\n",
       "       5.3050000e+06, 2.6400000e+05, 1.7500000e+06, 5.9670000e+06,\n",
       "       2.9800000e+06, 3.2300000e+05, 1.3260000e+06, 2.7000000e+07,\n",
       "       5.2000000e+06, 2.5300000e+06, 7.9200000e+05, 1.1363000e+07,\n",
       "       1.7150000e+06, 3.2900000e+05, 5.2710000e+06, 8.7000000e+06,\n",
       "       3.2260000e+06, 5.9000000e+06, 4.4000000e+07, 3.8790000e+06,\n",
       "       1.3000000e+07, 8.8000000e+06, 9.5000000e+06, 9.2000000e+05,\n",
       "       3.5600000e+07, 9.4000000e+06, 7.9000000e+05, 4.8000000e+05,\n",
       "       1.6000000e+05, 8.2000000e+06, 4.2570000e+06, 1.4100000e+06,\n",
       "       3.4980000e+05, 7.8600000e+05, 2.0040000e+06, 1.2300000e+08,\n",
       "       2.4800000e+05, 2.4000000e+07, 1.4259000e+07, 2.4500000e+07,\n",
       "       3.8000000e+06, 1.8370000e+07, 6.8525000e+07, 4.8000000e+06,\n",
       "       1.8340000e+06, 2.3850000e+07, 4.3000000e+07, 2.1600000e+07,\n",
       "       4.5980000e+06, 1.3137000e+07, 1.1500000e+08, 3.9000000e+06,\n",
       "       6.7000000e+05, 8.5000000e+06, 3.1480000e+06, 2.6000000e+06,\n",
       "       4.0495000e+06, 1.0500000e+07, 6.5000000e+06, 4.3700000e+07,\n",
       "       1.3800000e+07, 3.0690000e+05, 4.2000000e+05, 6.2730000e+05,\n",
       "       1.1300000e+08, 3.2000000e+07, 1.1000000e+08, 1.3970000e+06,\n",
       "       4.4850000e+05, 7.9757000e+06, 3.3000000e+05, 5.6000000e+06,\n",
       "       1.4020000e+06, 2.1500000e+07, 2.9600000e+08, 4.9000000e+06,\n",
       "       1.4024000e+06, 1.2618300e+07, 9.9000000e+06, 9.8253000e+05,\n",
       "       7.0185200e+07, 2.1000000e+08, 8.4000000e+07, 3.9000000e+07,\n",
       "       2.7000000e+06, 1.4034000e+06, 1.0500000e+08, 1.0300000e+08,\n",
       "       2.8130000e+05, 1.2700000e+04, 2.5000000e+04, 9.7500000e+07,\n",
       "       5.0700000e+05, 8.4000000e+06, 1.8300000e+07, 1.2500000e+08,\n",
       "       1.8100000e+05, 2.8000000e+05, 1.4700000e+07, 1.3200000e+07,\n",
       "       8.0430000e+06])"
      ]
     },
     "execution_count": 55,
     "metadata": {},
     "output_type": "execute_result"
    }
   ],
   "source": [
    "#amount column\n",
    "data_2020['Amount($)'].unique()"
   ]
  },
  {
   "cell_type": "code",
   "execution_count": 56,
   "metadata": {},
   "outputs": [
    {
     "data": {
      "text/plain": [
       "array(['Chennai', 'Bangalore', 'Pune', 'New Delhi', 'Indore', 'Hyderabad',\n",
       "       'Gurgaon', 'Belgaum', 'Noida', 'Mumbai', 'Andheri', 'Jaipur',\n",
       "       'Ahmedabad', 'Kolkata', 'Tirunelveli, Tamilnadu', 'Thane', None,\n",
       "       'Singapore', 'Gurugram', 'Gujarat', 'Haryana', 'Kerala', 'Jodhpur',\n",
       "       'Jaipur, Rajastan', 'Delhi', 'Frisco, Texas, United States',\n",
       "       'California', 'Dhingsara, Haryana', 'New York, United States',\n",
       "       'Patna', 'San Francisco, California, United States',\n",
       "       'San Francisco, United States', 'San Ramon, California',\n",
       "       'Paris, Ile-de-France, France', 'Plano, Texas, United States',\n",
       "       'Sydney', 'San Francisco Bay Area, Silicon Valley, West Coast',\n",
       "       'Bangaldesh', 'London, England, United Kingdom',\n",
       "       'Sydney, New South Wales, Australia', 'Milano, Lombardia, Italy',\n",
       "       'Palmwoods, Queensland, Australia', 'France',\n",
       "       'San Francisco Bay Area, West Coast, Western US',\n",
       "       'Trivandrum, Kerala, India', 'Cochin', 'Samastipur, Bihar',\n",
       "       'Irvine, California, United States', 'Tumkur, Karnataka',\n",
       "       'Newcastle Upon Tyne, Newcastle upon Tyne, United Kingdom',\n",
       "       'Shanghai, China', 'Jiaxing, Zhejiang, China', 'Rajastan', 'Kochi',\n",
       "       'Ludhiana', 'Dehradun', 'San Franciscao', 'San Francisco',\n",
       "       'Tangerang, Jawa Barat, Indonesia', 'Berlin', 'Seattle', 'Riyadh',\n",
       "       'Seoul', 'New York', 'Bangkok', 'Kanpur', 'Chandigarh', 'Warangal',\n",
       "       'Hyderebad', 'Odisha', 'Bihar', 'Goa', 'Tamil Nadu',\n",
       "       'Uttar Pradesh', 'Bhopal', 'Banglore', 'Coimbatore', 'Bengaluru'],\n",
       "      dtype=object)"
      ]
     },
     "execution_count": 56,
     "metadata": {},
     "output_type": "execute_result"
    }
   ],
   "source": [
    "#HeadQuarter column\n",
    "data_2020['HeadQuarter'].unique()"
   ]
  },
  {
   "cell_type": "code",
   "execution_count": 59,
   "metadata": {},
   "outputs": [
    {
     "data": {
      "text/plain": [
       "array(['Aqgromalin', 'Krayonnz', 'PadCare Labs', 'NCOME', 'Gramophone',\n",
       "       'qZense', 'MyClassboard', 'Metvy', 'Rupeek', 'Gig India',\n",
       "       'Slurrp Farm', 'Medfin', 'MasterG', 'Brila 91', 'FoodyBuddy',\n",
       "       'Zomato', 'OurEye.ai', 'Shiprocket', 'Pine Labs',\n",
       "       'Moneyboxx Finance', 'EWar', 'SucSEED Indovation', 'TaxBuddy.com',\n",
       "       'Awign Enterprises', 'Circle of Angels', 'CoinDCX', 'Glance',\n",
       "       'VerSe Innovation', 'Voosh', 'Delhivery', 'Arya', 'Pickrr',\n",
       "       'PhonePe', 'Countingwell', 'Callify.ai', 'Hudle', 'Cover it Up',\n",
       "       'BiteSpeed', 'WakeFit', 'Sreyas Holistic Remedies', 'Fleeca India',\n",
       "       'M1xchange', 'Exotel', 'PagarBook', 'PointOne Capital', 'Ayana',\n",
       "       'Fisdom', 'Tinker Coders', 'Infinite Uptime', 'HappyLocate',\n",
       "       'Loop Health', 'NeoDocs', 'The ePlane', 'TagMango', 'The New Shop',\n",
       "       'MobiKwik', 'DebugsBunny', 'BHIVE Investech', 'Rivigo', 'ZipLoan',\n",
       "       'Swipez', 'Humus', 'Artivatic.ai', 'Prescinto', 'Toppeq',\n",
       "       'Bolo Indya', 'Bombay Play', 'FreshToHome', 'KIKO TV',\n",
       "       'Atomberg Technologies', 'DealShare', 'Smallcase', 'CueMath',\n",
       "       'Gamerji', '5C Network', 'Ethereum Push Notification Service',\n",
       "       'Mihup', 'RuralBasket', 'WayCool Foods', 'Infra.Market',\n",
       "       'Info Edge Venture', 'Clovia', 'Codingal', 'CRED',\n",
       "       'Vistaar Finance', \"Let's Dive\", 'Habitat', 'SAWO Labs', 'Signzy',\n",
       "       'KopyKitab', 'Kyt', 'Raskik', 'GetWork',\n",
       "       'Mobile Premier League (MPL)', 'Pravasirojgar', 'Omatra Hotels',\n",
       "       'Awign', 'NewsReach', 'Cashfree', 'Credgenics', 'GeoIQ',\n",
       "       'Country Delight', 'Quintype', 'CARS24', 'Astrogate Labs',\n",
       "       'Power Gummies', 'Cityflo', 'AlgoBulls', 'Inntot', 'Ensuredit',\n",
       "       'Shipsy', 'ERPNext', 'LightSpeedAI', 'Grip Invest', 'Unacademy',\n",
       "       'Yellow Classes', 'Plum', 'STAGE', 'Nykaa', 'Kaagaz Scanner',\n",
       "       'NIRA', 'Prolixr', \"Byju's\", 'DaMENSCH', 'SignalX', 'Lancify',\n",
       "       'Krimanshi', 'Instoried', 'PlayerzPot', 'Instamojo', 'Turtlemint',\n",
       "       'Arata', 'MPL', 'True Balance', 'Thrive', 'Kitchens Centre',\n",
       "       'Prescribe', 'Nepra', 'inFeedo', 'Shilpa Sciences', 'Arzooo',\n",
       "       'MindTickle', 'Slice', 'Rapawalk', \"Oga Fit's\", 'LAVAL',\n",
       "       'Stride Ventures', 'BlackSoil', 'Biocon', 'Clientjoy',\n",
       "       'Xpressbees', 'GalaxyCard', 'Wellness Forever', 'MoooFarm',\n",
       "       'BitClass', 'Gonuts', 'Uolo', 'Kirana King', 'Jade Forest',\n",
       "       'iKure', 'FrontRow', 'Reliance Retail', 'TUBBR', 'Ather Energy',\n",
       "       'Routematic', 'LivFin', 'Universal Sportsbiz Pvt Ltd',\n",
       "       'Lattu Kids', 'Eggoz', 'Steradian Semiconductors', 'CHARGE+ZONE',\n",
       "       'Stones2milestones', 'Udacity', 'AjnaLens', 'Gully Network',\n",
       "       'TurboHire', 'Traya', 'Charcoal Eats', 'Mitron TV', 'Svami',\n",
       "       'Dhurnia', 'Expertrons', 'Leena AI', 'Bizlog', 'Tamasha.live',\n",
       "       'Fedo', 'FabHotels', 'Freshokartz', 'FlexiLoans', 'Agrix',\n",
       "       'BharatAgri', 'FreshtoHome', 'Credable', 'Railofy',\n",
       "       'Finova Capital', 'Teachmint', 'Peel-Works', 'Janani',\n",
       "       'Finelistings', 'Wellversed', 'Jumbotail', 'Winzo', 'mCaffeine',\n",
       "       'Pocket FM', 'Snackible', 'TagZ Foods', 'Genius Teacher',\n",
       "       'Krimanshi Feeds', 'Origo', 'GetVantage', 'Betterplace', 'Biddano',\n",
       "       'InVideo', 'Hubilo', 'BASIC Home Loan', 'Ketos', 'SUGAR cosmetics',\n",
       "       'Ahaguru', 'Tekion', 'Brighteye Ventures', 'EzeRx', 'VitalTech',\n",
       "       'Ultraviolette Automotive', 'Tring', 'Rare Planet', 'GoodGamer',\n",
       "       'InnAccel', 'Tiliter', 'Slintel', 'SoOLEGAL', 'HobSpace',\n",
       "       'Supplynote', 'Hire Me Car', 'ShopUp', 'Harmonizer India',\n",
       "       'Dukaan', 'CredR', 'Satyukt', 'RACEnergy', 'TREAD', 'Anveshan',\n",
       "       'TeaMonk', 'Fleetx', 'ReNEWate', 'Tango Eye', 'Avataa Me',\n",
       "       'Arrival', 'Cover Genius', 'Phononic Vibes', 'MikeLegal', 'Clair',\n",
       "       'Gourmet Garden', 'Miko', 'Razorpay', 'Ninjacart', 'Wow! Momo',\n",
       "       'Pepper Content', 'LIVSPACE', 'Acculi Labs', 'Your MD', 'Antaios',\n",
       "       'Unnati', 'Disprz', 'Uni', 'Credit Wise Capital', 'Chargebee',\n",
       "       'Reliance Retail Ventures Ltd', 'Winuall', 'Genrobotics', 'Livve',\n",
       "       'Ergos', 'Krishitantra', 'PakkaProfile', 'Monet Networks',\n",
       "       'Unocoin', 'Pesto', 'NirogStreet', 'Bambrew', 'Omnify',\n",
       "       'Fanball XI', 'Treebo Hotels', 'GPS Renewables', 'Public',\n",
       "       'Legal Salah', 'FanPlay', 'ECOSTP', 'Coralogix', 'Equiwatt',\n",
       "       'Reliance Retail Ventures', 'Zhangmen', 'AgroWave',\n",
       "       'Sapio Analytics', 'Taimei', 'Avanse Financial Services',\n",
       "       'Industry Buying', 'Hopscotch', 'Pristyn Care', 'WoodenStreet',\n",
       "       'ACKO', 'Farmers Fresh Zone', 'Invento', 'Infurnia',\n",
       "       \"AnalytIQSports's SuperCric\", 'Snowflake', 'GenieTalk',\n",
       "       'Classplus', 'Mobile Premier League', 'Fourth Partner Energy',\n",
       "       'Flipkart', 'Vivriti Capital', 'InsuranceDekho', 'BestDoc',\n",
       "       'Byju’s', 'Melorra', 'Reliance', 'Inflexor Ventures', 'Pandorum',\n",
       "       'SpeakIn', 'LetsUp', 'Newsreach', 'Dream11', 'JetSynthesys',\n",
       "       'Vesta Space Technology', 'Dozee', 'Rebel Foods', 'Ketto',\n",
       "       'Suryoday', 'SucSEED', 'Strata', '3one4 Capital', 'WE-Hub',\n",
       "       'Vicara', 'Gaana', 'EM3 Agri', 'Odwen', 'Fasal', 'Trukky',\n",
       "       'BankBazaar', 'Specsmakers', 'Grinntech', 'CreditMantri',\n",
       "       'Chai Waale', 'Deepsync', 'ConnectedH', 'QShala', 'Pitstop',\n",
       "       'Customfit ai', 'Nirmata', 'Oga Fit', 'ShipsKart', 'SquadStack',\n",
       "       'Financepeer', 'Cashify', 'Etrio', 'Codeyoung', 'StayQrious',\n",
       "       'Sunstone Eduversity', 'Infilect', 'MobiGarage', 'Samunnati',\n",
       "       'WeInnovate Biosolutions', 'Yummy Corp', 'Clairvolex', 'Assiduus',\n",
       "       'Brinton', 'AFK Gaming', 'Infarm', 'Zuper', 'Origa',\n",
       "       'GullyBuy Software', 'Recordent', 'Penny', 'Onsitego', 'Precily',\n",
       "       'SmartClean', 'ClanConnect', 'Servify', 'ShareChat', 'Rephrase.ai',\n",
       "       'EkAnek', 'Cub McPaws', 'Zimyo', 'PumPumPum', 'Burgerama',\n",
       "       'Moms Co', 'DillyHub', 'FPL Technologies', 'FITTR', 'Illumnus',\n",
       "       'CashKaro', 'Newton School', 'Airmeet', 'Observe ai', 'InCred',\n",
       "       'Toppr', 'CarTrade', 'LEAD School', 'Lido Learning', 'Apna.co',\n",
       "       'Quintype Technologies', 'Dunzo', 'Entropik', 'Livspace', 'WinZO',\n",
       "       'SenseHawk', 'Eloelo', 'Aibono', 'BuildPan', 'Homelane', 'MyGlamm',\n",
       "       'Aviom', 'Flinto', 'WayCool', 'YAP', 'Big Bang Boom Solutions',\n",
       "       'GUVI', 'BluSmart', 'Cell Propulsion', 'Spoonshot', 'Pulse',\n",
       "       'Groww', 'i3 Systems', 'SOAL', 'OckyPocky', 'Hippo Video',\n",
       "       'Hasura', 'Qapita', 'Sunday', 'Gamezop', 'Phool.co',\n",
       "       'Chiratae Ventures', 'MedLife', 'IDfy', 'Bira91', 'Max wholesale',\n",
       "       'Craftsvilla', 'MechMocha', 'Mindhouse', 'DeepSync', 'Eruditus',\n",
       "       'Gradeup', 'Tracxn', 'Purple Style Labs', 'ProPhysio',\n",
       "       'Flickstree', 'Settl', 'Fanspole', 'Sarva', 'Univ.ai', 'PurohitJi',\n",
       "       'CredoLab', 'Brick&Bolt', '6Degree', 'Exprs', 'Bikayi',\n",
       "       'Virtual Forest', 'The Health company', 'TrulyMadly Matchmakers',\n",
       "       'TrueFan', 'Avail Finance', 'The Money Club', 'Virohan', 'OneCode',\n",
       "       'Verloop.io', 'Otipy', 'Evage', 'Trell', 'Captain Fresh', 'Pixxel',\n",
       "       'Habbit Health', 'SmarterBiz', 'Able Jobs', 'Vieroots',\n",
       "       'Stack Finance', 'Masai School', 'Mitron', 'Daalchini',\n",
       "       'Suno India', 'LendingKart', 'Text Mercato', 'Eden Smart Homes',\n",
       "       'GrayQuest', 'BigHaat', 'CityCash', 'HomeLane', 'HungerBox',\n",
       "       'DaveAI', 'Eduvanz', 'DocSumo', 'CUSMAT', 'Chingari',\n",
       "       'Data Sutram', 'Wobot Intelligence', 'DrinkPrime', 'Infeedo',\n",
       "       'Probus Smart Things', 'CrowdPouch', 'Hevo', 'BigSpoon Foods',\n",
       "       'DatStop', 'IPHM Services', 'Wellcure', 'VilCart', 'Firescore',\n",
       "       'BulBul', 'Pickright Technologies', 'Muse Wearables',\n",
       "       'SATYA Microcapital', 'WYN Studio', 'Entri', 'Snack Amor',\n",
       "       'MPowered', 'Leap Club', 'Gigforce', 'Vegrow', 'Finn', 'Bijnis',\n",
       "       'iNurture', 'StyleDotMe', 'Ripsey', 'ThriveFNC', 'Vedantu',\n",
       "       'Magicpin', 'Procol', 'Yumlane', 'Crio', 'Openapp',\n",
       "       'uFony Services Pvt ltd', 'Protinus Fashion Networking Pvt Ltd',\n",
       "       'Uable', 'ParkSmart', 'IncNut Digital', 'GigIndia', 'Specsmaker',\n",
       "       'Piggy Ride', 'NOTO', 'Cuemath', 'Cars24', 'Earth Energy EV',\n",
       "       'Green Cure', 'Blue Sky Analytics', 'Edhusk', 'Decentro',\n",
       "       'Zolostays', 'Frontier Markets', 'Brainwired', 'Aye Finance',\n",
       "       'Paper Boat', 'Ken42', 'Forbidden Foods', 'Universal Sportsbiz',\n",
       "       'Gobbly', 'Aerostrovilos', 'Bulk MRO', 'Inspektlabs', 'Zetwerk',\n",
       "       'ChitMonks', 'Walrus', 'Arth Designbuild', 'goDutch', 'Rusk Media',\n",
       "       'Bold Care', 'Samosa Party', 'High Street Essentials', 'Fullife',\n",
       "       'Oziva', 'Aether Biomedical', '91springboard', 'Yulu',\n",
       "       'Milkbasket', 'MergerDomo', 'GoMechanic', 'Milk Mantra', 'Myglamm',\n",
       "       'Drishti Technologies', 'Instasolv', 'GoldenPi', 'Peppermint',\n",
       "       'Jai Kisan', 'Agro2o', 'LetsTransport', 'GabbarDeals',\n",
       "       'Crimson Healthcare', 'Biomoneta', 'Edvizo', 'Drum Food',\n",
       "       'Innoviti', 'Jiffy ai', 'Postman', 'F5', 'Waycool',\n",
       "       'Myelin Foundry', 'Ameliorate Biotech', 'Hapramp', 'MyKaam',\n",
       "       'HealthPlix', 'YoloBus', 'iNurture Education', 'Pocket52',\n",
       "       'QuaQua', 'Crofarm', 'Timios', 'Wooden Street', 'Rentmojo',\n",
       "       'Credgencies', 'Knorish', 'Vahak', 'Nutrova', 'Cube Wealth',\n",
       "       'IVF Access', 'Hoi Foods', 'Ola Financial Services', 'Awifs',\n",
       "       'Swiflearn', 'Remedo', 'Blowhorn', 'Toch', 'Gram Cover',\n",
       "       'Coin DCX', 'HomeCapital', 'Euler Motors', 'Riskcovry',\n",
       "       'NWNT (No Worry No Tension Healthcare)', 'Voicezen',\n",
       "       'Credit Mantri', 'Xtracap', 'Vakilsearch', 'Khatabook',\n",
       "       'Indian School Finance Company', 'Juicy Chemistry', 'DeepTek',\n",
       "       'Stepathlon Lifestyle', 'Sindhuja Microcredit',\n",
       "       'Tesco Charge Zone', 'Intello Labs', 'SirionLabs', 'GroCurv',\n",
       "       'Refrens', 'Spyne', 'Docsapp', 'Phable', 'Generic Aadhaar', 'Nium',\n",
       "       'Mintoak', 'VestSpace', 'Blackbuck', 'Vernacular ai', 'Clover',\n",
       "       'Varthana', 'Codeninja', 'MetaMerphoSys', 'Rooter', 'Aker Foods',\n",
       "       'Sascan Meditech pvt ltd', 'DailyHunt', 'Pratilipi',\n",
       "       'Biryani By Kilo', 'Consure Medical', 'Tessol', 'News Reach',\n",
       "       'RoomSoom', 'Pedagogy', 'Medlife', 'Qin1', 'MYSUN', 'ShopX',\n",
       "       'NewsBytes', 'Wagonfly', 'Convosight', 'Fittr', 'AsknBid',\n",
       "       'Finaureus Technologies', 'Daily Ninja',\n",
       "       'Guvi Geek Network Pvt Ltd', 'LoadShare', 'Indusface', 'DMI Group',\n",
       "       'Spintly', 'Credr', 'Bijak', 'Bugworks', 'Yap', 'UzhavarBumi',\n",
       "       'Tattva', 'Pariksha', 'NoBroker', 'Box8', 'Capital Float',\n",
       "       'ITILITE', 'Morning Context', 'Aavenir', 'Savvy Co op', 'BLive',\n",
       "       'Yellow Messenger', 'Ewar', 'Setu', 'Wellthy Therapeutics',\n",
       "       'Locale ai', 'FarEye', 'Porter', 'SugarBox', 'Big Basket', 'Amica',\n",
       "       'Fingerlix', 'Plop', 'Zupee', 'DeHaat', 'Swiggy', 'Akna Medical',\n",
       "       'RaRa Delivery', 'JusPay', 'Obviously AI', 'Fingpay', 'Recko',\n",
       "       'Furlenco', 'Mera Cashier', 'Camp K12', 'MedGenome', 'Samadhan',\n",
       "       'SaScan', 'CureFit', 'Nimesa', 'Design X', 'Driftly Electric',\n",
       "       'Imstrong', 'Rupifi', 'SnackAmor', 'Zealthy', 'NuNu TV', 'QTalk',\n",
       "       'Shadez', 'Excess2Sell', 'Stanplus', 'Univariety', 'Peel Works',\n",
       "       'CoreStack', 'Agnikul', 'Fintso', 'Smart Coin', 'ZunRoof',\n",
       "       'Shop101', 'OM Bhakti', 'Lal10', 'Anaxee Digital Runner',\n",
       "       'CollegeKhabri', 'Ola Electric', 'Multi Living', 'FamPay',\n",
       "       'UnboxRobotics Labs', 'Karbon Card', 'Innerchef', 'Epigamia',\n",
       "       'StyleNook', 'Callido Learning', 'Soxytoes', 'Salesken',\n",
       "       'Leap Finance', 'Sleepy Owl', 'Tricog', 'GogoBus',\n",
       "       'Spaciya Consultants', 'Bounce', 'Neeman', 'Chqbook', 'SMEcorner',\n",
       "       'Oda Class', 'Spinny', 'goStops', 'Umeed Housing', 'Vogo',\n",
       "       'Flick Stree', 'Qure ai', 'MinionLabs', 'Josh Talks',\n",
       "       'PhoneParLoan', 'RailYatri', 'Pepper', 'iMerit', 'BharatPe',\n",
       "       'Invideo', 'AvalonMeta', 'Near Store', 'ElecTorq',\n",
       "       'Prayaan Capital', 'Sanfe', 'Go Desi', 'Whatfix', 'Zvesta',\n",
       "       'Digit Insurance', 'Yolo', 'SmartVizX', 'MaxWholesale',\n",
       "       'Carbon Clean', 'Genius Corner', 'PlanetSpark', 'CamCom', 'Simsim',\n",
       "       'Shuttl', 'HooLiv', 'ClassMonitor', 'Friyey', 'Oga', 'CYFIRMA',\n",
       "       'Paytm money', 'Nova Credit', 'CodingNinjas', 'HempStreet',\n",
       "       'MoEngage', 'Chaayos', 'PetPooja', 'Altor', 'Pepperfry',\n",
       "       'FirstCry', 'Byju', 'WorkIndia', 'Qyuki', 'Leap India', 'Picxy',\n",
       "       'NEETprep', 'Dot Pvt. Ltd', 'Kuku FM', 'SuperMoney', 'AlphaVector',\n",
       "       'Fox Capital', 'Tribe Theory', 'Embibe', 'Oye! Rickshaw',\n",
       "       'Seal Professional', 'Sprinng Foods', '1MG', 'Aagey', 'Doubtnut',\n",
       "       'AdonMo', 'Kisan Network', 'Unotech', 'CureSkin', 'WizKlub',\n",
       "       'Interviewbit', 'MoneyTap', 'Uniplatform Tech', 'INdwealth',\n",
       "       'Bizongo', 'AppsFlyer', 'Konfinity', 'Nupay', 'LogiNext',\n",
       "       'Samosa Singh', 'Crysta', 'Eupheus Learning', 'Park+', 'Goodmylk',\n",
       "       'SmartKarrot', 'Skylo', 'Tea Trunk', 'Zoomcar', 'Samya AI',\n",
       "       'Kristal AI', 'Invento Robotics', 'Sabse Sasta Dukaan',\n",
       "       'Fitphilia', 'Medicus', 'Monech', 'Teach Us', 'Dealberg',\n",
       "       'Phenom People', 'Extra Edge', 'Capital Quotient', 'Karfa',\n",
       "       'Zinier', 'ProEves', 'Toddle', 'Aesthetic Nutrition',\n",
       "       'TechnifyBiz', 'Wysh', 'Keito', 'Klub', 'Aadhar', 'IncubateHub',\n",
       "       'Rage Coffee', 'Skilancer', 'Harappa Education', 'Rheo',\n",
       "       'Axio Biosolutions', 'Techbooze', 'PayMart', 'Testbook',\n",
       "       'FabAlley', 'HaikuJAM', 'Mamaearth', 'Rentomojo', 'Generico',\n",
       "       'HighRadius', 'Chai Kings', 'Shiksha', 'Super Surfaces', 'Quicko',\n",
       "       'Satin Creditcare', 'XpressBees', 'FarmERP', 'Wealth Bucket',\n",
       "       'Fashor', 'Leverage Edu', 'EpiFi', 'Purplle', 'Pando'],\n",
       "      dtype=object)"
      ]
     },
     "execution_count": 59,
     "metadata": {},
     "output_type": "execute_result"
    }
   ],
   "source": [
    "#Company_Brand column\n",
    "data_2020['Company/Brand'].unique()"
   ]
  },
  {
   "cell_type": "code",
   "execution_count": 60,
   "metadata": {},
   "outputs": [
    {
     "data": {
      "text/plain": [
       "array(['AgriTech', 'EdTech', 'Hygiene management', 'Escrow',\n",
       "       'Networking platform', 'FinTech', 'Crowdsourcing',\n",
       "       'Food & Bevarages', 'HealthTech', 'Fashion startup',\n",
       "       'Food Industry', 'Food Delivery', 'Virtual auditing startup',\n",
       "       'E-commerce', 'Gaming', 'Work fulfillment', 'AI startup',\n",
       "       'Telecommunication', 'Logistics', 'Tech Startup', 'Sports',\n",
       "       'Retail', 'Medtech', 'Tyre management', 'Cloud company',\n",
       "       'Software company', 'Venture capitalist', 'Renewable player',\n",
       "       'IoT startup', 'SaaS startup', 'Aero company', 'Marketing company',\n",
       "       'Retail startup', 'Co-working Startup', 'Finance company',\n",
       "       'Tech company', 'Solar Monitoring Company',\n",
       "       'Video sharing platform', 'Gaming startup',\n",
       "       'Video streaming platform', 'Consumer appliances',\n",
       "       'Blockchain startup', 'Conversational AI platform', 'Real Estate',\n",
       "       'SaaS platform', 'AI platform', 'Fusion beverages', 'HR Tech',\n",
       "       'Job portal', 'Hospitality', 'Digital Media', 'Dairy startup',\n",
       "       'Content management', 'Spacetech', 'Transportation',\n",
       "       'Trading platform', 'AI Company', 'Photonics startup',\n",
       "       'Entertainment', 'Cosmetics', 'Scanning app', 'Skincare startup',\n",
       "       'Food and Beverages', 'Biotechnology company', 'FoodTech',\n",
       "       'Proptech', 'CleanTech', 'Fitness startup', 'Healthcare',\n",
       "       'PaaS startup', 'Beverages', 'Social Media', 'Automobiles',\n",
       "       'Deeptech', 'EV startup', 'AR/VR startup', 'Recruitment startup',\n",
       "       'QSR startup', 'Video platform', 'Edtech', 'Fertility tech',\n",
       "       'Luxury car startup', 'FM', 'Food', 'Nutrition sector',\n",
       "       'Tech platform', 'Video', 'Retail Tech', 'HeathTech',\n",
       "       'Sles and marketing', 'LegalTech', 'Car Service',\n",
       "       'Bike marketplace', 'Agri tech', 'Reatil startup', 'AR platform',\n",
       "       'Consumer Goods', 'Content marketplace', 'Interior Design',\n",
       "       'Rental space', 'Soil-Tech', 'Ayurveda tech',\n",
       "       'Packaging solution startup', 'Cleantech', 'Sanitation solutions',\n",
       "       'HealthCare', 'Home Design', 'InsureTech', 'AI Startup',\n",
       "       'Solar solution', 'Jewellery startup',\n",
       "       'Multinational conglomerate company', 'Deeptech startup',\n",
       "       'Social Network', 'Publication', 'Tech', 'Fashion', 'Finance',\n",
       "       'Venture capital', 'Entreprenurship', 'Food devlivery',\n",
       "       'Warehouse', 'Online financial service', 'Eyeglasses',\n",
       "       'Battery design', 'Online credit management startup', 'Beverage',\n",
       "       'TravelTech', 'Agriculture', 'Startup laboratory',\n",
       "       'Personal care startup', 'Customer service company',\n",
       "       'SaaS\\xa0\\xa0startup', 'Marketing startup', 'Service industry',\n",
       "       'Social media', 'AI', 'Jewellery', 'AR startup', 'HR Tech startup',\n",
       "       'Automotive Startup', 'Food Startup', 'EdTech Startup',\n",
       "       'Car Trade', 'EdtTech', 'Manufacturing', 'AI Platform',\n",
       "       'Automation', 'Solar SaaS', 'WL & RAC protection',\n",
       "       'Social commerce', 'Home interior services', 'Agritech startup',\n",
       "       'API platform', 'Deep Tech', 'Electricity', 'Automotive company',\n",
       "       'FMCG', 'Insurance Tech', 'Video personalization',\n",
       "       'Software Company', 'Biomaterial startup', 'Health', 'IT',\n",
       "       'Craft Beer', 'Healthtech', 'Education', 'Investment',\n",
       "       'Linguistic Spiritual', 'Construction', 'Battery manufacturer',\n",
       "       'Nano Distribution Network', 'AI health', 'Dating app', 'Media',\n",
       "       'Fintech', 'Healthcare/Edtech', 'Social Commerce',\n",
       "       'Agritech/Commerce', 'Mobility tech', 'Social e-commerce',\n",
       "       'Food & Logistics', 'SpaceTech', 'Nutrition Tech', 'HR', 'IoT',\n",
       "       None, 'Agritech', 'Interior design', 'Foodtech', 'AR/VR',\n",
       "       'Appliance', 'HR tech', 'Food tech', 'Mental Health', 'Ecommerce',\n",
       "       'Solar Solution', 'SaaS', 'Automobile', 'B2B marketplace',\n",
       "       'Fashion Tech', 'Nutrition tech', 'Health & Wellness',\n",
       "       'Cloud Kitchen', 'IoT/Automobile', 'Eye Wear', 'Digital tech',\n",
       "       'Data Intelligence', 'Co-living', 'Food & Beverages', 'Automotive',\n",
       "       'B2B', 'Defense tech', 'Marketplace', 'Construction tech',\n",
       "       'Nutrition', 'Coworking', 'Micro-mobiity', 'Auto-tech', 'Beauty',\n",
       "       'Robotics', 'Yoga & wellness', 'Logitech', 'Med Tech',\n",
       "       'Life sciences', 'Retail Aggregator', 'Deep Tech AI', 'Biotech',\n",
       "       'Blockchain', 'HrTech', 'Mobility/Transport', 'Travel', 'Rental',\n",
       "       'AI & Debt', 'SaaS/Edtech', 'Transport', 'Co-working', 'Insurtech',\n",
       "       'Cryptocurrency', 'Automotive tech', 'Legal', 'Fitness', 'EV',\n",
       "       'Supply chain, Agritech', 'Pharma', 'Insurance technology',\n",
       "       'Foodtech & Logistics', 'Housing', 'Pharmaceutical',\n",
       "       'Data Analytics', 'Investment Tech', 'Financial Services',\n",
       "       'Biopharma', 'Dairy', 'Beauty & wellness', 'Travel & SaaS',\n",
       "       'Tourism & EV', 'Media Tech', 'Location Analytics', 'E store',\n",
       "       'Data Science', 'Insurance', 'Health and Fitness', 'Technology',\n",
       "       'Interior & decor', 'eMobility', 'Automation tech',\n",
       "       'Media & Networking', 'E-market', 'AI & Data science',\n",
       "       'Travel tech', 'Automotive and Rentals', 'E-tail', 'Accomodation',\n",
       "       'AI & Media', 'Machine Learning', 'Content Marktplace',\n",
       "       'Visual Media', 'Hygiene', 'VR & SaaS', 'Sales & Services',\n",
       "       'AI & Deep learning', 'Housing & Rentals', 'Estore', 'Marketing',\n",
       "       'E tailor', 'E-mobility', 'Ad-tech', 'Neo-banking',\n",
       "       'Transport Automation', 'Techonology', 'Transport & Rentals',\n",
       "       'AI Robotics', 'Preschool Daycare', 'Food diet', 'B2B Agritech',\n",
       "       'E-connect', 'Tech hub', 'Consultancy', 'Pharmacy', 'Deisgning',\n",
       "       'Taxation', 'Automobile Technology'], dtype=object)"
      ]
     },
     "execution_count": 60,
     "metadata": {},
     "output_type": "execute_result"
    }
   ],
   "source": [
    "#Sector\n",
    "data_2020['Sector'].unique()"
   ]
  },
  {
   "cell_type": "code",
   "execution_count": 61,
   "metadata": {},
   "outputs": [
    {
     "data": {
      "text/plain": [
       "array(['Angel investors', 'GSF Accelerator', 'Venture Center',\n",
       "       'Venture Catalysts, PointOne Capital',\n",
       "       'Siana Capital Management, Info Edge',\n",
       "       'Venture Catalysts, 9Unicorns Accelerator Fund', 'ICICI Bank.',\n",
       "       'HostelFund', 'KB Investment, Bertelsmann India Investments',\n",
       "       'Shantanu Deshpande, Subramaniam Ramadorai', 'Fireside Ventures',\n",
       "       'Axilor Ventures, S.D. Shibulal', \"Acumen Fund's angel programme\",\n",
       "       'Sequoia Capital India, Sixth Sense Ventures', 'Rebel Foods',\n",
       "       'Kora, Tiger Global Management', '100X VC, Amara Ventures',\n",
       "       'Bertelsmann India Investments, InnoVen Capital',\n",
       "       'Mastercard, Temasek Holdings', 'BlackSoil, Caspian',\n",
       "       'Jindal Steels, Jeet Banerjee', None, 'Zenith Global',\n",
       "       'Unitus Ventures, Work10M', 'Coinbase Ventures, Polychain',\n",
       "       'Mithril Capital Management.', 'Google', 'Better Capital',\n",
       "       'Steadview Capital, Canada Pension Plan Investment Board',\n",
       "       'Quona Capital', 'Swastika', 'Flipkart, Walmart',\n",
       "       'Delhi Private School, UAE, Interstar', 'Malpani Ventures',\n",
       "       'Survam Partners', 'Whiteboard Capital', 'Sequoia Capital.',\n",
       "       'Blacksoil', 'Bridgestone India', 'BEENEXT, Mayfield Fund',\n",
       "       'A91 Partners, Artha India Ventures',\n",
       "       'Sequoia Capital, India Quotient', 'NIIF Ltd, CDC Group',\n",
       "       'PayU Finance India, Quona Capital', 'STEMROBO Technologies',\n",
       "       'Infrastructure Leasing & Financial Services Limited, Dorm Room Fund',\n",
       "       'The CoWrks Foundry', 'Flipkart', 'Y Combinator, Sierra Ventures',\n",
       "       '9Unicorns Accelerator Fund', 'Speciale Invest',\n",
       "       'XRM Media, Kevin Lin', 'Huddle Accelerator',\n",
       "       'Hindustan Media Venture, Nicolas Jarrosson', 'India Angel Fund',\n",
       "       'Blume Ventures', 'Elevation Capital, Trifecta Capital Advisors',\n",
       "       'Stride Ventures, Matrix Partners India', '9Unicorns, Anicut',\n",
       "       'Venture Catalysts, 9Unicorns, We Founders Circle.',\n",
       "       'SenseAI Ventures, Saurabh Chugh',\n",
       "       'Startup incubator, Accelerator Venture Catalysts',\n",
       "       'India Accelerator, Sunil Kamath',\n",
       "       'Ramakant Sharma, Leo Capital India',\n",
       "       'Investment Corporation of Dubai (ICD)',\n",
       "       '9Point8 Capital, Sunil Kumar Singhvi',\n",
       "       'Sandeep Tandon, Survam Partners',\n",
       "       'Falcon Edge Capital, Omidyar Network', 'WEH Ventures, BEENEXT',\n",
       "       'Sequoia Capital India, CapitalG', 'La Gajjar Group.',\n",
       "       'Axilor Ventures, Unitus Ventures', 'Prolific angel investors',\n",
       "       'Ideaspring Capital, Accel', 'Nativelead Foundation',\n",
       "       'FMO, IndusInd Bank',\n",
       "       'Trifecta Capital Advisors, Nexus Venture Partners', 'Lightbox',\n",
       "       'Golden Birch Investments, She Capital',\n",
       "       'Pras Hanuma, Rebright Partners, Java Capital, and GSF Accelerator.',\n",
       "       'General Catalyst, Ribbit Capital', 'FMO', 'Surge',\n",
       "       'Unitus Ventures, Whiteboard Capital',\n",
       "       'StartupXseed Ventures, 100X.VC',\n",
       "       'Stellaris Venture Partners, Mastercard',\n",
       "       'Paula Mariwala, Siddharth Anand', 'Sequoia Capital India’s Surge',\n",
       "       'Venture Catalysts, 9Unicorns', 'India Accelerator',\n",
       "       'Pegasus Tech Ventures, Base Partners', 'GoodWorker.', 'Capify',\n",
       "       'Mumbai Angels, JITO Angel Network.',\n",
       "       'George Osborne, Smilegate Investment',\n",
       "       'Accel India, Breadlake Ventures', 'Ankur Mittal, Mitesh Shah',\n",
       "       'IIFL Asset Management, Matrix Partners', 'IIFL AMC',\n",
       "       'Global Car Group, Freemark holdings',\n",
       "       'Venture Catalysts, Speciale Invest', 'Venture Catalysts',\n",
       "       'Anupam Mittal, India Quotient', 'Unicorn India Ventures',\n",
       "       'DTDC, Udaan Angel Partners', 'Rainmatter',\n",
       "       'YourNest, growX ventures', 'Gemba Capital',\n",
       "       'Dragoneer Investment Group, Tiger Global Management',\n",
       "       'India Quotient', 'Surge, Tanglin Venture Partners',\n",
       "       'Alia Bhatt, Katrina Kaif', 'Pravega Ventures',\n",
       "       'Techstars Bangalore Accelerator, Techstars',\n",
       "       'Alfa Ventures, Divij Bajaj',\n",
       "       'Owl Ventures, Tiger Global Management',\n",
       "       'Whiteboard Capital, Matrix Partners India',\n",
       "       'Orios Venture Partners, Matrix Partners India',\n",
       "       '9Unicorns, 3Lines VC, Hyderabad Angels',\n",
       "       'Techstars, Techstars Bangalore Accelerator',\n",
       "       'Rajasthan Venture Capital Fund, AIM Smart City',\n",
       "       'Venture Catalysts, SOSV', 'BASE, Gunosy Capital',\n",
       "       'Nexus Venture Partners, Dream Incubator', 'DSG Consumer Partners',\n",
       "       'IBK Capital, SB Partners', 'Whiteboard Capital, Ahimsa Capital',\n",
       "       'Jonathan Swanson, Ankush Gera', 'Titan Capital',\n",
       "       'Asha Impact, Aavishkaar Venture Capital',\n",
       "       'Peyush Bansal, Ritesh Malik', 'AngelList India',\n",
       "       '3Lines, Jabbar Internet Group',\n",
       "       'Canaan Partners, NewView Capital', 'Better Capital, Gunosy',\n",
       "       'Sanjay Ramakrishnan, Ravi Garikipati', '9Unicorns', 'Jazal Group',\n",
       "       'Small Industries Development Bank of India', 'Goldman Sachs',\n",
       "       'LetsVenture, Jyotsna Bapat', 'Alibaba Group, InnoVen Capital',\n",
       "       'Poonawalla, Allana Group', 'Navus Ventures, Rockstart',\n",
       "       'AET Japan, Figure Eight Investments, Waterbridge Ventures',\n",
       "       'Sweta Rau, Archana Priyadarshini', 'Rajul Garg, Purvi Capital',\n",
       "       'Rajasthan Venture Capital Fund',\n",
       "       'Ratan Tata, Inflection Point Ventures, Ankur Mittal',\n",
       "       'Lightspeed, Elevation, Deepika Padukone',\n",
       "       'Abu Dhabi Investment Authority, GIC', 'Global Ascent Partners',\n",
       "       'HeroMotoCorp Ltd and Sachin Bansal',\n",
       "       'VAMM Ventures, Naresh Malhotra', 'DEG, KFW DEG',\n",
       "       'Accel, Alteria Capital', 'Mumbai Angels Network',\n",
       "       'AVANA Capital, Rebright Partners', 'Endiya Partners.',\n",
       "       'Mumbai Angels', 'Menterra Venture Advisors, Emandi Sankara Rao',\n",
       "       'Hercules Capital, Inc.Bertelsmann', 'Mohsin Hani Al Bahrani, MoD',\n",
       "       'CP Ventures, Orios Venture Partners',\n",
       "       'Kia Ora Ventures, Pentathlon Ventures',\n",
       "       'Kae Capital, Whiteboard Capital', 'Lokmat Investments',\n",
       "       'Niren Shah, Rukam Capital Trust',\n",
       "       'Chandigarh Angels Network, Modulor Capital',\n",
       "       'Rohit Chanana, Sukanta Ganguly', 'Alan Patricof, Jim Moffatt',\n",
       "       'IAN Fund', '9Unicorns, Titan Capital, FirstCheque',\n",
       "       'AIM Smart City', 'RB Investments Pte. Ltd, Goldman Sachs',\n",
       "       'Rajasthan Venture Capital Fund, Innovana Thinklabs',\n",
       "       '>Vikram Sud', 'Maple Capital Advisors',\n",
       "       '021 Capital, India Quotient', 'Ascent Capital, Iron Pillar',\n",
       "       'Oaks Asset Management', 'Roots Ventures, Better Capital',\n",
       "       'Sequoia Capital India, Faering Capital', 'Lightspeed India',\n",
       "       'CESC Ventures, Brun Raschle', 'Accel, Sunder Nookala', 'Justdial',\n",
       "       'KLUB Works, Shankar Narayanan',\n",
       "       'Nexus Venture Partners and 23 High Networth Individuals (HNIs)',\n",
       "       'Makers Fund, Courtside Ventures', 'RPSG Ventures, Amicus Capital',\n",
       "       'Times Group, Lightspeed', 'Mumbai Angels, Murali Nair',\n",
       "       'Nexus Venture Partners, Capria Ventures',\n",
       "       'Katrina Kaif, Steadview Capital',\n",
       "       'Exfinity Venture Partners, Shesh Kondi',\n",
       "       'Sandeep Tandon, Daniel Lapus', 'Northern Arc Capital',\n",
       "       'Samyakth Capital, Venture Catalysts', 'Jungle Ventures',\n",
       "       'Windrose Capital', 'Base Partners, Sequoia Capital India',\n",
       "       'Nishant Rao, Jonathan Boutelle', 'Picus Capital',\n",
       "       'Citi Ventures, Illuminated Funds Group',\n",
       "       'A91 Partners, RB Investments Pte. Ltd',\n",
       "       'GenNext Ventures, Contrarian Drishti Partners', 'Anand Mahindra',\n",
       "       'Alliance Ventures, Storm Ventures', 'Tandem',\n",
       "       'Indian Oil Corporation, Krishna Chakravarty', 'Tech Mahindra',\n",
       "       'Whiteboard Capital, VKG Ventures LLP.', 'TVS Motor Company',\n",
       "       'Sujeet Kumar, Hemesh Singh', 'Mount Judi Ventures',\n",
       "       'AngelList, Investec', 'Accel, Stellaris Venture Partners',\n",
       "       'Artha Venture', 'MOX, SOSV',\n",
       "       'Flourish Ventures, Lonsdale Capital', 'Kapil Dev',\n",
       "       'Lightspeed, Matrix Partners.',\n",
       "       'Eight Roads Ventures, On Mauritius',\n",
       "       'NABVENTURES, Social Alpha (India)',\n",
       "       'growX Ventures, Huddle (Incubator)',\n",
       "       'Better Capital, Kunal Shah, Gaurav Munjal',\n",
       "       'Lead Angels Network, Roots Ventures',\n",
       "       'Rohit Bansal, Rohan Ranavat', 'Real Estate Accelerator Program',\n",
       "       'Riso Investments, Lenskart', 'Sequoia Capital India',\n",
       "       'UPS Ventures, Hyundai Motor Company',\n",
       "       'King River Capital, Leap Capital', 'SOSV, Artesian',\n",
       "       'Upfront Ventures, Walkabout Ventures', 'Advent Partners',\n",
       "       'Stride Ventures, YourNest Venture Capital',\n",
       "       'Tiger Global Management, Sequoia Capital India',\n",
       "       'Syngenta Ventures, Walmart',\n",
       "       'Tiger Global Management, William Bissell',\n",
       "       'Alok Mittal, Manan Maheshwari',\n",
       "       'Mercer Investments, Bessemer Venture Partners', 'Startup Basket.',\n",
       "       'Orkla Ventures, Smedvig Capital', 'NABVENTURES',\n",
       "       'Xseed Partners, InnoVen Capital',\n",
       "       'Lightspeed India Partners, Accel India',\n",
       "       'Accel, Steadview Capital',\n",
       "       'Silver Lake, Mubadala Investment Company',\n",
       "       'Amit Lakhotia, Akash Gehani',\n",
       "       'Aavishkaar Venture Capital, Chiratae Ventures',\n",
       "       'NABVENTURES, Omnivore', 'Java Capital',\n",
       "       'SenseAI Ventures, EvoNexus', 'Digital Finance Group, FundersClub',\n",
       "       'Sriharsha Majety, Rahul Jaimini', 'Wavemaker Partners, Subho Ray',\n",
       "       'Upsparks', 'Saurabh Arora, LD Sharma', 'Foxhog Ventures',\n",
       "       'Ramesh Mangaleswaran, Saikiran Krishnamurthy', 'Triodos, Caspian',\n",
       "       \"Lee Fixel's Addition, SIG Global, Tanglin Venture Partners\",\n",
       "       'I2I Capitals', 'Core91 Fund, Anupam Mittal', 'Terwilliger Centre',\n",
       "       '2B Angels, Janvest Capital Partners', 'Rising Stars',\n",
       "       'General Atlantic, Kohlberg Kravis Roberts',\n",
       "       'CICC Alpha, VMS Asset Management', 'Sekhar Puli',\n",
       "       'Cowin Venture, ZSVC', 'International Finance Corporation',\n",
       "       'BlackSoil, BEENEXT', 'Marc Lore, Rise Capital',\n",
       "       'Sequoia Capital India, Hummingbird Ventures',\n",
       "       'IAN Fund, Rajasthan Venture Capital Fund',\n",
       "       'RPS Ventures, Intact Ventures',\n",
       "       'Artha India Ventures, Nagaraja Prakasam',\n",
       "       'Chiripal Group, Ratish Kumar Nair',\n",
       "       'Pallav Nadhani, Idein Ventures',\n",
       "       'Salesforce Ventures, Dragoneer Investment Group',\n",
       "       'Spiral Ventures, Surge', 'Sequoia Capital India, Times Internet',\n",
       "       'responsAbility, Grameen Impact India (GIII)',\n",
       "       'Tencent Holdings, Walmart',\n",
       "       'Aspada, Creation Investments Capital Management, LLC',\n",
       "       'GirnarSoft',\n",
       "       'Jamshed Jeejeebhoy, Symphony International Holdings',\n",
       "       'Facebook, Google, KKR, Silver Lake',\n",
       "       '021 Capital, Karnataka Information Technology Venture Capital Fund',\n",
       "       'Homage Ventures.', 'Steadview Capital, Tencent Holdings',\n",
       "       'Adar C. Poonawalla, Kris Gopalakrishnan', 'Coatue Management',\n",
       "       'Steadview Capital', 'Mumbai Angels, Redcliffe Capital',\n",
       "       'Gaja Capital, Kotak Life, Lok Capital',\n",
       "       'DR. Moti Vyas, Udit Goyal',\n",
       "       'Nexus Venture Partners, Sequoia Capital',\n",
       "       'Propstack, SAIF Partners',\n",
       "       'MacRitchie Investments, Baillie Gifford',\n",
       "       'Tencent Holdings, Times Internet',\n",
       "       'Global Innovation Fund, Soros Economic Development Fund',\n",
       "       'Ronald Conway, Bay Partners', 'Prospect Partners.',\n",
       "       'Omnivore, Zeroth.AI', 'Mumbai Angels.',\n",
       "       'Ramesh Srinivasan, Amazon', 'Eight Roads Ventures',\n",
       "       'Ashok Leyland, V Lakshmi Narayanan',\n",
       "       'Ranjit Punja, R Sudarshan, Gowri Mukherjee',\n",
       "       'Gunavanth Vaid, Bharat Kumar Sohanraj', 'Venkat Raju',\n",
       "       'Silver Lake Partners',\n",
       "       'Clairvest Group, Ontario Centres of Excellence',\n",
       "       'Damien Toledo, Jim Bugwadia, Ritesh Patel',\n",
       "       'US based NRI Investors', 'Inflection Point Ventures, Mitesh Shah',\n",
       "       'Betatron', 'Chiratae Ventures, Blume Ventures',\n",
       "       'Ravi Sanghvi, PitchRight Venture',\n",
       "       'Bessemer Venture Partners, CDH Investments', 'HNIs',\n",
       "       'Guild Capital', 'Y Combinator', 'Prime Venture Partners',\n",
       "       'Mela Ventures, 1Crowd', 'responsAbility, Accel',\n",
       "       'Chiratae ventures', 'Palm Drive Capital, Amatil X Ventures',\n",
       "       'Sequoia Capital India, Blume Ventures',\n",
       "       'JF Mauritius SPV, IndusAge Partners', 'VC Firm K Partners',\n",
       "       'India Alternatives Private Equity Fund, Tata Capital',\n",
       "       'Bonnier Ventures, Hanaco Venture Capital',\n",
       "       'Gemba Capital, Gunderson Dettmer', '500 Startups, ah! Ventures',\n",
       "       'Base Partners, GO Ventures', 'Accel, Zodius Capital',\n",
       "       'Windrose Capital, Anil Advani', 'Seeds Capital, AIM Smart City',\n",
       "       'Blume Ventures, Tetrao',\n",
       "       'Lightspeed venture partners, saif partners',\n",
       "       'Shadows Holdings, Lightbox',\n",
       "       'Lightspeed India Partners, Sequoia Capital India',\n",
       "       'Abhishant Pant, Chiranth Patil', 'Madison, Anicut',\n",
       "       'DSG Consumer Partners, Saama Capital',\n",
       "       'Kakao Ventures, Shinhan Capital',\n",
       "       'Matrix Partners India, Hummingbird Ventures',\n",
       "       '23 High Networth Individuals (HNIs).',\n",
       "       'Ratan Tata, Kalaari Capital', 'Nexus Venture Partners',\n",
       "       'Global Founders Capital, Redpoint',\n",
       "       '01 Advisors, Steadview Capital', 'Pushpak Credit, Fiscal',\n",
       "       'Kaizenvest, Foundation Holdings',\n",
       "       'Pincus, JP Morgan, Temasek, March Capital',\n",
       "       'Westbridge Capital, Elevar Equity', 'BAce Capital, Madhur Deora',\n",
       "       'Lightspeed India, Sequoia Capital India',\n",
       "       'IIFL Asset Management, Raghav Bahl',\n",
       "       'Wes Schwalje, Alteria Capital',\n",
       "       'IDFC-Parampara Fund, Bharat Innovation Fund',\n",
       "       'Mercer Investments, Nicholas Cator',\n",
       "       'Falcon Edge Capital, SAIF Partners', 'Chiratae Ventures.',\n",
       "       'Menterra Venture Advisors, Rianta Capital',\n",
       "       'Sunil Kumar Singhvi, Yusho Kawata',\n",
       "       'Accel Partners, Sequoia Capital, Evolvence India, JSW Ventures',\n",
       "       'Bessemer Venture Partners', 'Insitor Partners, C4D Partners',\n",
       "       'Sinai Ventures, Y Combinator', 'Jitendra Gupta, Better Capital',\n",
       "       'Mumbai Angels, Defence Innovation Organisation',\n",
       "       'CBA Capital, Gray Matters Capital',\n",
       "       'Kalpavriksh, JITO Angel Network',\n",
       "       'growX ventures, Sangam Ventures',\n",
       "       'SRI Capital, Techstars Farm to Fork Accelerator',\n",
       "       'Y Combinator, Ribbit Capital', 'Hatanaka Yosuke, Minomiya Takeo',\n",
       "       'Krishnan Menon, Srinivas Kollipara',\n",
       "       'SucSEED Venture Partners, ah! Ventures', 'Surge, Kae Capital',\n",
       "       'Nexus Venture Partners, Sam Lambert',\n",
       "       'Alto Partners, Mission Holdings', 'SCB 10X, LINE Ventures',\n",
       "       'Powerhouse ventures, Tracxn,', 'Kaplan Foundation', 'Ivy Icon',\n",
       "       'Millenna FVCI III, NB Ventures, Dream Incubator', 'Balancehero',\n",
       "       'Anicut Capital',\n",
       "       'Al Falaj Commercial Investment Co, Vistra ITCL India',\n",
       "       'Supera Investments',\n",
       "       'Accel India, Blume Ventures, 3F Ventures, Akatsuki Inc',\n",
       "       'GGV Capital, Sahi Barual',\n",
       "       'Grand Anicut Angel Fund (GAAF), AL Trust, Beeline Impex Private Limited, 9Unicorns, Accelerator Fund',\n",
       "       'Bertelsmann India Investments, Sequoia Capital India',\n",
       "       'Times Internet, TLabs',\n",
       "       'Saif partners, Accel partners, Sequoia capital',\n",
       "       'Jitendra Gupta, Astarc Ventures.', 'Nestavera Ventures.',\n",
       "       'MOX, Venture Catalysts', 'Sojitz, SIG Global India Fund',\n",
       "       'Mohan Verma, Better Capital', 'Shikhar Dhawan, Mantra Capital',\n",
       "       'Kiran Mazumdar Shaw.', 'Bhadresh',\n",
       "       'GB Group, Walden International', 'Meghna Agarwal, Navin Dhanuka',\n",
       "       'V Sumantran, V Lakshmi Narayanan',\n",
       "       'Keiretsu Forum, SucSEED Venture Partners',\n",
       "       'Sweta Rau, Sandeep Kapoor', 'Mantis ventures',\n",
       "       'Napino Auto and Electronics Ltd',\n",
       "       'VCATS, First Cheque, 9Unicorns, Marquee investors',\n",
       "       'AngelList, Inflection Point Ventures, The Chennai Angels',\n",
       "       'Mayfield India, Saama Capital, Ronnie Screwvala', 'DST Global',\n",
       "       'Alphawave, Matrix Partners', 'Keiretsu Forum, Elea Foundation',\n",
       "       'WaterBridge Ventures', 'Alpha Wave incubation',\n",
       "       'Inflection Point Ventures', 'Anand Shah',\n",
       "       'WestBridge Capital, Elevar Equity',\n",
       "       'KTB Network, Samsung Ventures, Ankur Nagpal, Gokul Rajaram, Vineet Buch',\n",
       "       'Ankur Capital',\n",
       "       'Lightspeed India Partners, Blume Ventures, GrowX ventures',\n",
       "       '3one4 Capital, Angel list India',\n",
       "       'StartupXseed Ventures, Bhaskar Pramanik, MJ Aravinf, Ravi Viswanath, Ramesh Radhakrishnan, Ranjan Biswas, MJ Aniketh.',\n",
       "       'SAIF Partners, Y Combinator, Neeraj Arora, Titan Capital, First Cheque.',\n",
       "       'Suniel Shetty', 'SOSV, MOX (Mobile Only Accelerator)',\n",
       "       'Matrix Partners India, Sequoia Capital India, Hummingbird Ventures',\n",
       "       'Unitus Ventures, India Quotient, AngelList India',\n",
       "       'Artha Venture Fund', 'Shobu Yarlagadda',\n",
       "       'Fullerton Financial Holdings, Bertelsmann India Investments, Sistema Asia Fund, IndiaQuotient',\n",
       "       '1Crowd', 'Foundation Holdings',\n",
       "       'Ankur Capital, Beyond Next Ventures', 'Orios Venture Partners',\n",
       "       'Evolvence India Fund (EIF), Pidilite Group, FJ Labs',\n",
       "       'IIFL Income Opportunities Fund', 'Sequoia India',\n",
       "       'Stride Ventures', 'Better Capital, TechStars, Barclays.',\n",
       "       'Venture Catalysts,\\xa0\\xa0Raveen Sastry',\n",
       "       'AngelList India, Utsav Somani, Village Global, LogX Ventures, Jasminder Singh Gulati',\n",
       "       'Eagle10 Ventures, India Accelerator, HNIs',\n",
       "       'Uday Sodhi, Mitesh Shah, Nitin Jain', 'Sequoia Surge',\n",
       "       'Elina Investments', 'Qualgro, Lachy Groom',\n",
       "       'Urmin Family Office, Lemonade Ventures, TrueValue Group MD Yash Shah',\n",
       "       'LogX Ventures, AngelList’s Utsav Somani, NowFloats’ Jasminder Singh Gulati, AL Trust (Vistra ITCL), Village Global.',\n",
       "       'All About Inc, Beenext Pte Led, Beenos Asia, DG Ventures, Kanamori Assagement Singapore, Rebright Partners I, Rebright Partners II, Tetsuro Koda',\n",
       "       'Shabir Momin, OneDigital Entertainment,\\xa0\\xa0Saurabh Pathak.',\n",
       "       'Indian Angel Fund',\n",
       "       'N S Parthasarathy, Dilipkumar Khandelwal, Anand Nichani, Anath Ravi, Prashanth Prakash',\n",
       "       'Crazy Labs', 'Info Edge',\n",
       "       'Sanjay Mehta, Vikram Pandya, Gaurav Gupta, Vivel Srivatsav, Madhavi Bollipalli, Srinivas Paanem, Satish Bogullu',\n",
       "       'Dr. Bhaskar Rao Bollineni', 'BlueOrchard Finance Limited',\n",
       "       'ResponsAbility Investments AG', 'Good Capital',\n",
       "       'Dr Srinivas Chunduru', 'Ashok Nichani, Shelly Nichani',\n",
       "       'Hero MotoCorp', 'Unitus Venture',\n",
       "       'Matrix Partners India, Ankur Capital',\n",
       "       'Unicorn India, PointOne Capital, Astir Ventures',\n",
       "       'Sequoia Capital India, Matrix Partners India, InfoEdge, Waterbridge Ventures',\n",
       "       'BlackSoil Capital', 'Ah! Ventures', 'Rajesh Ranavat', 'Coatue',\n",
       "       'Samsung Venture Investment Corporation', 'Jetty Ventures',\n",
       "       '021 Capital', 'LetsVenture Syndicate', 'Chennai Angels',\n",
       "       'SucSEED Ventures', '3one4 Capital', 'Incubate Fund',\n",
       "       'RPSG Ventures', 'Incubate Fund India', 'Eight Road Ventures',\n",
       "       'JAFCO Asia, Artha Venture Fund',\n",
       "       'Tharun Dhariwal, Sunil Kumar Singhvi, Arun Ostwal, Vishal Ostwal, Gunavanth Vaid, Bharat Kumar',\n",
       "       'WEH Ventures', 'Trifecta Capital', 'Vivriti Capital',\n",
       "       'Adar Poonawalla, Kris Gopalakrishnan', 'LR Joshi',\n",
       "       'Beenext, Rainmatter CApital Pvt Ltd, Stanford Angels & Entrepreneurs',\n",
       "       'Mumbai Angel Network',\n",
       "       'Investcorp, Nexus Venture Partners, Mirae Assets, Trifecta Capital',\n",
       "       \"ENGIE RAssembleurs d'Energies, The Rise Fund, and The Singh Family Trusts,Teja Ventures, Beyond Capital Fund.\",\n",
       "       'Kritik Abiram, Parthiv Rokadia, Gaurav Saraogi',\n",
       "       'Invest in Vision',\n",
       "       'Sofina Ventures, A91 Emerging fund, SCI Growth Investment II, Catamarann Ventures',\n",
       "       'Turbostart',\n",
       "       'Globevestor, Secocha Ventures, First Cheque VC, Kashyap Deorah, Vijay Sivaram',\n",
       "       'NB Ventures', 'Sauce vc', '3One4 Capital, LetsVenture',\n",
       "       'Better Capital, Titan Capital', 'Lightbox Ventures', 'Greenoaks',\n",
       "       'Startup-O, Eden Ventures',\n",
       "       'Matrix India, Y Combinator, Global Founders Capital, Soma Capital, VentureSouq',\n",
       "       'InfoEdge Venture Fund, Sprout Venture Partners',\n",
       "       'Rajesh Ranavat, Abhishek Shah, Sheetal Bahl, Manu Rikhye, Ashish Taneja, Kabir Kochhar, Mohit Satyanand',\n",
       "       'SAIF Partners, India Quotient', 'BOND', 'Gunosy',\n",
       "       'Leo capital, Ramakant Sharma', 'Amansa Capital',\n",
       "       'Matrix Partners', \"Capital G, Alphabet's Independent growth fund\",\n",
       "       'Chiratae Ventures',\n",
       "       'Pearl Brook Holdings Ltd, Al Nour International Holdings Co.',\n",
       "       'Rocketship', 'Nadir Godrej, Individual Investors', 'Pawan Munjal',\n",
       "       'US International Development Finance Corporation',\n",
       "       'Tano India, L’Occitane, Bessemer', 'Sozo Ventures', 'Undisclosed',\n",
       "       'Rainmatter Capital', 'Venture Catalysts, Naveen Kshatriya,',\n",
       "       'Shikhar Dhawan', 'Arkam Ventures, Nabventures',\n",
       "       'Beyond Next Ventures, ArthaVida Ventures, Dr Aniruddha Malpani',\n",
       "       'Iron Pillar, Blume Ventures', 'Danone Manifesto, Mousse Partners',\n",
       "       'Entrepreneurial Development Bank, Bessemer Venture Partners',\n",
       "       'Insight Partners', 'Induslnd Bank', 'Pratithi',\n",
       "       'PadUp, Villgro USA, Vinners, LetsVenture, SINE IIT Bombay, DERBI',\n",
       "       'Dr Apoorva Ranjan Sharma, Mrunal Jhaveri, Nirav Panchmatia, Vikas Kapoor, Karan Garg',\n",
       "       'JSW Ventures, Chiratae Ventures, Kalaari Capital', 'Kimera Ltd',\n",
       "       'Gameskraft', 'Anthill Ventures', 'Smile group',\n",
       "       'Rangsons Technologies', 'WSV Capital',\n",
       "       'Gautam Dalmia, Pratithi Investment Trust, Shri Investment',\n",
       "       '100x VC', 'Black Soil',\n",
       "       'Leo Capaitals, Amit Gupta, Abhishek Goyal, Ramakant Sharma, Harsh Pokhran',\n",
       "       'Beenext, Asuka Holding', 'Vertex Ventures SEA & India',\n",
       "       'Crowd Fund', 'Bisque Limited, Link Investment Trust.',\n",
       "       'Stellaris Venture Partners, Venture Highway',\n",
       "       'River Rock Ventures. Inflection Point Ventures',\n",
       "       'Chinaccelerator, 9 Unicorns Fund, Inflection Point Ventures',\n",
       "       'EMVC, Flourish, Omidyar Network India', 'Polychain Capital',\n",
       "       'Varanium NexGen Fund', 'Inventus III India Fund',\n",
       "       'Bharat Inclusion Seed Fund, Varanium Capital, and Better Capital',\n",
       "       'Amit Burman', 'Bharti Airtel',\n",
       "       'Whiteboard Capital, FirstCheque, Artha India Ventures, Sweta Rau, Deepak Abbot, Amrish Rau, Harpreet Singh Grover',\n",
       "       'IDG Ventures, Elevar Equity, Accion', 'Angel Investors',\n",
       "       'Kalyan Krishnamurthy, Sujeet Kumar, Keshav Sanghi, Roman Saini, Sumit Jain, Hemesh Singh',\n",
       "       'Sujeet Kumar', 'B Capital Group', 'Angel investors. HNI',\n",
       "       'Innoven Capital', 'Tracxn Labs, Angellist, Tri-Deep Capital',\n",
       "       'Ankit Bhati, Nitin Gupta', 'Gray Matters Capital',\n",
       "       'Akya Ventures', 'GHV Accelerator', 'Josh Liberman, Mark Adams',\n",
       "       'Nordic Microfinance Initiative',\n",
       "       'Chiratae Ventures, Accel Partners, BCIP Venture Associates, Bain Capital, Renaud Laplanche',\n",
       "       'Saama Capital', 'Tiger Global, Avatar Growth Capital',\n",
       "       'Lightspeed Venture Partners', 'Unicorn Investments Pte Ltd',\n",
       "       'Vijay Shekhar Sharma, Anupam Mittal',\n",
       "       'Tribe Capital, Innoven Capital, BII',\n",
       "       'Angellist, Smile Group, Manish Amin, Anil Goel, Anubhav Sonthalia, Deepak Mittal',\n",
       "       'Steadview capital',\n",
       "       'Bessemer Venture Partners India, Fusian Capital, Rebright Partners, Milliways Fund LLC',\n",
       "       'Ratan Tata', 'VisaVentures, BRI Ventures', 'Next Capital',\n",
       "       'Trifecta Venture', 'Exfinity Ventures, IAN Fund',\n",
       "       'Alteria Capital', 'ChrysCapital',\n",
       "       'Hari Balasubramanian, EaSyndicate',\n",
       "       'Paytm, leAD Sports, Rockstud Capital, Founder Bank Capital',\n",
       "       'Lupa India', 'Tencent',\n",
       "       'Devanshu Dolat Desai, Anand M Khatau, Debasish Priyadarshi Purohit, Kaushik Shanghvi',\n",
       "       'Accel Partners, Jungle Ventures', 'Barkawi',\n",
       "       '1Funds Domestic Scheme', 'RiverRock Ventures', 'RTP Global',\n",
       "       'Hero Fincorp', 'Li and Fung', 'Mantra Capital, Patni Family',\n",
       "       'Nikhil Vora, Iceland Venture Studio, LetsVenture, Samyakth Capital',\n",
       "       'North Base Media', 'Investment Trust of India',\n",
       "       'IvyCap Ventures, Sequoia Capital',\n",
       "       'Sequoia Capital Surge, Better Capital',\n",
       "       'Ravikanth Reddy & Mumbai Angel Network',\n",
       "       'Sequoia Capital, Sofina', 'Pinetree Capital', 'Big Basket',\n",
       "       'Education Catalyst Fund', 'CDC Group', 'KB Global Platform Firm',\n",
       "       'Tata Capital Growth Fund II', 'NXC Corporation',\n",
       "       'Saltwater Venture Sparks',\n",
       "       'University of Tokyo Edge Capital, Global Brain Corporation',\n",
       "       'Abhishek Goyal, Bharat Jaisinghani, FirstCheque', 'BeeNext',\n",
       "       'Angel Network', 'Sukhbir Singh, Rakhee Singal',\n",
       "       'INSEAD Angels, IIT Kanpur Angels, Sixth Sense Ventures, Saahil Bhatia',\n",
       "       'Bytedance, Falcon Edge, Goldman Sachs, Advent Management',\n",
       "       'General Atlantic', 'IIFL Seed Ventures Fund, Menlo park',\n",
       "       'Ribbit Capital, SAIF Partners, Sequoia Capital India, Amazon',\n",
       "       'Greenoaks Capital, Vy Capital. Matrix Partners India', 'Accel',\n",
       "       'Indie VC',\n",
       "       'Lightspeed Venture Partners, Lightspeed India Partners.',\n",
       "       'Lightspeed Venture, Falcon Edge, Bharat Inclusive Technologies Seed Fund.',\n",
       "       'M12, Honeywell venture capital, Eight Roads Venture',\n",
       "       'Amazon, Sequoia, Walden SKT Venture Fund',\n",
       "       'Lightstone Global Funds', 'Zee Entertainment Enterprises Limited',\n",
       "       'Amazon Inc`, Dinesh J Hinduja', 'Alibaba Holdings',\n",
       "       'Hummingbird Ventures, Bedrock Capital', 'Legend Capital',\n",
       "       'Accel, Zephyr Peacock, Swiggy, RB Investments.',\n",
       "       'Better Capital, LetsVenture, Rohit Chanana, Jayant Kadambi, Sunil Kumar Singhvi',\n",
       "       'Bace Capital',\n",
       "       'Tencent, Ark Impact, Korea Investment Partners, Samsung Ventures, Mirae Asset Capital Markets',\n",
       "       'LGT Lightstone Aspada', 'Pacific Horizon',\n",
       "       'Der Shing Lim, 500 startups', 'Vostok Emerging Finance',\n",
       "       'Arka Venture Labs', 'IvyCap Ventures', 'Vertex Ventures',\n",
       "       'Chowdry Associates, Lightbox',\n",
       "       'Sukhbir Singh, India Accelerator, Boudhik Ventures, Shankar Nath, Shaurya Garg',\n",
       "       'Matrix Partners, SAIF Partners', 'LeapFrog Investments',\n",
       "       'Aavishkar Capital', 'Unicorn India ventures',\n",
       "       'Pecus Capital, Madhur Deora', 'Temasek', 'Ideaspring capital',\n",
       "       'ThinkNext LLC', 'MG Motor India',\n",
       "       'Ashneer Grover, Kunal Shah, Ramakant Sharma',\n",
       "       'KYT Ventures, First Cheque, AngelList',\n",
       "       'Polychain Capital, Bain Capital Ventures, HDR Group',\n",
       "       'Risers Accelerators', 'Accel India, Lightspeed Venture Partners',\n",
       "       'Gautham Madhavan', 'Pegasus FinInvest',\n",
       "       'TPG-backed Group Landmark', 'CESC Ventures', 'Naya Ventures',\n",
       "       'pi Ventures',\n",
       "       'Rajeev Juneja, Pratul Shroff, Dilip Khandelwal, Piyush Gupta',\n",
       "       'Mahendra Singh Dhoni', 'LGT LightstoneAspada',\n",
       "       'Godrej Investments',\n",
       "       'Stellaris Venture Partners, Unilever Ventures, Kalaari Capital, Vy Capital',\n",
       "       'Sorenson Impact', 'Vishal Dixit',\n",
       "       'Pawan Munjal Family Trust Fund', 'Lodha Ventures',\n",
       "       'Y Combinator, Venture Highway, Sequoia India, Global Founders Capital',\n",
       "       'Arali Ventures, CIIE.CO',\n",
       "       'Kunal Shah, Amrish Rau, Jitendra Gupta', 'Accel India',\n",
       "       'Mistletoe', 'KA Enterprise',\n",
       "       'Lead Angels Network, Stanford Angels', 'Angel network',\n",
       "       'LetsVenture investors',\n",
       "       'Advent Management, A91 Emerging Fund, Trifecta Venture',\n",
       "       'SAIF Partners, Mayfield India', 'Rukam Capital',\n",
       "       'UTEC-The University of Tokyo Edge Capital, Aflac Ventures, LLC, Dream Incubator, TeamFund',\n",
       "       'Ixigo', 'Sequoia’s Surge, Fosun RZ', 'Alok Garg',\n",
       "       'InnoVen Capital', 'Anicut Angel Fund', 'Aavishkaar Capital',\n",
       "       'Paragon Partners', 'Yuanfudao',\n",
       "       'Nandan Nilekani, Sanjeev Aggarwal', 'Atraxn Partners.',\n",
       "       'Morgan Stanley Private Equity Asia', 'Lightstone Aspada',\n",
       "       'Samsung Venture Investment', 'Indian Angel Network',\n",
       "       'Media Development Investment Fund', 'Accelerator MOX',\n",
       "       'Nandan Nilekani, Samsung Venture Investment Corporation',\n",
       "       'Maharashtra Defence, Aerospace Venture Fund (MDAVF)',\n",
       "       'Kunal Bahl, Rohit Bansal',\n",
       "       'GGV Capital, Bertelsmann India Investments, Binny Bansal, Sequoia India, Accel Partners',\n",
       "       'CDC Group Plc', 'Ribbit Capital', 'Sequoia Capital’s Surge',\n",
       "       'Peerplays', 'Sauce.vc', 'AdvantEdge', 'Accion Venture Lab',\n",
       "       'SucSEED Venture Partners, BIRAC, Elixir Pharma, Titan Capital',\n",
       "       'Prosus N.V',\n",
       "       'Facebook, General Atlantic, Sequoia India, Nexus Venture Partners, Steadview Capital, Blume Ventures',\n",
       "       'Hindustan Media Ventures', 'Virat Kohli, Anushka Sharma',\n",
       "       'Rockstud Capital',\n",
       "       'IAN Fund-I,\\xa0\\xa0Al Falaj Investment Company (AFI)',\n",
       "       'WAVE Equity Partners, Chevron Technology Ventures, Marubeni Corporation.',\n",
       "       'Zodius Growth Fund',\n",
       "       'Mahesh Mohta, Jyoti Arora, Nachu Subramanian, Srivats',\n",
       "       'Indian Angel Network, Lead Angels, Hyderabad Angels',\n",
       "       'Triton Investment Advisors,',\n",
       "       'Accel Partners, Shunwei Capital, Good Capital',\n",
       "       'SIG Global India Fund', 'Kolte-Patil Family Office',\n",
       "       'Ashwin Khorana', 'Tarun Bhalla', 'Z3 Partners',\n",
       "       'One97 Communications', 'GGV Capital',\n",
       "       'Amrish Rau, Kunal Shah, Jitendra Gupta',\n",
       "       'Omnivore, Accel Partners, Mayfield',\n",
       "       'Kleiner Perkins, Canapi Ventures, Index Ventures, Nyca Partners, General Catalyst.',\n",
       "       'Info Edge Ltd', 'Chowdry Associates', 'Pharmacon Holdings',\n",
       "       'Blume Ventures, Sequoia', 'Think Investment', 'Udaan',\n",
       "       'Pidilite Industries', 'Softbank’s Vision Fund',\n",
       "       'LightBox Ventures', 'Xiaomi', 'Info Edge Venture Fund',\n",
       "       'Neev Fund',\n",
       "       'FirstCheque, Angellist India, Aakrit Vaish, Ranjith Radhakrishnan',\n",
       "       'Arunachal Pradesh Social Entrepreneurship Meet', 'IndiaQuotient',\n",
       "       'PayU, Fosun RZ Capital', 'Unitus Ventures.',\n",
       "       'Avaana Capital, Titan Capital', 'Institutional Investors',\n",
       "       'Tim Draper', 'Beenext', 'Reliance Industries Limited (RIL)',\n",
       "       'Equanimity Ventures', 'Mistletoe, Info Edge Asia',\n",
       "       'Bill & Melinda Gates Foundation',\n",
       "       'JITO Angel Network, Ketan Kothari, Girish Jain, Sunil Singhvi, Vinay Jain',\n",
       "       'Ant Financial', 'GrowX ventures, Prophetic Ventures',\n",
       "       'Atsushi Taira', 'Manish Choksi', 'InnoVen capital',\n",
       "       'SenseAI Ventures',\n",
       "       'Tiger Global Management, Sequoia Capital India, Singapore’s Economic Development Board (EBD)',\n",
       "       'Aquiline Technology Growth (ATG), RTP Global, Sequoia India',\n",
       "       'Frontline Strategy Finds, SucSEED Venture Partners LLP',\n",
       "       'Tiger Global, Steadview Capital, DF International Private Partners',\n",
       "       'Schroder Adveq', 'A91 Partners, Faering Capital, TVS Capital',\n",
       "       'Tahoe Investment Group, Mercer Investment', 'Mastercard',\n",
       "       'SOSV, Chinaccelerator', 'Tiger Global, Steadview Capital',\n",
       "       'She Capital',\n",
       "       'Green Shots Capital, Alfa Ventures, Real Time Venture, Petrotech, Steel City Securities, Lalit Wadhwa, Dr Kriti Maroli',\n",
       "       'Yuj Ventures', 'Accel Partners, B Capital',\n",
       "       'Sequoia Capital, Matrix Partners India',\n",
       "       'Ginni International, Elisa Khong, Sandeep Singh, VegInvest',\n",
       "       'SoftBank Group', 'Sony Innovation Fund',\n",
       "       'Amit Singal, Manish Aggarwal',\n",
       "       'Windrose Capital, ITI Growth Opportunities Venture Fund',\n",
       "       'Yatra Angel Network (YAN)', 'WestBridge Capital',\n",
       "       'Sprout Venture Partners, Indian Angel Network', 'La Gajjar Group',\n",
       "       'ICONIQ Capital', 'Matrix Partners India',\n",
       "       'Sequoia Capital, Ribbit Capital, Amazon, Saif Partners',\n",
       "       'Flipkart India, Singapore-based GEC3',\n",
       "       'Omnivore, Insitor Impact Asia Fund', 'Kalaari Capital',\n",
       "       'Suma Soft Pvt Ltd',\n",
       "       'Sprout Venture Partners, JITO Angel Network, LetsVenture',\n",
       "       'Refex Capital', 'James Murdoch-led Lupa Systems',\n",
       "       'Lightspeed Venture Partners, Sequoia Surge',\n",
       "       'Omidyar Network India', 'Space Capital',\n",
       "       'IIM Ahmedabad’s incubator (CIIE.CO),Chandigarh Angels Network',\n",
       "       'Iron Pillar', 'Lightbox. Social Capital, Dunce Capital',\n",
       "       'GMO Payment Gateway', 'Tiger Global', 'The Chennai Angels (TCA)',\n",
       "       'HNIs in India, Japan, and the US', 'Vishnu Reddy',\n",
       "       'Zerodha fintech fund, Rainmatter', 'Austrian Bank', 'Alibaba',\n",
       "       'TechnoGen', 'NorthStar, Vinod Khatumal',\n",
       "       'Chiratae Ventures, Sequoia Capital, Orios Venture Partners',\n",
       "       'Sprout venture partners', 'DSG Consumer Partners, Blume Ventures',\n",
       "       'Sequoia India, Ribbit Capital', 'Verlinvest',\n",
       "       'SIG Global India Fund LLP.'], dtype=object)"
      ]
     },
     "execution_count": 61,
     "metadata": {},
     "output_type": "execute_result"
    }
   ],
   "source": [
    "#Investor column\n",
    "data_2020['Investor'].unique()"
   ]
  },
  {
   "cell_type": "markdown",
   "metadata": {},
   "source": [
    "Cleaning 2021 Dataset"
   ]
  },
  {
   "cell_type": "code",
   "execution_count": 62,
   "metadata": {},
   "outputs": [
    {
     "data": {
      "text/plain": [
       "(1209, 9)"
      ]
     },
     "execution_count": 62,
     "metadata": {},
     "output_type": "execute_result"
    }
   ],
   "source": [
    "data_2021.shape"
   ]
  },
  {
   "cell_type": "code",
   "execution_count": 63,
   "metadata": {},
   "outputs": [
    {
     "name": "stdout",
     "output_type": "stream",
     "text": [
      "<class 'pandas.core.frame.DataFrame'>\n",
      "RangeIndex: 1209 entries, 0 to 1208\n",
      "Data columns (total 9 columns):\n",
      " #   Column         Non-Null Count  Dtype  \n",
      "---  ------         --------------  -----  \n",
      " 0   Company_Brand  1209 non-null   object \n",
      " 1   Founded        1208 non-null   float64\n",
      " 2   HeadQuarter    1208 non-null   object \n",
      " 3   Sector         1209 non-null   object \n",
      " 4   What_it_does   1209 non-null   object \n",
      " 5   Founders       1205 non-null   object \n",
      " 6   Investor       1147 non-null   object \n",
      " 7   Amount         1206 non-null   object \n",
      " 8   Stage          781 non-null    object \n",
      "dtypes: float64(1), object(8)\n",
      "memory usage: 85.1+ KB\n"
     ]
    }
   ],
   "source": [
    "data_2021.info()"
   ]
  },
  {
   "cell_type": "code",
   "execution_count": 64,
   "metadata": {},
   "outputs": [],
   "source": [
    "#Dropping the columns Founded and Founders\n",
    "data_2021.drop(['Founded','Founders','What_it_does'], axis=1, inplace=True)"
   ]
  },
  {
   "cell_type": "code",
   "execution_count": 65,
   "metadata": {},
   "outputs": [],
   "source": [
    "##Renaming columns for 2021 datasets\n",
    "data_2021 = data_2021.rename(columns =  {'Company_Brand':'Company/Brand', 'Industry':'Sector', 'Location':'HeadQuarter','Round/Series':'Stage', 'About Company':'What it does','Amount':'Amount($)'} )"
   ]
  },
  {
   "cell_type": "code",
   "execution_count": 66,
   "metadata": {},
   "outputs": [
    {
     "data": {
      "text/plain": [
       "Company/Brand      0\n",
       "HeadQuarter        1\n",
       "Sector             0\n",
       "Investor          62\n",
       "Amount($)          3\n",
       "Stage            428\n",
       "dtype: int64"
      ]
     },
     "execution_count": 66,
     "metadata": {},
     "output_type": "execute_result"
    }
   ],
   "source": [
    "#checking for null values in 2021 dataset\n",
    "data_2021.isnull().sum()"
   ]
  },
  {
   "cell_type": "code",
   "execution_count": 67,
   "metadata": {},
   "outputs": [],
   "source": [
    "#filling null values with 0\n",
    "\n",
    "\n",
    "data_2021.fillna(0, inplace=True)"
   ]
  },
  {
   "cell_type": "code",
   "execution_count": 68,
   "metadata": {},
   "outputs": [
    {
     "name": "stdout",
     "output_type": "stream",
     "text": [
      "<class 'pandas.core.frame.DataFrame'>\n",
      "RangeIndex: 1209 entries, 0 to 1208\n",
      "Data columns (total 6 columns):\n",
      " #   Column         Non-Null Count  Dtype \n",
      "---  ------         --------------  ----- \n",
      " 0   Company/Brand  1209 non-null   object\n",
      " 1   HeadQuarter    1209 non-null   object\n",
      " 2   Sector         1209 non-null   object\n",
      " 3   Investor       1209 non-null   object\n",
      " 4   Amount($)      1209 non-null   object\n",
      " 5   Stage          1209 non-null   object\n",
      "dtypes: object(6)\n",
      "memory usage: 56.8+ KB\n"
     ]
    }
   ],
   "source": [
    "data_2021.info()"
   ]
  },
  {
   "cell_type": "code",
   "execution_count": 122,
   "metadata": {},
   "outputs": [
    {
     "data": {
      "text/plain": [
       "array(['$1,200,000', '$120,000,000', '$30,000,000', '$51,000,000',\n",
       "       '$2,000,000', '$188,000,000', '$200,000', 'Undisclosed',\n",
       "       '$1,000,000', '$3,000,000', '$100,000', '$700,000', '$9,000,000',\n",
       "       '$40,000,000', '$49,000,000', '$400,000', '$300,000',\n",
       "       '$25,000,000', '$160,000,000', '$150,000', '$1,800,000',\n",
       "       '$5,000,000', '$850,000', '$53,000,000', '$500,000', '$1,100,000',\n",
       "       '$6,000,000', '$800,000', '$10,000,000', '$21,000,000',\n",
       "       '$7,500,000', '$26,000,000', '$7,400,000', '$1,500,000',\n",
       "       '$600,000', '$800,000,000', '$17,000,000', '$3,500,000',\n",
       "       '$15,000,000', '$215,000,000', '$2,500,000', '$350,000,000',\n",
       "       '$5,500,000', '$83,000,000', '$110,000,000', '$500,000,000',\n",
       "       '$65,000,000', '$150,000,000,000', '$300,000,000', '$2,200,000',\n",
       "       '$35,000,000', '$140,000,000', '$4,000,000', '$13,000,000', 0,\n",
       "       '$Undisclosed', '$2000000', '$800000', '$6000000', '$2500000',\n",
       "       '$9500000', '$13000000', '$5000000', '$8000000', '$1000000',\n",
       "       'Upsparks', '$200000', '$12000000', '$1500000', '$1700000',\n",
       "       '$5500000', '$400000', '$150000000', '$4000000', '$100000000',\n",
       "       '$500000', '$15000000', '$10000000', '$40000000', '$225000000',\n",
       "       '$6700000', '$1300000', '$20000000', '$250000', '$21000000',\n",
       "       '$1200000', '$52000000', '$3800000', '$17500000', '$42000000',\n",
       "       '$2300000', '$7000000', '$30000000', '$450000000', '$28000000',\n",
       "       '$300000', '$3500000', '$8500000', '$25000000', '$3000000',\n",
       "       '$37000000', '$370000000', '$700000', '$16000000', '$100000',\n",
       "       '$44000000', '$770000', '$125000000', '$35000000', '$50000000',\n",
       "       '$4900000', '$145000000', '$22000000', '$70000000', '$6600000',\n",
       "       '$32000000', '$24000000', '$725000', '$461000', 'Series C', 'Seed',\n",
       "       '$96000000', '$60000000', '$500000000', '$266000000', '$4500000',\n",
       "       '$325000000', '$6500000', '$1600000', '$150000', '$225000',\n",
       "       '$85000000', '$235000', '$260000', '$2900000', '$53000000',\n",
       "       '$1100000', '$86000000', '$130000', '$$100,00', '$111000000',\n",
       "       '$265000', '$76000000', '$100,000,000', '$75,000,000',\n",
       "       '$3,800,000', '$12,000,000', '$1,600,000', '$260,000',\n",
       "       '$1,000,000,000', '$18,000,000', '$20,000,000', '$350,000',\n",
       "       '$95,000,000', '$4,100,000', '$5,200,000', '$8,000,000',\n",
       "       '$1,400,000', '$2,600,000', '$900,000', '$250,000', '$16,000,000',\n",
       "       '$7,000,000', '$11,000,000', '$280,000,000', '$50,000,000',\n",
       "       '$14,300,000', '$81,000,000', '$1,300,000', '$8,200,000',\n",
       "       '$70,000,000', '$720,000', '$600000', '$9000000', '$1800000',\n",
       "       '$330000', '$undisclosed', '$200000000', '$36000000', '$67000000',\n",
       "       '$10200000', '$220000000', '$108000000', '$75000000', '$450000',\n",
       "       '$660000000', 'ah! Ventures', '$45000000', '$3200000', '$370000',\n",
       "       'Pre-series A', 'ITO Angel Network, LetsVenture', '$48000000',\n",
       "       '$3600000', '$11000000', '$192000000', '$65000000', '$1400000',\n",
       "       '$1900000', '$41000000', '$144000000', '$5200000', '$270000000',\n",
       "       '$140000', '$250000000', '$320000', '$350000000', '$4800000',\n",
       "       '$38000000', '$125000', '$26000000', '$64000000', '$620000',\n",
       "       '$900000', 'JITO Angel Network, LetsVenture', '$2600000',\n",
       "       '$1,250,000', '$400,000,000', '$1,700,000', '$27,000,000',\n",
       "       '$234,000,000', '$460,000,000', '$13,500,000', '$5,100,000',\n",
       "       '$195,000,000', '$125,000', '$45,000,000', '$200,000,000',\n",
       "       '$7,300,000', '$6,300,000', '$12,500,000', '$24,000,000',\n",
       "       '$140,000', '$16,500,000', '$340,000', '$43,000,000',\n",
       "       '$150,000,000', '$3300000', '$92000000', '$17000000', '$135000000',\n",
       "       '$$1,55,000', '$2100000', '$840000000', '$248000000', '$4300000',\n",
       "       '$570000', '$2200000', '$4700000', '$300000000', '$260000000',\n",
       "       '$140000000', '$175000000', '$19000000', '$810000', '$7500000',\n",
       "       '$600000000', '$90000000', '$5700000', '$6750000', '$78000000',\n",
       "       '$5400000', '$115000000', '$255000000', '$18000000', '$570000000',\n",
       "       '$550000', '$2700000', '$4200000', '$31000000', '$540000',\n",
       "       '$14000000', '$340000', '$', '$6200000', '$750000', '$6300000',\n",
       "       '$23000000', '$55000000'], dtype=object)"
      ]
     },
     "execution_count": 122,
     "metadata": {},
     "output_type": "execute_result"
    }
   ],
   "source": [
    "data_2021['Amount($)'].unique()"
   ]
  },
  {
   "cell_type": "code",
   "execution_count": 123,
   "metadata": {},
   "outputs": [
    {
     "name": "stdout",
     "output_type": "stream",
     "text": [
      "0              0.0\n",
      "1              0.0\n",
      "2              0.0\n",
      "3              0.0\n",
      "4              0.0\n",
      "           ...    \n",
      "1204     3000000.0\n",
      "1205    20000000.0\n",
      "1206    55000000.0\n",
      "1207    26000000.0\n",
      "1208     8000000.0\n",
      "Name: Amount($), Length: 1209, dtype: float64\n"
     ]
    }
   ],
   "source": [
    "import pandas as pd\n",
    "\n",
    "\n",
    "# Function to clean the 'Amount' column\n",
    "def clean_amount(value):\n",
    "    if isinstance(value, str):\n",
    "        value = value.replace('$', '')  # Remove dollar sign\n",
    "        if '$Undisclosed' in value or 'Upsparks' in value or 'JITO Angel Network, LetsVenture' in value or 'NULL' in value or 'Series C' in value or 'Seed' in value or 'ah! Ventures' in value or 'Pre-series A' in value or 'ITO Angel Network, LetsVenture' in value:\n",
    "            return 0  # Replace 'undisclosed', 'unpacks', 'seed b', 'seed c' with 0\n",
    "        else:\n",
    "            try:\n",
    "                return float(value)  # Convert to float\n",
    "            except ValueError:\n",
    "                return 0  # Handle any other non-numeric values\n",
    "    else:\n",
    "        return value\n",
    "\n",
    "# Apply the cleaning function to the 'Amount' column\n",
    "data_2021['Amount($)'] = data_2021['Amount($)'].apply(clean_amount)\n",
    "\n",
    "# Display the cleaned DataFrame\n",
    "print(data_2021['Amount($)'])"
   ]
  },
  {
   "cell_type": "code",
   "execution_count": 121,
   "metadata": {},
   "outputs": [
    {
     "data": {
      "text/plain": [
       "352    0.0\n",
       "Name: Amount($), dtype: float64"
      ]
     },
     "execution_count": 121,
     "metadata": {},
     "output_type": "execute_result"
    }
   ],
   "source": [
    "data_2018['Amount($)'].sample() "
   ]
  },
  {
   "cell_type": "code",
   "execution_count": 131,
   "metadata": {},
   "outputs": [
    {
     "name": "stdout",
     "output_type": "stream",
     "text": [
      "0         250000.0\n",
      "1         584000.0\n",
      "2         949000.0\n",
      "3        2000000.0\n",
      "4              0.0\n",
      "          ...     \n",
      "521    225000000.0\n",
      "522            0.0\n",
      "523         7500.0\n",
      "524       511000.0\n",
      "525     35000000.0\n",
      "Name: Amount($), Length: 526, dtype: float64\n"
     ]
    }
   ],
   "source": [
    "# Convert the 'column_name' column from string to float\n",
    "data_2018['Amount($)'] = data_2018['Amount($)'].astype(float)\n",
    "print(data_2018['Amount($)'])"
   ]
  },
  {
   "cell_type": "code",
   "execution_count": 132,
   "metadata": {},
   "outputs": [
    {
     "name": "stdout",
     "output_type": "stream",
     "text": [
      "0       6300000.0\n",
      "1     150000000.0\n",
      "2      28000000.0\n",
      "3      30000000.0\n",
      "4       6000000.0\n",
      "         ...     \n",
      "84     20000000.0\n",
      "85    693000000.0\n",
      "86      5000000.0\n",
      "87     50000000.0\n",
      "88     33000000.0\n",
      "Name: Amount($), Length: 89, dtype: float64\n"
     ]
    }
   ],
   "source": [
    "# Convert the 'column_name' column from string to float\n",
    "data_2019['Amount($)'] = data_2019['Amount($)'].astype(float)\n",
    "print(data_2019['Amount($)'])"
   ]
  },
  {
   "cell_type": "code",
   "execution_count": 133,
   "metadata": {},
   "outputs": [
    {
     "name": "stdout",
     "output_type": "stream",
     "text": [
      "0         200000.0\n",
      "1         100000.0\n",
      "2              0.0\n",
      "3         400000.0\n",
      "4         340000.0\n",
      "           ...    \n",
      "1050     1500000.0\n",
      "1051    13200000.0\n",
      "1052     8000000.0\n",
      "1053     8043000.0\n",
      "1054     9000000.0\n",
      "Name: Amount($), Length: 1055, dtype: float64\n"
     ]
    }
   ],
   "source": [
    "# Convert the 'column_name' column from string to float\n",
    "data_2020['Amount($)'] = data_2020['Amount($)'].astype(float)\n",
    "print(data_2020['Amount($)'])"
   ]
  },
  {
   "cell_type": "code",
   "execution_count": 134,
   "metadata": {},
   "outputs": [
    {
     "name": "stdout",
     "output_type": "stream",
     "text": [
      "0              0.0\n",
      "1              0.0\n",
      "2              0.0\n",
      "3              0.0\n",
      "4              0.0\n",
      "           ...    \n",
      "1204     3000000.0\n",
      "1205    20000000.0\n",
      "1206    55000000.0\n",
      "1207    26000000.0\n",
      "1208     8000000.0\n",
      "Name: Amount($), Length: 1209, dtype: float64\n"
     ]
    }
   ],
   "source": [
    "# Convert the 'column_name' column from string to float\n",
    "data_2021['Amount($)'] = data_2021['Amount($)'].astype(float)\n",
    "print(data_2021['Amount($)'])"
   ]
  },
  {
   "cell_type": "markdown",
   "metadata": {},
   "source": [
    "COMBINING DATA"
   ]
  },
  {
   "cell_type": "code",
   "execution_count": 152,
   "metadata": {},
   "outputs": [],
   "source": [
    "#combining data into one \n",
    "sets=[data_2018,data_2019,data_2020, data_2021]\n",
    "startup_data = pd.concat(sets)"
   ]
  },
  {
   "cell_type": "code",
   "execution_count": 153,
   "metadata": {},
   "outputs": [
    {
     "name": "stdout",
     "output_type": "stream",
     "text": [
      "0         250000.0\n",
      "1         584000.0\n",
      "2         949000.0\n",
      "3        2000000.0\n",
      "4              0.0\n",
      "           ...    \n",
      "1204     3000000.0\n",
      "1205    20000000.0\n",
      "1206    55000000.0\n",
      "1207    26000000.0\n",
      "1208     8000000.0\n",
      "Name: Amount($), Length: 2879, dtype: float64\n"
     ]
    }
   ],
   "source": [
    "#converting all objects in Amount($) column to float\n",
    "startup_data['Amount($)'] = startup_data['Amount($)'].astype(float)\n",
    "print(startup_data['Amount($)'])"
   ]
  },
  {
   "cell_type": "code",
   "execution_count": 154,
   "metadata": {},
   "outputs": [
    {
     "data": {
      "text/plain": [
       "array([2.5000000e+05, 5.8400000e+05, 9.4900000e+05, 2.0000000e+06,\n",
       "       0.0000000e+00, 1.6000000e+06, 2.3360000e+05, 7.3000000e+05,\n",
       "       1.4600000e+06, 1.5000000e+05, 1.1000000e+06, 7.3000000e+03,\n",
       "       6.0000000e+06, 6.5000000e+05, 5.1100000e+05, 9.3440000e+05,\n",
       "       2.9200000e+05, 1.0000000e+06, 5.0000000e+06, 4.0000000e+06,\n",
       "       4.3800000e+05, 2.8000000e+06, 1.7000000e+06, 1.3000000e+06,\n",
       "       7.3000000e+04, 1.8250000e+05, 2.1900000e+05, 5.0000000e+05,\n",
       "       1.5184000e+06, 6.5700000e+05, 1.3400000e+07, 3.6500000e+05,\n",
       "       3.8544000e+05, 1.1680000e+05, 8.7600000e+02, 9.0000000e+06,\n",
       "       1.0000000e+05, 2.0000000e+04, 1.2000000e+05, 4.9640000e+05,\n",
       "       4.9932000e+06, 1.4314500e+05, 8.7600000e+06, 7.4200000e+08,\n",
       "       1.4600000e+07, 2.9200000e+07, 3.9800000e+06, 1.0000000e+04,\n",
       "       1.4600000e+03, 3.6500000e+06, 1.0000000e+09, 7.0000000e+06,\n",
       "       3.5000000e+07, 8.0300000e+06, 2.8500000e+07, 3.5040000e+06,\n",
       "       1.7520000e+06, 2.4000000e+06, 3.0000000e+07, 3.6500000e+07,\n",
       "       2.3000000e+07, 1.1000000e+07, 6.4240000e+05, 3.2400000e+06,\n",
       "       8.7600000e+05, 5.4000000e+08, 9.4900000e+06, 2.3360000e+07,\n",
       "       9.0000000e+05, 1.0000000e+07, 1.5000000e+06, 1.0220000e+06,\n",
       "       1.4000000e+07, 1.4965000e+06, 1.0000000e+08, 1.7520000e+04,\n",
       "       7.5920000e+07, 8.0000000e+05, 1.0410000e+06, 1.5000000e+04,\n",
       "       1.4000000e+06, 1.2000000e+06, 2.2000000e+06, 1.8000000e+06,\n",
       "       3.6000000e+06, 1.3870000e+05, 3.0000000e+05, 6.8300000e+06,\n",
       "       2.0000000e+05, 2.1900000e+06, 4.3000000e+06, 3.6484600e+05,\n",
       "       4.0000000e+05, 1.0220000e+05, 2.0440000e+04, 1.4600000e+05,\n",
       "       3.2850000e+05, 1.3200000e+07, 5.0000000e+04, 2.0469200e+06,\n",
       "       3.0000000e+06, 1.2500000e+06, 1.8000000e+05, 2.8032000e+05,\n",
       "       1.5038000e+06, 4.2000000e+06, 1.7500000e+05, 1.4500000e+06,\n",
       "       2.9200000e+03, 4.5000000e+06, 6.0000000e+05, 2.4236000e+05,\n",
       "       1.7520000e+05, 1.5000000e+07, 4.8180000e+05, 1.2500000e+05,\n",
       "       1.3000000e+05, 5.0954000e+05, 1.0512000e+06, 1.7200000e+07,\n",
       "       4.6720000e+05, 3.5000000e+06, 1.9710000e+06, 1.2000000e+07,\n",
       "       4.0000000e+07, 5.0000000e+07, 2.2484000e+07, 2.0440000e+06,\n",
       "       4.1900000e+07, 2.0586000e+07, 3.5300000e+06, 3.3000000e+06,\n",
       "       8.4680000e+06, 5.2560000e+05, 4.9640000e+06, 2.1000000e+08,\n",
       "       3.7680000e+07, 7.4460000e+06, 3.2120000e+07, 2.2000000e+07,\n",
       "       7.0000000e+04, 2.2472320e+08, 2.9200000e+08, 5.8400000e+07,\n",
       "       1.8500000e+08, 6.5000000e+07, 2.4090000e+06, 7.0000000e+05,\n",
       "       3.0660000e+06, 2.9632160e+07, 7.5000000e+07, 1.1680000e+06,\n",
       "       1.7600000e+06, 2.7000000e+06, 4.0880000e+06, 1.1680000e+07,\n",
       "       7.5000000e+05, 2.5000000e+06, 8.0000000e+07, 2.5000000e+07,\n",
       "       1.0658000e+07, 5.8400000e+06, 3.7000000e+06, 5.6000000e+06,\n",
       "       3.7960000e+06, 9.9230000e+07, 7.0000000e+07, 4.0000000e+04,\n",
       "       5.5000000e+05, 3.6500000e+08, 1.2775000e+05, 1.1388000e+06,\n",
       "       2.8000000e+07, 3.8544000e+06, 1.6498000e+07, 1.1826000e+07,\n",
       "       2.0440000e+07, 1.4900000e+07, 2.2500000e+08, 7.5000000e+03,\n",
       "       6.3000000e+06, 1.5000000e+08,           nan, 2.0000000e+07,\n",
       "       2.7500000e+08, 1.4050000e+05, 1.8270000e+05, 1.5500000e+07,\n",
       "       5.5000000e+06, 1.4000000e+05, 2.3000000e+08, 4.9400000e+07,\n",
       "       3.2000000e+07, 2.6000000e+07, 8.0000000e+06, 1.2000000e+08,\n",
       "       6.8000000e+06, 3.6000000e+07, 5.7000000e+06, 6.0000000e+07,\n",
       "       2.2000000e+05, 2.1000000e+06, 3.1100000e+08, 4.8000000e+06,\n",
       "       6.9300000e+08, 3.3000000e+07, 3.4000000e+05, 4.5000000e+07,\n",
       "       6.6000000e+08, 7.5000000e+06, 1.4500000e+08, 2.1000000e+07,\n",
       "       5.6000000e+05, 2.7500000e+05, 3.9000000e+08, 5.1000000e+06,\n",
       "       7.0000000e+08, 2.3000000e+06, 1.9000000e+07, 7.8000000e+06,\n",
       "       2.0000000e+08, 4.1000000e+06, 5.7500000e+05, 1.8000000e+07,\n",
       "       3.2000000e+06, 4.7000000e+06, 1.2100000e+08, 5.5000000e+07,\n",
       "       1.6000000e+07, 5.4000000e+06, 5.2000000e+07, 1.1800000e+08,\n",
       "       1.8500000e+07, 7.0000000e+10, 8.0000000e+08, 4.0000000e+08,\n",
       "       1.7600000e+08, 4.7000000e+05, 2.4000000e+05, 3.0000000e+09,\n",
       "       7.4000000e+07, 6.2000000e+07, 5.0000000e+08, 1.2500000e+07,\n",
       "       2.2000000e+09, 5.0600000e+06, 2.4700000e+07, 7.7000000e+06,\n",
       "       1.9067328e+07, 5.1000000e+07, 1.1500000e+05, 5.4000000e+04,\n",
       "       8.0314600e+05, 2.3800000e+05, 1.0220000e+07, 1.0200000e+06,\n",
       "       1.7000000e+08, 2.9000000e+06, 5.4300000e+05, 9.0000000e+07,\n",
       "       3.4000000e+06, 8.0900000e+06, 1.0300000e+06, 5.0400000e+06,\n",
       "       3.6000000e+05, 5.4000000e+07, 4.2500000e+07, 1.1370000e+07,\n",
       "       3.2500000e+05, 4.1000000e+05, 4.5000000e+05, 6.8200000e+05,\n",
       "       4.0500000e+06, 1.0500000e+06, 1.0800000e+06, 2.1100000e+06,\n",
       "       7.6400000e+05, 6.0300000e+05, 4.0900000e+05, 2.8600000e+05,\n",
       "       1.3600000e+05, 5.4600000e+05, 8.8700000e+05, 4.3000000e+04,\n",
       "       4.0900000e+04, 5.6600000e+06, 3.5000000e+05, 1.1000000e+05,\n",
       "       1.2200000e+08, 1.1635000e+07, 1.0650000e+06, 6.6900000e+05,\n",
       "       1.6076000e+07, 6.4960000e+05, 6.7000000e+06, 2.6650000e+05,\n",
       "       2.8790000e+06, 2.6500000e+07, 3.5100000e+05, 4.6761000e+07,\n",
       "       1.1241000e+07, 8.0400000e+05, 1.3400000e+06, 4.6700000e+05,\n",
       "       1.3300000e+05, 3.8230000e+06, 9.3400000e+05, 2.9300000e+05,\n",
       "       1.9800000e+05, 9.2700000e+05, 9.7100000e+05, 3.0600000e+06,\n",
       "       1.8620000e+06, 2.3200000e+05, 2.8880000e+06, 1.3280000e+06,\n",
       "       5.6000000e+07, 2.2500000e+06, 1.6753000e+07, 1.4700000e+06,\n",
       "       5.3000000e+05, 2.6700000e+05, 3.3440000e+06, 7.2000000e+06,\n",
       "       2.7430000e+06, 6.0820000e+06, 6.6090000e+06, 2.7700000e+07,\n",
       "       5.9400000e+06, 3.9640000e+06, 1.9700000e+05, 4.3270000e+06,\n",
       "       4.5900000e+05, 3.9370000e+06, 1.3135000e+06, 2.2980000e+05,\n",
       "       5.3050000e+06, 2.6400000e+05, 1.7500000e+06, 5.9670000e+06,\n",
       "       2.9800000e+06, 3.2300000e+05, 1.3260000e+06, 2.7000000e+07,\n",
       "       5.2000000e+06, 2.5300000e+06, 7.9200000e+05, 1.1363000e+07,\n",
       "       1.7150000e+06, 3.2900000e+05, 5.2710000e+06, 8.7000000e+06,\n",
       "       3.2260000e+06, 5.9000000e+06, 4.4000000e+07, 3.8790000e+06,\n",
       "       1.3000000e+07, 8.8000000e+06, 9.5000000e+06, 9.2000000e+05,\n",
       "       3.5600000e+07, 9.4000000e+06, 7.9000000e+05, 4.8000000e+05,\n",
       "       1.6000000e+05, 8.2000000e+06, 4.2570000e+06, 1.4100000e+06,\n",
       "       3.4980000e+05, 7.8600000e+05, 2.0040000e+06, 1.2300000e+08,\n",
       "       2.4800000e+05, 2.4000000e+07, 1.4259000e+07, 2.4500000e+07,\n",
       "       3.8000000e+06, 1.8370000e+07, 6.8525000e+07, 1.8340000e+06,\n",
       "       2.3850000e+07, 4.3000000e+07, 2.1600000e+07, 4.5980000e+06,\n",
       "       1.3137000e+07, 1.1500000e+08, 3.9000000e+06, 6.7000000e+05,\n",
       "       8.5000000e+06, 3.1480000e+06, 2.6000000e+06, 4.0495000e+06,\n",
       "       1.0500000e+07, 6.5000000e+06, 4.3700000e+07, 1.3800000e+07,\n",
       "       3.0690000e+05, 4.2000000e+05, 6.2730000e+05, 1.1300000e+08,\n",
       "       1.1000000e+08, 1.3970000e+06, 4.4850000e+05, 7.9757000e+06,\n",
       "       3.3000000e+05, 1.4020000e+06, 2.1500000e+07, 2.9600000e+08,\n",
       "       4.9000000e+06, 1.4024000e+06, 1.2618300e+07, 9.9000000e+06,\n",
       "       9.8253000e+05, 7.0185200e+07, 8.4000000e+07, 3.9000000e+07,\n",
       "       1.4034000e+06, 1.0500000e+08, 1.0300000e+08, 2.8130000e+05,\n",
       "       1.2700000e+04, 2.5000000e+04, 9.7500000e+07, 5.0700000e+05,\n",
       "       8.4000000e+06, 1.8300000e+07, 1.2500000e+08, 1.8100000e+05,\n",
       "       2.8000000e+05, 1.4700000e+07, 8.0430000e+06, 1.7500000e+07,\n",
       "       4.2000000e+07, 4.5000000e+08, 3.7000000e+07, 3.7000000e+08,\n",
       "       7.7000000e+05, 6.6000000e+06, 7.2500000e+05, 4.6100000e+05,\n",
       "       9.6000000e+07, 2.6600000e+08, 3.2500000e+08, 2.2500000e+05,\n",
       "       8.5000000e+07, 2.3500000e+05, 2.6000000e+05, 5.3000000e+07,\n",
       "       8.6000000e+07, 1.1100000e+08, 2.6500000e+05, 7.6000000e+07,\n",
       "       6.7000000e+07, 1.0200000e+07, 2.2000000e+08, 1.0800000e+08,\n",
       "       3.7000000e+05, 4.8000000e+07, 1.9200000e+08, 1.9000000e+06,\n",
       "       4.1000000e+07, 1.4400000e+08, 2.7000000e+08, 2.5000000e+08,\n",
       "       3.2000000e+05, 3.5000000e+08, 3.8000000e+07, 6.4000000e+07,\n",
       "       6.2000000e+05, 9.2000000e+07, 1.7000000e+07, 1.3500000e+08,\n",
       "       8.4000000e+08, 2.4800000e+08, 5.7000000e+05, 3.0000000e+08,\n",
       "       2.6000000e+08, 1.4000000e+08, 1.7500000e+08, 8.1000000e+05,\n",
       "       6.0000000e+08, 6.7500000e+06, 7.8000000e+07, 2.5500000e+08,\n",
       "       5.7000000e+08, 3.1000000e+07, 5.4000000e+05, 6.2000000e+06])"
      ]
     },
     "execution_count": 154,
     "metadata": {},
     "output_type": "execute_result"
    }
   ],
   "source": [
    "#confirming if all amounts are float\n",
    "startup_data['Amount($)'].unique()\n"
   ]
  },
  {
   "cell_type": "code",
   "execution_count": 155,
   "metadata": {},
   "outputs": [
    {
     "data": {
      "text/html": [
       "<div>\n",
       "<style scoped>\n",
       "    .dataframe tbody tr th:only-of-type {\n",
       "        vertical-align: middle;\n",
       "    }\n",
       "\n",
       "    .dataframe tbody tr th {\n",
       "        vertical-align: top;\n",
       "    }\n",
       "\n",
       "    .dataframe thead th {\n",
       "        text-align: right;\n",
       "    }\n",
       "</style>\n",
       "<table border=\"1\" class=\"dataframe\">\n",
       "  <thead>\n",
       "    <tr style=\"text-align: right;\">\n",
       "      <th></th>\n",
       "      <th>Company/Brand</th>\n",
       "      <th>Sector</th>\n",
       "      <th>Stage</th>\n",
       "      <th>Amount($)</th>\n",
       "      <th>HeadQuarter</th>\n",
       "      <th>What it does</th>\n",
       "      <th>Investor</th>\n",
       "    </tr>\n",
       "  </thead>\n",
       "  <tbody>\n",
       "    <tr>\n",
       "      <th>0</th>\n",
       "      <td>TheCollegeFever</td>\n",
       "      <td>Brand Marketing, Event Promotion, Marketing, S...</td>\n",
       "      <td>Seed</td>\n",
       "      <td>250000.0</td>\n",
       "      <td>Bangalore, Karnataka, India</td>\n",
       "      <td>TheCollegeFever is a hub for fun, fiesta and f...</td>\n",
       "      <td>NaN</td>\n",
       "    </tr>\n",
       "    <tr>\n",
       "      <th>1</th>\n",
       "      <td>Happy Cow Dairy</td>\n",
       "      <td>Agriculture, Farming</td>\n",
       "      <td>Seed</td>\n",
       "      <td>584000.0</td>\n",
       "      <td>Mumbai, Maharashtra, India</td>\n",
       "      <td>A startup which aggregates milk from dairy far...</td>\n",
       "      <td>NaN</td>\n",
       "    </tr>\n",
       "    <tr>\n",
       "      <th>2</th>\n",
       "      <td>MyLoanCare</td>\n",
       "      <td>Credit, Financial Services, Lending, Marketplace</td>\n",
       "      <td>Series A</td>\n",
       "      <td>949000.0</td>\n",
       "      <td>Gurgaon, Haryana, India</td>\n",
       "      <td>Leading Online Loans Marketplace in India</td>\n",
       "      <td>NaN</td>\n",
       "    </tr>\n",
       "    <tr>\n",
       "      <th>3</th>\n",
       "      <td>PayMe India</td>\n",
       "      <td>Financial Services, FinTech</td>\n",
       "      <td>Angel</td>\n",
       "      <td>2000000.0</td>\n",
       "      <td>Noida, Uttar Pradesh, India</td>\n",
       "      <td>PayMe India is an innovative FinTech organizat...</td>\n",
       "      <td>NaN</td>\n",
       "    </tr>\n",
       "    <tr>\n",
       "      <th>4</th>\n",
       "      <td>Eunimart</td>\n",
       "      <td>E-Commerce Platforms, Retail, SaaS</td>\n",
       "      <td>Seed</td>\n",
       "      <td>0.0</td>\n",
       "      <td>Hyderabad, Andhra Pradesh, India</td>\n",
       "      <td>Eunimart is a one stop solution for merchants ...</td>\n",
       "      <td>NaN</td>\n",
       "    </tr>\n",
       "  </tbody>\n",
       "</table>\n",
       "</div>"
      ],
      "text/plain": [
       "     Company/Brand                                             Sector  \\\n",
       "0  TheCollegeFever  Brand Marketing, Event Promotion, Marketing, S...   \n",
       "1  Happy Cow Dairy                               Agriculture, Farming   \n",
       "2       MyLoanCare   Credit, Financial Services, Lending, Marketplace   \n",
       "3      PayMe India                        Financial Services, FinTech   \n",
       "4         Eunimart                 E-Commerce Platforms, Retail, SaaS   \n",
       "\n",
       "      Stage  Amount($)                       HeadQuarter  \\\n",
       "0      Seed   250000.0       Bangalore, Karnataka, India   \n",
       "1      Seed   584000.0        Mumbai, Maharashtra, India   \n",
       "2  Series A   949000.0           Gurgaon, Haryana, India   \n",
       "3     Angel  2000000.0       Noida, Uttar Pradesh, India   \n",
       "4      Seed        0.0  Hyderabad, Andhra Pradesh, India   \n",
       "\n",
       "                                        What it does Investor  \n",
       "0  TheCollegeFever is a hub for fun, fiesta and f...      NaN  \n",
       "1  A startup which aggregates milk from dairy far...      NaN  \n",
       "2          Leading Online Loans Marketplace in India      NaN  \n",
       "3  PayMe India is an innovative FinTech organizat...      NaN  \n",
       "4  Eunimart is a one stop solution for merchants ...      NaN  "
      ]
     },
     "execution_count": 155,
     "metadata": {},
     "output_type": "execute_result"
    }
   ],
   "source": [
    "startup_data.head()"
   ]
  },
  {
   "cell_type": "code",
   "execution_count": 104,
   "metadata": {},
   "outputs": [
    {
     "name": "stdout",
     "output_type": "stream",
     "text": [
      "6641773177.0\n"
     ]
    }
   ],
   "source": [
    "#Calculating the Amount raised per specific year\n",
    "total2018 = data_2018['Amount($)'].sum()\n",
    "print(total2018)\n",
    "\n"
   ]
  },
  {
   "cell_type": "code",
   "execution_count": 115,
   "metadata": {},
   "outputs": [
    {
     "name": "stdout",
     "output_type": "stream",
     "text": [
      "3336433200.0\n"
     ]
    }
   ],
   "source": [
    "#Calculating the Amount raised per specific year\n",
    "total2019 = data_2019['Amount($)'].sum()\n",
    "print(total2019)\n"
   ]
  },
  {
   "cell_type": "code",
   "execution_count": 106,
   "metadata": {},
   "outputs": [
    {
     "name": "stdout",
     "output_type": "stream",
     "text": [
      "90547418604.0\n"
     ]
    }
   ],
   "source": [
    "#Calculating the Amount raised per specific year\n",
    "total2020 = data_2020['Amount($)'].sum()\n",
    "print(total2020)\n"
   ]
  },
  {
   "cell_type": "code",
   "execution_count": 124,
   "metadata": {},
   "outputs": [
    {
     "name": "stdout",
     "output_type": "stream",
     "text": [
      "20049212000.0\n"
     ]
    }
   ],
   "source": [
    "#Calculating the Amount raised per specific year\n",
    "total2021 = data_2021['Amount($)'].sum()\n",
    "print(total2021)"
   ]
  },
  {
   "cell_type": "markdown",
   "metadata": {},
   "source": [
    "QUESTIONS ONE"
   ]
  },
  {
   "cell_type": "markdown",
   "metadata": {},
   "source": [
    "Which industry received the highest amount of funding"
   ]
  },
  {
   "cell_type": "code",
   "execution_count": 158,
   "metadata": {},
   "outputs": [
    {
     "name": "stdout",
     "output_type": "stream",
     "text": [
      "                                         Sector    Amount($)\n",
      "0    3D Printing, Manufacturing, Product Design          0.0\n",
      "1                                            AI  116346500.0\n",
      "2                             AI & Data science    8000000.0\n",
      "3                                     AI & Debt          0.0\n",
      "4                            AI & Deep learning          0.0\n",
      "..                                          ...          ...\n",
      "868                             Yoga & wellness    2800000.0\n",
      "869                                   eMobility    1000000.0\n",
      "870                eSports, Gaming, Video Games     584000.0\n",
      "871                                      sports    2400000.0\n",
      "872                                           —   56384320.0\n",
      "\n",
      "[873 rows x 2 columns]\n"
     ]
    }
   ],
   "source": [
    "# Group by industries and sum amounts\n",
    "industry_totals = startup_data.groupby('Sector').agg({'Amount($)': 'sum'}).reset_index()\n",
    "\n",
    "print(industry_totals)"
   ]
  },
  {
   "cell_type": "code",
   "execution_count": 161,
   "metadata": {},
   "outputs": [
    {
     "data": {
      "text/html": [
       "<div>\n",
       "<style scoped>\n",
       "    .dataframe tbody tr th:only-of-type {\n",
       "        vertical-align: middle;\n",
       "    }\n",
       "\n",
       "    .dataframe tbody tr th {\n",
       "        vertical-align: top;\n",
       "    }\n",
       "\n",
       "    .dataframe thead th {\n",
       "        text-align: right;\n",
       "    }\n",
       "</style>\n",
       "<table border=\"1\" class=\"dataframe\">\n",
       "  <thead>\n",
       "    <tr style=\"text-align: right;\">\n",
       "      <th></th>\n",
       "      <th>Sector</th>\n",
       "      <th>Amount($)</th>\n",
       "    </tr>\n",
       "  </thead>\n",
       "  <tbody>\n",
       "    <tr>\n",
       "      <th>0</th>\n",
       "      <td>3D Printing, Manufacturing, Product Design</td>\n",
       "      <td>0.0</td>\n",
       "    </tr>\n",
       "    <tr>\n",
       "      <th>1</th>\n",
       "      <td>AI</td>\n",
       "      <td>116346500.0</td>\n",
       "    </tr>\n",
       "    <tr>\n",
       "      <th>2</th>\n",
       "      <td>AI &amp; Data science</td>\n",
       "      <td>8000000.0</td>\n",
       "    </tr>\n",
       "    <tr>\n",
       "      <th>3</th>\n",
       "      <td>AI &amp; Debt</td>\n",
       "      <td>0.0</td>\n",
       "    </tr>\n",
       "    <tr>\n",
       "      <th>4</th>\n",
       "      <td>AI &amp; Deep learning</td>\n",
       "      <td>0.0</td>\n",
       "    </tr>\n",
       "    <tr>\n",
       "      <th>5</th>\n",
       "      <td>AI &amp; Media</td>\n",
       "      <td>3000000.0</td>\n",
       "    </tr>\n",
       "    <tr>\n",
       "      <th>6</th>\n",
       "      <td>AI &amp; Tech</td>\n",
       "      <td>20000000.0</td>\n",
       "    </tr>\n",
       "    <tr>\n",
       "      <th>7</th>\n",
       "      <td>AI Chatbot</td>\n",
       "      <td>0.0</td>\n",
       "    </tr>\n",
       "    <tr>\n",
       "      <th>8</th>\n",
       "      <td>AI Company</td>\n",
       "      <td>6000000.0</td>\n",
       "    </tr>\n",
       "    <tr>\n",
       "      <th>9</th>\n",
       "      <td>AI Platform</td>\n",
       "      <td>8000000.0</td>\n",
       "    </tr>\n",
       "  </tbody>\n",
       "</table>\n",
       "</div>"
      ],
      "text/plain": [
       "                                       Sector    Amount($)\n",
       "0  3D Printing, Manufacturing, Product Design          0.0\n",
       "1                                          AI  116346500.0\n",
       "2                           AI & Data science    8000000.0\n",
       "3                                   AI & Debt          0.0\n",
       "4                          AI & Deep learning          0.0\n",
       "5                                  AI & Media    3000000.0\n",
       "6                                   AI & Tech   20000000.0\n",
       "7                                  AI Chatbot          0.0\n",
       "8                                  AI Company    6000000.0\n",
       "9                                 AI Platform    8000000.0"
      ]
     },
     "execution_count": 161,
     "metadata": {},
     "output_type": "execute_result"
    }
   ],
   "source": [
    "## getting top 10 using head()\n",
    "top_10_industry=industry_totals.head(10)\n",
    "top_10_industry"
   ]
  },
  {
   "cell_type": "code",
   "execution_count": 163,
   "metadata": {},
   "outputs": [
    {
     "name": "stdout",
     "output_type": "stream",
     "text": [
      "                                                Sector     Amount($)\n",
      "757                                             Retail  7.047448e+10\n",
      "816                                       Tech company  3.022700e+09\n",
      "385                                             EdTech  2.641430e+09\n",
      "700                 Multinational conglomerate company  2.200000e+09\n",
      "394                                             Edtech  2.153625e+09\n",
      "..                                                 ...           ...\n",
      "279  Credit Cards, Finance, Mobile Apps, Mobile Pay...  0.000000e+00\n",
      "271                                 Content publishing  0.000000e+00\n",
      "268                                   Content creation  0.000000e+00\n",
      "267                                   Content commerce  0.000000e+00\n",
      "436                                    Fashion startup  0.000000e+00\n",
      "\n",
      "[873 rows x 2 columns]\n"
     ]
    }
   ],
   "source": [
    "# sort amount in decesnding order\n",
    "industry_totals.sort_values(['Amount($)'], ascending = False, inplace=True)\n",
    "print(industry_totals)"
   ]
  },
  {
   "cell_type": "code",
   "execution_count": 179,
   "metadata": {},
   "outputs": [
    {
     "data": {
      "image/png": "[encoded data removed]",
      "text/plain": [
       "<Figure size 640x480 with 1 Axes>"
      ]
     },
     "metadata": {},
     "output_type": "display_data"
    }
   ],
   "source": [
    "plt.title('Top 10 Sectors that received the highest amount of funding')\n",
    "sns.barplot(y=top_10_industry['Sector'],x=top_10_industry['Amount($)'],palette='Blues_d')\n",
    "plt.xlabel('Amount of Funding Received')\n",
    "plt.ylabel('Sector')\n",
    "plt.show()"
   ]
  },
  {
   "cell_type": "markdown",
   "metadata": {},
   "source": [
    "QUESTION 2\n",
    "The HeadQuarters that received the highest funding"
   ]
  },
  {
   "cell_type": "code",
   "execution_count": 173,
   "metadata": {},
   "outputs": [],
   "source": [
    "Headquarter=startup_data.groupby('HeadQuarter').sum(numeric_only=True).reset_index()"
   ]
  },
  {
   "cell_type": "code",
   "execution_count": 174,
   "metadata": {},
   "outputs": [
    {
     "data": {
      "text/html": [
       "<div>\n",
       "<style scoped>\n",
       "    .dataframe tbody tr th:only-of-type {\n",
       "        vertical-align: middle;\n",
       "    }\n",
       "\n",
       "    .dataframe tbody tr th {\n",
       "        vertical-align: top;\n",
       "    }\n",
       "\n",
       "    .dataframe thead th {\n",
       "        text-align: right;\n",
       "    }\n",
       "</style>\n",
       "<table border=\"1\" class=\"dataframe\">\n",
       "  <thead>\n",
       "    <tr style=\"text-align: right;\">\n",
       "      <th></th>\n",
       "      <th>HeadQuarter</th>\n",
       "      <th>Amount($)</th>\n",
       "    </tr>\n",
       "  </thead>\n",
       "  <tbody>\n",
       "    <tr>\n",
       "      <th>103</th>\n",
       "      <td>Mumbai</td>\n",
       "      <td>7.730672e+10</td>\n",
       "    </tr>\n",
       "    <tr>\n",
       "      <th>12</th>\n",
       "      <td>Bangalore</td>\n",
       "      <td>1.649826e+10</td>\n",
       "    </tr>\n",
       "    <tr>\n",
       "      <th>58</th>\n",
       "      <td>Gurugram</td>\n",
       "      <td>4.865832e+09</td>\n",
       "    </tr>\n",
       "    <tr>\n",
       "      <th>28</th>\n",
       "      <td>California</td>\n",
       "      <td>3.078300e+09</td>\n",
       "    </tr>\n",
       "    <tr>\n",
       "      <th>14</th>\n",
       "      <td>Bangalore, Karnataka, India</td>\n",
       "      <td>2.304840e+09</td>\n",
       "    </tr>\n",
       "    <tr>\n",
       "      <th>...</th>\n",
       "      <td>...</td>\n",
       "      <td>...</td>\n",
       "    </tr>\n",
       "    <tr>\n",
       "      <th>101</th>\n",
       "      <td>Mohali, Punjab, India</td>\n",
       "      <td>0.000000e+00</td>\n",
       "    </tr>\n",
       "    <tr>\n",
       "      <th>100</th>\n",
       "      <td>Mohali</td>\n",
       "      <td>0.000000e+00</td>\n",
       "    </tr>\n",
       "    <tr>\n",
       "      <th>97</th>\n",
       "      <td>Mangalore</td>\n",
       "      <td>0.000000e+00</td>\n",
       "    </tr>\n",
       "    <tr>\n",
       "      <th>95</th>\n",
       "      <td>Lucknow, Uttar Pradesh, India</td>\n",
       "      <td>0.000000e+00</td>\n",
       "    </tr>\n",
       "    <tr>\n",
       "      <th>172</th>\n",
       "      <td>Worli, Maharashtra, India</td>\n",
       "      <td>0.000000e+00</td>\n",
       "    </tr>\n",
       "  </tbody>\n",
       "</table>\n",
       "<p>173 rows × 2 columns</p>\n",
       "</div>"
      ],
      "text/plain": [
       "                       HeadQuarter     Amount($)\n",
       "103                         Mumbai  7.730672e+10\n",
       "12                       Bangalore  1.649826e+10\n",
       "58                        Gurugram  4.865832e+09\n",
       "28                      California  3.078300e+09\n",
       "14     Bangalore, Karnataka, India  2.304840e+09\n",
       "..                             ...           ...\n",
       "101          Mohali, Punjab, India  0.000000e+00\n",
       "100                         Mohali  0.000000e+00\n",
       "97                       Mangalore  0.000000e+00\n",
       "95   Lucknow, Uttar Pradesh, India  0.000000e+00\n",
       "172      Worli, Maharashtra, India  0.000000e+00\n",
       "\n",
       "[173 rows x 2 columns]"
      ]
     },
     "execution_count": 174,
     "metadata": {},
     "output_type": "execute_result"
    }
   ],
   "source": [
    "#sort amount in descending order\n",
    "Headquarter.sort_values(['Amount($)'], ascending = False, inplace=True)\n",
    "Headquarter"
   ]
  },
  {
   "cell_type": "code",
   "execution_count": 175,
   "metadata": {},
   "outputs": [
    {
     "data": {
      "text/html": [
       "<div>\n",
       "<style scoped>\n",
       "    .dataframe tbody tr th:only-of-type {\n",
       "        vertical-align: middle;\n",
       "    }\n",
       "\n",
       "    .dataframe tbody tr th {\n",
       "        vertical-align: top;\n",
       "    }\n",
       "\n",
       "    .dataframe thead th {\n",
       "        text-align: right;\n",
       "    }\n",
       "</style>\n",
       "<table border=\"1\" class=\"dataframe\">\n",
       "  <thead>\n",
       "    <tr style=\"text-align: right;\">\n",
       "      <th></th>\n",
       "      <th>HeadQuarter</th>\n",
       "      <th>Amount($)</th>\n",
       "    </tr>\n",
       "  </thead>\n",
       "  <tbody>\n",
       "    <tr>\n",
       "      <th>103</th>\n",
       "      <td>Mumbai</td>\n",
       "      <td>7.730672e+10</td>\n",
       "    </tr>\n",
       "    <tr>\n",
       "      <th>12</th>\n",
       "      <td>Bangalore</td>\n",
       "      <td>1.649826e+10</td>\n",
       "    </tr>\n",
       "    <tr>\n",
       "      <th>58</th>\n",
       "      <td>Gurugram</td>\n",
       "      <td>4.865832e+09</td>\n",
       "    </tr>\n",
       "    <tr>\n",
       "      <th>28</th>\n",
       "      <td>California</td>\n",
       "      <td>3.078300e+09</td>\n",
       "    </tr>\n",
       "    <tr>\n",
       "      <th>14</th>\n",
       "      <td>Bangalore, Karnataka, India</td>\n",
       "      <td>2.304840e+09</td>\n",
       "    </tr>\n",
       "  </tbody>\n",
       "</table>\n",
       "</div>"
      ],
      "text/plain": [
       "                     HeadQuarter     Amount($)\n",
       "103                       Mumbai  7.730672e+10\n",
       "12                     Bangalore  1.649826e+10\n",
       "58                      Gurugram  4.865832e+09\n",
       "28                    California  3.078300e+09\n",
       "14   Bangalore, Karnataka, India  2.304840e+09"
      ]
     },
     "execution_count": 175,
     "metadata": {},
     "output_type": "execute_result"
    }
   ],
   "source": [
    "leading_Headquarter=Headquarter.head()\n",
    "leading_Headquarter"
   ]
  },
  {
   "cell_type": "code",
   "execution_count": 178,
   "metadata": {},
   "outputs": [
    {
     "data": {
      "image/png": "[encoded data removed]",
      "text/plain": [
       "<Figure size 640x480 with 1 Axes>"
      ]
     },
     "metadata": {},
     "output_type": "display_data"
    }
   ],
   "source": [
    "plt.title('Leading HeadQuarters in funding')\n",
    "sns.barplot(y=leading_Headquarter['HeadQuarter'],x=leading_Headquarter['Amount($)'],palette='Reds_d')\n",
    "plt.ylabel('Headquarter')\n",
    "plt.xlabel('Amount of Funding Received')\n",
    "plt.show()"
   ]
  },
  {
   "cell_type": "code",
   "execution_count": null,
   "metadata": {},
   "outputs": [],
   "source": [
    "# Save the merged data to a CSV file\n",
    "startup_data.to_csv('merged_data.csv', index=False)"
   ]
  }
 ],
 "metadata": {
  "kernelspec": {
   "display_name": "Python 3",
   "language": "python",
   "name": "python3"
  },
  "language_info": {
   "codemirror_mode": {
    "name": "ipython",
    "version": 3
   },
   "file_extension": ".py",
   "mimetype": "text/x-python",
   "name": "python",
   "nbconvert_exporter": "python",
   "pygments_lexer": "ipython3",
   "version": "3.10.8"
  }
 },
 "nbformat": 4,
 "nbformat_minor": 2
}
